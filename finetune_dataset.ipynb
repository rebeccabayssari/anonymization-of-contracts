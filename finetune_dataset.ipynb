{
 "cells": [
  {
   "cell_type": "code",
   "execution_count": 1,
   "metadata": {},
   "outputs": [
    {
     "name": "stdout",
     "output_type": "stream",
     "text": [
      "Requirement already satisfied: datasets in c:\\users\\hp\\appdata\\local\\programs\\python\\python312\\lib\\site-packages (3.1.0)\n",
      "Requirement already satisfied: flair in c:\\users\\hp\\appdata\\local\\programs\\python\\python312\\lib\\site-packages (0.15.0)\n",
      "Requirement already satisfied: spacy in c:\\users\\hp\\appdata\\local\\programs\\python\\python312\\lib\\site-packages (3.8.3)\n",
      "Requirement already satisfied: filelock in c:\\users\\hp\\appdata\\local\\programs\\python\\python312\\lib\\site-packages (from datasets) (3.16.1)\n",
      "Requirement already satisfied: numpy>=1.17 in c:\\users\\hp\\appdata\\local\\programs\\python\\python312\\lib\\site-packages (from datasets) (1.26.4)\n",
      "Requirement already satisfied: pyarrow>=15.0.0 in c:\\users\\hp\\appdata\\local\\programs\\python\\python312\\lib\\site-packages (from datasets) (18.1.0)\n",
      "Requirement already satisfied: dill<0.3.9,>=0.3.0 in c:\\users\\hp\\appdata\\local\\programs\\python\\python312\\lib\\site-packages (from datasets) (0.3.8)\n",
      "Requirement already satisfied: pandas in c:\\users\\hp\\appdata\\local\\programs\\python\\python312\\lib\\site-packages (from datasets) (2.2.3)\n",
      "Requirement already satisfied: requests>=2.32.2 in c:\\users\\hp\\appdata\\local\\programs\\python\\python312\\lib\\site-packages (from datasets) (2.32.3)\n",
      "Requirement already satisfied: tqdm>=4.66.3 in c:\\users\\hp\\appdata\\local\\programs\\python\\python312\\lib\\site-packages (from datasets) (4.67.1)\n",
      "Requirement already satisfied: xxhash in c:\\users\\hp\\appdata\\local\\programs\\python\\python312\\lib\\site-packages (from datasets) (3.5.0)\n",
      "Requirement already satisfied: multiprocess<0.70.17 in c:\\users\\hp\\appdata\\local\\programs\\python\\python312\\lib\\site-packages (from datasets) (0.70.16)\n",
      "Requirement already satisfied: fsspec<=2024.9.0,>=2023.1.0 in c:\\users\\hp\\appdata\\local\\programs\\python\\python312\\lib\\site-packages (from fsspec[http]<=2024.9.0,>=2023.1.0->datasets) (2024.9.0)\n",
      "Requirement already satisfied: aiohttp in c:\\users\\hp\\appdata\\local\\programs\\python\\python312\\lib\\site-packages (from datasets) (3.11.9)\n",
      "Requirement already satisfied: huggingface-hub>=0.23.0 in c:\\users\\hp\\appdata\\local\\programs\\python\\python312\\lib\\site-packages (from datasets) (0.26.5)\n",
      "Requirement already satisfied: packaging in c:\\users\\hp\\appdata\\local\\programs\\python\\python312\\lib\\site-packages (from datasets) (24.2)\n",
      "Requirement already satisfied: pyyaml>=5.1 in c:\\users\\hp\\appdata\\local\\programs\\python\\python312\\lib\\site-packages (from datasets) (6.0.2)\n",
      "Requirement already satisfied: boto3>=1.20.27 in c:\\users\\hp\\appdata\\local\\programs\\python\\python312\\lib\\site-packages (from flair) (1.36.8)\n",
      "Requirement already satisfied: conllu<5.0.0,>=4.0 in c:\\users\\hp\\appdata\\local\\programs\\python\\python312\\lib\\site-packages (from flair) (4.5.3)\n",
      "Requirement already satisfied: deprecated>=1.2.13 in c:\\users\\hp\\appdata\\local\\programs\\python\\python312\\lib\\site-packages (from flair) (1.2.18)\n",
      "Requirement already satisfied: ftfy>=6.1.0 in c:\\users\\hp\\appdata\\local\\programs\\python\\python312\\lib\\site-packages (from flair) (6.3.1)\n",
      "Requirement already satisfied: gdown>=4.4.0 in c:\\users\\hp\\appdata\\local\\programs\\python\\python312\\lib\\site-packages (from flair) (5.2.0)\n",
      "Requirement already satisfied: langdetect>=1.0.9 in c:\\users\\hp\\appdata\\local\\programs\\python\\python312\\lib\\site-packages (from flair) (1.0.9)\n",
      "Requirement already satisfied: lxml>=4.8.0 in c:\\users\\hp\\appdata\\local\\programs\\python\\python312\\lib\\site-packages (from flair) (5.3.0)\n",
      "Requirement already satisfied: matplotlib>=2.2.3 in c:\\users\\hp\\appdata\\local\\programs\\python\\python312\\lib\\site-packages (from flair) (3.9.2)\n",
      "Requirement already satisfied: more-itertools>=8.13.0 in c:\\users\\hp\\appdata\\local\\programs\\python\\python312\\lib\\site-packages (from flair) (10.6.0)\n",
      "Requirement already satisfied: mpld3>=0.3 in c:\\users\\hp\\appdata\\local\\programs\\python\\python312\\lib\\site-packages (from flair) (0.5.10)\n",
      "Requirement already satisfied: pptree>=3.1 in c:\\users\\hp\\appdata\\local\\programs\\python\\python312\\lib\\site-packages (from flair) (3.1)\n",
      "Requirement already satisfied: python-dateutil>=2.8.2 in c:\\users\\hp\\appdata\\local\\programs\\python\\python312\\lib\\site-packages (from flair) (2.9.0.post0)\n",
      "Requirement already satisfied: pytorch-revgrad>=0.2.0 in c:\\users\\hp\\appdata\\local\\programs\\python\\python312\\lib\\site-packages (from flair) (0.2.0)\n",
      "Requirement already satisfied: regex>=2022.1.18 in c:\\users\\hp\\appdata\\local\\programs\\python\\python312\\lib\\site-packages (from flair) (2024.11.6)\n",
      "Requirement already satisfied: scikit-learn>=1.0.2 in c:\\users\\hp\\appdata\\local\\programs\\python\\python312\\lib\\site-packages (from flair) (1.6.1)\n",
      "Requirement already satisfied: segtok>=1.5.11 in c:\\users\\hp\\appdata\\local\\programs\\python\\python312\\lib\\site-packages (from flair) (1.5.11)\n",
      "Requirement already satisfied: sqlitedict>=2.0.0 in c:\\users\\hp\\appdata\\local\\programs\\python\\python312\\lib\\site-packages (from flair) (2.1.0)\n",
      "Requirement already satisfied: tabulate>=0.8.10 in c:\\users\\hp\\appdata\\local\\programs\\python\\python312\\lib\\site-packages (from flair) (0.9.0)\n",
      "Requirement already satisfied: torch!=1.8,>=1.5.0 in c:\\users\\hp\\appdata\\local\\programs\\python\\python312\\lib\\site-packages (from flair) (2.5.1)\n",
      "Requirement already satisfied: transformer-smaller-training-vocab>=0.2.3 in c:\\users\\hp\\appdata\\local\\programs\\python\\python312\\lib\\site-packages (from flair) (0.4.0)\n",
      "Requirement already satisfied: transformers<5.0.0,>=4.25.0 in c:\\users\\hp\\appdata\\local\\programs\\python\\python312\\lib\\site-packages (from transformers[sentencepiece]<5.0.0,>=4.25.0->flair) (4.47.0)\n",
      "Requirement already satisfied: wikipedia-api>=0.5.7 in c:\\users\\hp\\appdata\\local\\programs\\python\\python312\\lib\\site-packages (from flair) (0.8.1)\n",
      "Requirement already satisfied: bioc<3.0.0,>=2.0.0 in c:\\users\\hp\\appdata\\local\\programs\\python\\python312\\lib\\site-packages (from flair) (2.1)\n",
      "Requirement already satisfied: spacy-legacy<3.1.0,>=3.0.11 in c:\\users\\hp\\appdata\\local\\programs\\python\\python312\\lib\\site-packages (from spacy) (3.0.12)\n",
      "Requirement already satisfied: spacy-loggers<2.0.0,>=1.0.0 in c:\\users\\hp\\appdata\\local\\programs\\python\\python312\\lib\\site-packages (from spacy) (1.0.5)\n",
      "Requirement already satisfied: murmurhash<1.1.0,>=0.28.0 in c:\\users\\hp\\appdata\\local\\programs\\python\\python312\\lib\\site-packages (from spacy) (1.0.11)\n",
      "Requirement already satisfied: cymem<2.1.0,>=2.0.2 in c:\\users\\hp\\appdata\\local\\programs\\python\\python312\\lib\\site-packages (from spacy) (2.0.10)\n",
      "Requirement already satisfied: preshed<3.1.0,>=3.0.2 in c:\\users\\hp\\appdata\\local\\programs\\python\\python312\\lib\\site-packages (from spacy) (3.0.9)\n",
      "Requirement already satisfied: thinc<8.4.0,>=8.3.0 in c:\\users\\hp\\appdata\\local\\programs\\python\\python312\\lib\\site-packages (from spacy) (8.3.2)\n",
      "Requirement already satisfied: wasabi<1.2.0,>=0.9.1 in c:\\users\\hp\\appdata\\local\\programs\\python\\python312\\lib\\site-packages (from spacy) (1.1.3)\n",
      "Requirement already satisfied: srsly<3.0.0,>=2.4.3 in c:\\users\\hp\\appdata\\local\\programs\\python\\python312\\lib\\site-packages (from spacy) (2.5.0)\n",
      "Requirement already satisfied: catalogue<2.1.0,>=2.0.6 in c:\\users\\hp\\appdata\\local\\programs\\python\\python312\\lib\\site-packages (from spacy) (2.0.10)\n",
      "Requirement already satisfied: weasel<0.5.0,>=0.1.0 in c:\\users\\hp\\appdata\\local\\programs\\python\\python312\\lib\\site-packages (from spacy) (0.4.1)\n",
      "Requirement already satisfied: typer<1.0.0,>=0.3.0 in c:\\users\\hp\\appdata\\local\\programs\\python\\python312\\lib\\site-packages (from spacy) (0.15.1)\n",
      "Requirement already satisfied: pydantic!=1.8,!=1.8.1,<3.0.0,>=1.7.4 in c:\\users\\hp\\appdata\\local\\programs\\python\\python312\\lib\\site-packages (from spacy) (2.10.2)\n",
      "Requirement already satisfied: jinja2 in c:\\users\\hp\\appdata\\local\\programs\\python\\python312\\lib\\site-packages (from spacy) (3.1.4)\n",
      "Requirement already satisfied: setuptools in c:\\users\\hp\\appdata\\local\\programs\\python\\python312\\lib\\site-packages (from spacy) (75.6.0)\n",
      "Requirement already satisfied: langcodes<4.0.0,>=3.2.0 in c:\\users\\hp\\appdata\\local\\programs\\python\\python312\\lib\\site-packages (from spacy) (3.5.0)\n",
      "Requirement already satisfied: jsonlines>=1.2.0 in c:\\users\\hp\\appdata\\local\\programs\\python\\python312\\lib\\site-packages (from bioc<3.0.0,>=2.0.0->flair) (4.0.0)\n",
      "Requirement already satisfied: intervaltree in c:\\users\\hp\\appdata\\local\\programs\\python\\python312\\lib\\site-packages (from bioc<3.0.0,>=2.0.0->flair) (3.1.0)\n",
      "Requirement already satisfied: docopt in c:\\users\\hp\\appdata\\local\\programs\\python\\python312\\lib\\site-packages (from bioc<3.0.0,>=2.0.0->flair) (0.6.2)\n",
      "Requirement already satisfied: botocore<1.37.0,>=1.36.8 in c:\\users\\hp\\appdata\\local\\programs\\python\\python312\\lib\\site-packages (from boto3>=1.20.27->flair) (1.36.8)\n",
      "Requirement already satisfied: jmespath<2.0.0,>=0.7.1 in c:\\users\\hp\\appdata\\local\\programs\\python\\python312\\lib\\site-packages (from boto3>=1.20.27->flair) (1.0.1)\n",
      "Requirement already satisfied: s3transfer<0.12.0,>=0.11.0 in c:\\users\\hp\\appdata\\local\\programs\\python\\python312\\lib\\site-packages (from boto3>=1.20.27->flair) (0.11.2)\n",
      "Requirement already satisfied: wrapt<2,>=1.10 in c:\\users\\hp\\appdata\\local\\programs\\python\\python312\\lib\\site-packages (from deprecated>=1.2.13->flair) (1.17.0)\n",
      "Requirement already satisfied: aiohappyeyeballs>=2.3.0 in c:\\users\\hp\\appdata\\local\\programs\\python\\python312\\lib\\site-packages (from aiohttp->datasets) (2.4.4)\n",
      "Requirement already satisfied: aiosignal>=1.1.2 in c:\\users\\hp\\appdata\\local\\programs\\python\\python312\\lib\\site-packages (from aiohttp->datasets) (1.3.1)\n",
      "Requirement already satisfied: attrs>=17.3.0 in c:\\users\\hp\\appdata\\local\\programs\\python\\python312\\lib\\site-packages (from aiohttp->datasets) (24.2.0)\n",
      "Requirement already satisfied: frozenlist>=1.1.1 in c:\\users\\hp\\appdata\\local\\programs\\python\\python312\\lib\\site-packages (from aiohttp->datasets) (1.5.0)\n",
      "Requirement already satisfied: multidict<7.0,>=4.5 in c:\\users\\hp\\appdata\\local\\programs\\python\\python312\\lib\\site-packages (from aiohttp->datasets) (6.1.0)\n",
      "Requirement already satisfied: propcache>=0.2.0 in c:\\users\\hp\\appdata\\local\\programs\\python\\python312\\lib\\site-packages (from aiohttp->datasets) (0.2.1)\n",
      "Requirement already satisfied: yarl<2.0,>=1.17.0 in c:\\users\\hp\\appdata\\local\\programs\\python\\python312\\lib\\site-packages (from aiohttp->datasets) (1.18.3)\n",
      "Requirement already satisfied: wcwidth in c:\\users\\hp\\appdata\\roaming\\python\\python312\\site-packages (from ftfy>=6.1.0->flair) (0.2.13)\n",
      "Requirement already satisfied: beautifulsoup4 in c:\\users\\hp\\appdata\\local\\programs\\python\\python312\\lib\\site-packages (from gdown>=4.4.0->flair) (4.12.3)\n",
      "Requirement already satisfied: typing-extensions>=3.7.4.3 in c:\\users\\hp\\appdata\\local\\programs\\python\\python312\\lib\\site-packages (from huggingface-hub>=0.23.0->datasets) (4.12.2)\n",
      "Requirement already satisfied: language-data>=1.2 in c:\\users\\hp\\appdata\\local\\programs\\python\\python312\\lib\\site-packages (from langcodes<4.0.0,>=3.2.0->spacy) (1.3.0)\n",
      "Requirement already satisfied: six in c:\\users\\hp\\appdata\\local\\programs\\python\\python312\\lib\\site-packages (from langdetect>=1.0.9->flair) (1.16.0)\n",
      "Requirement already satisfied: contourpy>=1.0.1 in c:\\users\\hp\\appdata\\local\\programs\\python\\python312\\lib\\site-packages (from matplotlib>=2.2.3->flair) (1.3.0)\n",
      "Requirement already satisfied: cycler>=0.10 in c:\\users\\hp\\appdata\\local\\programs\\python\\python312\\lib\\site-packages (from matplotlib>=2.2.3->flair) (0.12.1)\n",
      "Requirement already satisfied: fonttools>=4.22.0 in c:\\users\\hp\\appdata\\local\\programs\\python\\python312\\lib\\site-packages (from matplotlib>=2.2.3->flair) (4.54.1)\n",
      "Requirement already satisfied: kiwisolver>=1.3.1 in c:\\users\\hp\\appdata\\local\\programs\\python\\python312\\lib\\site-packages (from matplotlib>=2.2.3->flair) (1.4.7)\n",
      "Requirement already satisfied: pillow>=8 in c:\\users\\hp\\appdata\\local\\programs\\python\\python312\\lib\\site-packages (from matplotlib>=2.2.3->flair) (10.4.0)\n",
      "Requirement already satisfied: pyparsing>=2.3.1 in c:\\users\\hp\\appdata\\local\\programs\\python\\python312\\lib\\site-packages (from matplotlib>=2.2.3->flair) (3.1.4)\n",
      "Requirement already satisfied: annotated-types>=0.6.0 in c:\\users\\hp\\appdata\\local\\programs\\python\\python312\\lib\\site-packages (from pydantic!=1.8,!=1.8.1,<3.0.0,>=1.7.4->spacy) (0.7.0)\n",
      "Requirement already satisfied: pydantic-core==2.27.1 in c:\\users\\hp\\appdata\\local\\programs\\python\\python312\\lib\\site-packages (from pydantic!=1.8,!=1.8.1,<3.0.0,>=1.7.4->spacy) (2.27.1)\n",
      "Requirement already satisfied: charset-normalizer<4,>=2 in c:\\users\\hp\\appdata\\local\\programs\\python\\python312\\lib\\site-packages (from requests>=2.32.2->datasets) (3.4.0)\n",
      "Requirement already satisfied: idna<4,>=2.5 in c:\\users\\hp\\appdata\\local\\programs\\python\\python312\\lib\\site-packages (from requests>=2.32.2->datasets) (3.10)\n",
      "Requirement already satisfied: urllib3<3,>=1.21.1 in c:\\users\\hp\\appdata\\local\\programs\\python\\python312\\lib\\site-packages (from requests>=2.32.2->datasets) (2.2.3)\n",
      "Requirement already satisfied: certifi>=2017.4.17 in c:\\users\\hp\\appdata\\local\\programs\\python\\python312\\lib\\site-packages (from requests>=2.32.2->datasets) (2024.8.30)\n",
      "Requirement already satisfied: scipy>=1.6.0 in c:\\users\\hp\\appdata\\local\\programs\\python\\python312\\lib\\site-packages (from scikit-learn>=1.0.2->flair) (1.13.1)\n",
      "Requirement already satisfied: joblib>=1.2.0 in c:\\users\\hp\\appdata\\local\\programs\\python\\python312\\lib\\site-packages (from scikit-learn>=1.0.2->flair) (1.2.0)\n",
      "Requirement already satisfied: threadpoolctl>=3.1.0 in c:\\users\\hp\\appdata\\local\\programs\\python\\python312\\lib\\site-packages (from scikit-learn>=1.0.2->flair) (3.5.0)\n",
      "Requirement already satisfied: blis<1.1.0,>=1.0.0 in c:\\users\\hp\\appdata\\local\\programs\\python\\python312\\lib\\site-packages (from thinc<8.4.0,>=8.3.0->spacy) (1.0.2)\n",
      "Requirement already satisfied: confection<1.0.0,>=0.0.1 in c:\\users\\hp\\appdata\\local\\programs\\python\\python312\\lib\\site-packages (from thinc<8.4.0,>=8.3.0->spacy) (0.1.5)\n",
      "Collecting numpy>=1.17 (from datasets)\n",
      "  Using cached numpy-2.0.2-cp312-cp312-win_amd64.whl.metadata (59 kB)\n",
      "Requirement already satisfied: networkx in c:\\users\\hp\\appdata\\local\\programs\\python\\python312\\lib\\site-packages (from torch!=1.8,>=1.5.0->flair) (3.4.2)\n",
      "Requirement already satisfied: sympy==1.13.1 in c:\\users\\hp\\appdata\\local\\programs\\python\\python312\\lib\\site-packages (from torch!=1.8,>=1.5.0->flair) (1.13.1)\n",
      "Requirement already satisfied: mpmath<1.4,>=1.1.0 in c:\\users\\hp\\appdata\\local\\programs\\python\\python312\\lib\\site-packages (from sympy==1.13.1->torch!=1.8,>=1.5.0->flair) (1.3.0)\n",
      "Requirement already satisfied: colorama in c:\\users\\hp\\appdata\\local\\programs\\python\\python312\\lib\\site-packages (from tqdm>=4.66.3->datasets) (0.4.6)\n",
      "INFO: pip is looking at multiple versions of transformer-smaller-training-vocab to determine which version is compatible with other requirements. This could take a while.\n",
      "Collecting transformer-smaller-training-vocab>=0.2.3 (from flair)\n",
      "  Downloading transformer_smaller_training_vocab-0.3.3-py3-none-any.whl.metadata (8.0 kB)\n",
      "Collecting sentencepiece<0.2.0,>=0.1.97 (from transformer-smaller-training-vocab>=0.2.3->flair)\n",
      "  Downloading sentencepiece-0.1.99.tar.gz (2.6 MB)\n",
      "     ---------------------------------------- 0.0/2.6 MB ? eta -:--:--\n",
      "     ----------- ---------------------------- 0.8/2.6 MB 5.6 MB/s eta 0:00:01\n",
      "     ---------------------------------------- 2.6/2.6 MB 8.0 MB/s eta 0:00:00\n",
      "  Preparing metadata (setup.py): started\n",
      "  Preparing metadata (setup.py): finished with status 'error'\n"
     ]
    },
    {
     "name": "stderr",
     "output_type": "stream",
     "text": [
      "  error: subprocess-exited-with-error\n",
      "  \n",
      "  × python setup.py egg_info did not run successfully.\n",
      "  │ exit code: 1\n",
      "  ╰─> [17 lines of output]\n",
      "      Traceback (most recent call last):\n",
      "        File \"<string>\", line 2, in <module>\n",
      "        File \"<pip-setuptools-caller>\", line 34, in <module>\n",
      "        File \"C:\\Users\\hp\\AppData\\Local\\Temp\\pip-install-vt8qegng\\sentencepiece_a9deac16e8f2436cb5db4aad2ea9a3ff\\setup.py\", line 126, in <module>\n",
      "          subprocess.check_call([\n",
      "        File \"C:\\Users\\hp\\AppData\\Local\\Programs\\Python\\Python312\\Lib\\subprocess.py\", line 408, in check_call\n",
      "          retcode = call(*popenargs, **kwargs)\n",
      "                    ^^^^^^^^^^^^^^^^^^^^^^^^^^\n",
      "        File \"C:\\Users\\hp\\AppData\\Local\\Programs\\Python\\Python312\\Lib\\subprocess.py\", line 389, in call\n",
      "          with Popen(*popenargs, **kwargs) as p:\n",
      "               ^^^^^^^^^^^^^^^^^^^^^^^^^^^\n",
      "        File \"C:\\Users\\hp\\AppData\\Local\\Programs\\Python\\Python312\\Lib\\subprocess.py\", line 1026, in __init__\n",
      "          self._execute_child(args, executable, preexec_fn, close_fds,\n",
      "        File \"C:\\Users\\hp\\AppData\\Local\\Programs\\Python\\Python312\\Lib\\subprocess.py\", line 1538, in _execute_child\n",
      "          hp, ht, pid, tid = _winapi.CreateProcess(executable, args,\n",
      "                             ^^^^^^^^^^^^^^^^^^^^^^^^^^^^^^^^^^^^^^^\n",
      "      FileNotFoundError: [WinError 2] The system cannot find the file specified\n",
      "      [end of output]\n",
      "  \n",
      "  note: This error originates from a subprocess, and is likely not a problem with pip.\n",
      "\n",
      "[notice] A new release of pip is available: 24.3.1 -> 25.0.1\n",
      "[notice] To update, run: python.exe -m pip install --upgrade pip\n",
      "error: metadata-generation-failed\n",
      "\n",
      "× Encountered error while generating package metadata.\n",
      "╰─> See above for output.\n",
      "\n",
      "note: This is an issue with the package mentioned above, not pip.\n",
      "hint: See above for details.\n"
     ]
    }
   ],
   "source": [
    "! pip install datasets flair spacy\n"
   ]
  },
  {
   "cell_type": "code",
   "execution_count": null,
   "metadata": {},
   "outputs": [
    {
     "name": "stderr",
     "output_type": "stream",
     "text": [
      "c:\\Users\\hp\\AppData\\Local\\Programs\\Python\\Python312\\Lib\\site-packages\\tqdm\\auto.py:21: TqdmWarning: IProgress not found. Please update jupyter and ipywidgets. See https://ipywidgets.readthedocs.io/en/stable/user_install.html\n",
      "  from .autonotebook import tqdm as notebook_tqdm\n",
      "c:\\Users\\hp\\AppData\\Local\\Programs\\Python\\Python312\\Lib\\site-packages\\huggingface_hub\\file_download.py:139: UserWarning: `huggingface_hub` cache-system uses symlinks by default to efficiently store duplicated files but your machine does not support them in C:\\Users\\hp\\.cache\\huggingface\\hub\\datasets--taln-ls2n--Adminset-NER. Caching files will still work but in a degraded version that might require more space on your disk. This warning can be disabled by setting the `HF_HUB_DISABLE_SYMLINKS_WARNING` environment variable. For more details, see https://huggingface.co/docs/huggingface_hub/how-to-cache#limitations.\n",
      "To support symlinks on Windows, you either need to activate Developer Mode or to run Python as an administrator. In order to activate developer mode, see this article: https://docs.microsoft.com/en-us/windows/apps/get-started/enable-your-device-for-development\n",
      "  warnings.warn(message)\n",
      "Generating train split: 100%|██████████| 729/729 [00:00<00:00, 22573.33 examples/s]\n",
      "Generating validation split: 100%|██████████| 85/85 [00:00<00:00, 14068.74 examples/s]\n"
     ]
    },
    {
     "name": "stdout",
     "output_type": "stream",
     "text": [
      "                                              tokens  \\\n",
      "0  [fin, Procès-Verbal, Conseil, communautaire, d...   \n",
      "1  [Monsieur, MORLET, excuse, Monsieur, Christoph...   \n",
      "2  [Monsieur, MORLET, annonce, le, décès, de, Mon...   \n",
      "3  [Commentaires, ,, débat, Constatant, qu'il, n'...   \n",
      "4  [Page, 4, sur, 15, <, page, >, 4, <, /, page, ...   \n",
      "\n",
      "                                            ner_tags  \n",
      "0  [O, O, O, O, O, O, O, O, O, O, O, O, O, O, O, ...  \n",
      "1  [B-PER, I-PER, O, B-PER, I-PER, I-PER, O, O, O...  \n",
      "2  [B-PER, I-PER, O, O, O, O, B-PER, I-PER, I-PER...  \n",
      "3  [O, O, O, O, O, O, O, O, O, O, O, B-PER, I-PER...  \n",
      "4  [O, O, O, O, O, O, O, O, O, O, O, O, O, O, O, ...  \n"
     ]
    }
   ],
   "source": [
    "from datasets import load_dataset\n",
    "\n",
    "# Load the dataset\n",
    "#Train set: 583 documents /Validation set: 146 documents /Test set: 85 documents\n",
    "#ORG (Organization): 2,246 mentions/PER (Person): 1,856 mentions/LOC (Location): 883 mentions\n",
    "dataset = load_dataset(\"taln-ls2n/Adminset-NER\")\n",
    "\n",
    "\n",
    "import pandas as pd\n",
    "df = pd.DataFrame(dataset['train'])\n",
    "\n",
    "print(df.head())\n"
   ]
  },
  {
   "cell_type": "code",
   "execution_count": 5,
   "metadata": {},
   "outputs": [],
   "source": [
    "\n",
    "# Save as CSV\n",
    "df.to_csv(\"adminset_ner.csv\", index=False, encoding=\"utf-8\")\n",
    "\n",
    "# Save as Parquet (for efficiency)\n",
    "df.to_parquet(\"adminset_ner.parquet\")"
   ]
  },
  {
   "cell_type": "code",
   "execution_count": 10,
   "metadata": {},
   "outputs": [
    {
     "name": "stdout",
     "output_type": "stream",
     "text": [
      "✅ BIO-tagged dataset successfully converted for Flair training.\n"
     ]
    }
   ],
   "source": [
    "import pandas as pd\n",
    "\n",
    "# Example mapping based on dataset's integer labels\n",
    "label_map = {\n",
    "    0: \"O\",  \n",
    "    1: \"B-PER\", 2: \"I-PER\",\n",
    "    3: \"B-ORG\", 4: \"I-ORG\",\n",
    "    5: \"B-LOC\", 6: \"I-LOC\"\n",
    "}\n",
    "\n",
    "# Load dataset (Assuming df is already loaded with \"tokens\" and \"ner_tags\" columns)\n",
    "df = pd.read_parquet(\"adminset_ner.parquet\")\n",
    "\n",
    "\n",
    "# Save as Flair-format \"train.txt\"\n",
    "with open(\"train.txt\", \"w\", encoding=\"utf-8\") as f:\n",
    "    for tokens, tags in zip(df[\"tokens\"], df[\"ner_tags\"]):\n",
    "        for word, tag in zip(tokens, tags):\n",
    "            f.write(f\"{word} {tag}\\n\")\n",
    "        f.write(\"\\n\")  # separate sentences\n",
    "\n",
    "print(\"✅ BIO-tagged dataset successfully converted for Flair training.\")\n"
   ]
  },
  {
   "cell_type": "code",
   "execution_count": 11,
   "metadata": {},
   "outputs": [
    {
     "name": "stdout",
     "output_type": "stream",
     "text": [
      "fin O\n",
      "Procès-Verbal O\n",
      "Conseil O\n",
      "communautaire O\n",
      "du O\n",
      "lundi O\n",
      "19 O\n",
      "juin O\n",
      "2023 O\n",
      "L'an O\n",
      "deux O\n",
      "mille O\n",
      "vingt-trois O\n",
      ", O\n",
      "le O\n",
      "lundi O\n",
      "19 O\n",
      "juin O\n",
      ", O\n",
      "à O\n",
      "18 O\n",
      "heures O\n",
      "30 O\n",
      ", O\n",
      "le O\n",
      "conseil O\n",
      "communautaire O\n",
      "s'est O\n",
      "réuni O\n",
      "à O\n",
      "Coucy B-LOC\n",
      "le I-LOC\n",
      "Château I-LOC\n",
      "conformément O\n",
      "à O\n",
      "l'article O\n",
      "2122-17 O\n",
      "du O\n",
      "Code O\n",
      "général O\n",
      "des O\n",
      "Collectivités O\n",
      "Territoriales O\n",
      "sur O\n",
      "la O\n",
      "convocation O\n",
      "de O\n",
      "Monsieur B-PER\n",
      "Vincent I-PER\n",
      "MORLET I-PER\n"
     ]
    }
   ],
   "source": [
    "# Preview first 20 lines of train.txt\n",
    "with open(\"train.txt\", \"r\", encoding=\"utf-8\") as f:\n",
    "    for _ in range(50):\n",
    "        print(f.readline().strip())\n"
   ]
  },
  {
   "cell_type": "code",
   "execution_count": null,
   "metadata": {},
   "outputs": [
    {
     "name": "stdout",
     "output_type": "stream",
     "text": [
      "2025-03-21 15:03:25,294 Reading data from .\n",
      "2025-03-21 15:03:25,298 Train: train.txt\n",
      "2025-03-21 15:03:25,302 Dev: None\n",
      "2025-03-21 15:03:25,306 Test: None\n",
      "2025-03-21 15:03:27,125 No test split found. Using 10% (i.e. 73 samples) of the train split as test data\n",
      "2025-03-21 15:03:27,129 No dev split found. Using 10% (i.e. 66 samples) of the train split as dev data\n"
     ]
    }
   ],
   "source": [
    "from flair.datasets import ColumnCorpus\n",
    "from flair.models import SequenceTagger\n",
    "from flair.trainers import ModelTrainer\n",
    "\n",
    "columns = {0: 'text', 1: 'ner'}\n",
    "\n",
    "# Load dataset from train.txt\n",
    "data_folder = \".\" \n",
    "corpus = ColumnCorpus(data_folder, columns, train_file='train.txt')"
   ]
  },
  {
   "cell_type": "code",
   "execution_count": 7,
   "metadata": {},
   "outputs": [
    {
     "name": "stdout",
     "output_type": "stream",
     "text": [
      "2025-03-21 14:59:17,584 SequenceTagger predicts: Dictionary with 19 tags: O, S-LOC, B-LOC, E-LOC, I-LOC, S-PER, B-PER, E-PER, I-PER, S-MISC, B-MISC, E-MISC, I-MISC, S-ORG, B-ORG, E-ORG, I-ORG, <START>, <STOP>\n"
     ]
    }
   ],
   "source": [
    "from flair.models import SequenceTagger\n",
    "from flair.trainers import ModelTrainer\n",
    "from flair.datasets import ColumnCorpus\n",
    "\n",
    "# Load the pretrained Flair NER model\n",
    "tagger = SequenceTagger.load(\"flair/ner-french\")\n"
   ]
  },
  {
   "cell_type": "code",
   "execution_count": 13,
   "metadata": {},
   "outputs": [
    {
     "name": "stdout",
     "output_type": "stream",
     "text": [
      "2025-03-21 15:04:37,055 ----------------------------------------------------------------------------------------------------\n",
      "2025-03-21 15:04:37,061 Model: \"SequenceTagger(\n",
      "  (embeddings): StackedEmbeddings(\n",
      "    (list_embedding_0): WordEmbeddings(\n",
      "      '0-/vol/home-vol2/ml/akbikala/.flair/embeddings/fr-wiki-fasttext-300d-1M'\n",
      "      (embedding): Embedding(1000000, 300)\n",
      "    )\n",
      "    (list_embedding_1): FlairEmbeddings(\n",
      "      (lm): LanguageModel(\n",
      "        (drop): Dropout(p=0.5, inplace=False)\n",
      "        (encoder): Embedding(275, 100)\n",
      "        (rnn): LSTM(100, 1024)\n",
      "      )\n",
      "    )\n",
      "    (list_embedding_2): FlairEmbeddings(\n",
      "      (lm): LanguageModel(\n",
      "        (drop): Dropout(p=0.5, inplace=False)\n",
      "        (encoder): Embedding(275, 100)\n",
      "        (rnn): LSTM(100, 1024)\n",
      "      )\n",
      "    )\n",
      "  )\n",
      "  (word_dropout): WordDropout(p=0.05)\n",
      "  (locked_dropout): LockedDropout(p=0.5)\n",
      "  (embedding2nn): Linear(in_features=2348, out_features=2348, bias=True)\n",
      "  (rnn): LSTM(2348, 256, batch_first=True, bidirectional=True)\n",
      "  (linear): Linear(in_features=512, out_features=19, bias=True)\n",
      "  (loss_function): ViterbiLoss()\n",
      "  (crf): CRF()\n",
      ")\"\n",
      "2025-03-21 15:04:37,066 ----------------------------------------------------------------------------------------------------\n",
      "2025-03-21 15:04:37,070 Corpus: 590 train + 66 dev + 73 test sentences\n",
      "2025-03-21 15:04:37,074 ----------------------------------------------------------------------------------------------------\n",
      "2025-03-21 15:04:37,078 Train:  590 sentences\n",
      "2025-03-21 15:04:37,085         (train_with_dev=False, train_with_test=False)\n",
      "2025-03-21 15:04:37,089 ----------------------------------------------------------------------------------------------------\n",
      "2025-03-21 15:04:37,092 Training Params:\n",
      "2025-03-21 15:04:37,096  - learning_rate: \"0.05\" \n",
      "2025-03-21 15:04:37,101  - mini_batch_size: \"16\"\n",
      "2025-03-21 15:04:37,105  - max_epochs: \"5\"\n",
      "2025-03-21 15:04:37,108  - shuffle: \"True\"\n",
      "2025-03-21 15:04:37,112 ----------------------------------------------------------------------------------------------------\n",
      "2025-03-21 15:04:37,115 Plugins:\n",
      "2025-03-21 15:04:37,119  - AnnealOnPlateau | patience: '3', anneal_factor: '0.5', min_learning_rate: '0.0001'\n",
      "2025-03-21 15:04:37,126 ----------------------------------------------------------------------------------------------------\n",
      "2025-03-21 15:04:37,130 Final evaluation on model from best epoch (best-model.pt)\n",
      "2025-03-21 15:04:37,134  - metric: \"('micro avg', 'f1-score')\"\n",
      "2025-03-21 15:04:37,140 ----------------------------------------------------------------------------------------------------\n",
      "2025-03-21 15:04:37,142 Computation:\n",
      "2025-03-21 15:04:37,145  - compute on device: cpu\n",
      "2025-03-21 15:04:37,147  - embedding storage: cpu\n",
      "2025-03-21 15:04:37,150 ----------------------------------------------------------------------------------------------------\n",
      "2025-03-21 15:04:37,154 Model training base path: \"flair_ner_output\"\n",
      "2025-03-21 15:04:37,157 ----------------------------------------------------------------------------------------------------\n",
      "2025-03-21 15:04:37,160 ----------------------------------------------------------------------------------------------------\n"
     ]
    },
    {
     "name": "stderr",
     "output_type": "stream",
     "text": [
      "c:\\Users\\hp\\AppData\\Local\\Programs\\Python\\Python312\\Lib\\site-packages\\flair\\trainers\\trainer.py:545: FutureWarning: `torch.cuda.amp.GradScaler(args...)` is deprecated. Please use `torch.amp.GradScaler('cuda', args...)` instead.\n",
      "  scaler = torch.cuda.amp.GradScaler(enabled=use_amp and flair.device.type != \"cpu\")\n"
     ]
    },
    {
     "name": "stdout",
     "output_type": "stream",
     "text": [
      "2025-03-21 15:04:49,645 epoch 1 - iter 3/37 - loss 0.74722724 - time (sec): 12.48 - samples/sec: 250.30 - lr: 0.050000 - momentum: 0.000000\n",
      "2025-03-21 15:05:08,153 epoch 1 - iter 6/37 - loss 0.66627932 - time (sec): 30.99 - samples/sec: 203.88 - lr: 0.050000 - momentum: 0.000000\n",
      "2025-03-21 15:05:19,730 epoch 1 - iter 9/37 - loss 0.57473571 - time (sec): 42.57 - samples/sec: 208.76 - lr: 0.050000 - momentum: 0.000000\n",
      "2025-03-21 15:05:29,523 epoch 1 - iter 12/37 - loss 0.52576980 - time (sec): 52.36 - samples/sec: 216.58 - lr: 0.050000 - momentum: 0.000000\n",
      "2025-03-21 15:05:43,525 epoch 1 - iter 15/37 - loss 0.48540610 - time (sec): 66.36 - samples/sec: 220.19 - lr: 0.050000 - momentum: 0.000000\n",
      "2025-03-21 15:05:55,694 epoch 1 - iter 18/37 - loss 0.44419270 - time (sec): 78.53 - samples/sec: 220.78 - lr: 0.050000 - momentum: 0.000000\n",
      "2025-03-21 15:06:12,028 epoch 1 - iter 21/37 - loss 0.41243059 - time (sec): 94.86 - samples/sec: 215.20 - lr: 0.050000 - momentum: 0.000000\n",
      "2025-03-21 15:06:29,196 epoch 1 - iter 24/37 - loss 0.39521872 - time (sec): 112.03 - samples/sec: 207.63 - lr: 0.050000 - momentum: 0.000000\n",
      "2025-03-21 15:06:42,244 epoch 1 - iter 27/37 - loss 0.37859526 - time (sec): 125.08 - samples/sec: 209.78 - lr: 0.050000 - momentum: 0.000000\n",
      "2025-03-21 15:06:57,306 epoch 1 - iter 30/37 - loss 0.36353156 - time (sec): 140.14 - samples/sec: 210.21 - lr: 0.050000 - momentum: 0.000000\n",
      "2025-03-21 15:07:11,072 epoch 1 - iter 33/37 - loss 0.34607995 - time (sec): 153.91 - samples/sec: 211.79 - lr: 0.050000 - momentum: 0.000000\n",
      "2025-03-21 15:07:26,328 epoch 1 - iter 36/37 - loss 0.32675604 - time (sec): 169.16 - samples/sec: 211.24 - lr: 0.050000 - momentum: 0.000000\n",
      "2025-03-21 15:07:29,713 ----------------------------------------------------------------------------------------------------\n",
      "2025-03-21 15:07:29,721 EPOCH 1 done: loss 0.3251 - lr: 0.050000\n"
     ]
    },
    {
     "name": "stderr",
     "output_type": "stream",
     "text": [
      "100%|██████████| 2/2 [00:20<00:00, 10.05s/it]"
     ]
    },
    {
     "name": "stdout",
     "output_type": "stream",
     "text": [
      "2025-03-21 15:07:49,857 DEV : loss 0.16310159862041473 - f1-score (micro avg)  0.3686\n",
      "2025-03-21 15:07:49,891  - 0 epochs without improvement\n",
      "2025-03-21 15:07:49,899 saving best model\n"
     ]
    },
    {
     "name": "stderr",
     "output_type": "stream",
     "text": [
      "\n"
     ]
    },
    {
     "name": "stdout",
     "output_type": "stream",
     "text": [
      "2025-03-21 15:07:58,583 ----------------------------------------------------------------------------------------------------\n",
      "2025-03-21 15:08:03,135 epoch 2 - iter 3/37 - loss 0.13673555 - time (sec): 4.54 - samples/sec: 665.32 - lr: 0.050000 - momentum: 0.000000\n",
      "2025-03-21 15:08:06,979 epoch 2 - iter 6/37 - loss 0.16639016 - time (sec): 8.39 - samples/sec: 694.38 - lr: 0.050000 - momentum: 0.000000\n",
      "2025-03-21 15:08:12,785 epoch 2 - iter 9/37 - loss 0.16621130 - time (sec): 14.19 - samples/sec: 650.80 - lr: 0.050000 - momentum: 0.000000\n",
      "2025-03-21 15:08:16,809 epoch 2 - iter 12/37 - loss 0.16850480 - time (sec): 18.22 - samples/sec: 653.69 - lr: 0.050000 - momentum: 0.000000\n",
      "2025-03-21 15:08:24,739 epoch 2 - iter 15/37 - loss 0.16369426 - time (sec): 26.15 - samples/sec: 598.30 - lr: 0.050000 - momentum: 0.000000\n",
      "2025-03-21 15:08:30,297 epoch 2 - iter 18/37 - loss 0.15576502 - time (sec): 31.71 - samples/sec: 593.08 - lr: 0.050000 - momentum: 0.000000\n",
      "2025-03-21 15:08:33,666 epoch 2 - iter 21/37 - loss 0.15896237 - time (sec): 35.07 - samples/sec: 606.76 - lr: 0.050000 - momentum: 0.000000\n",
      "2025-03-21 15:08:39,241 epoch 2 - iter 24/37 - loss 0.16807758 - time (sec): 40.65 - samples/sec: 598.88 - lr: 0.050000 - momentum: 0.000000\n",
      "2025-03-21 15:08:46,658 epoch 2 - iter 27/37 - loss 0.16322830 - time (sec): 48.07 - samples/sec: 573.85 - lr: 0.050000 - momentum: 0.000000\n",
      "2025-03-21 15:08:52,348 epoch 2 - iter 30/37 - loss 0.16186115 - time (sec): 53.76 - samples/sec: 567.83 - lr: 0.050000 - momentum: 0.000000\n",
      "2025-03-21 15:08:57,726 epoch 2 - iter 33/37 - loss 0.16093242 - time (sec): 59.14 - samples/sec: 567.72 - lr: 0.050000 - momentum: 0.000000\n",
      "2025-03-21 15:09:00,583 epoch 2 - iter 36/37 - loss 0.15812812 - time (sec): 61.99 - samples/sec: 579.05 - lr: 0.050000 - momentum: 0.000000\n",
      "2025-03-21 15:09:01,568 ----------------------------------------------------------------------------------------------------\n",
      "2025-03-21 15:09:01,571 EPOCH 2 done: loss 0.1569 - lr: 0.050000\n"
     ]
    },
    {
     "name": "stderr",
     "output_type": "stream",
     "text": [
      "100%|██████████| 2/2 [00:05<00:00,  2.74s/it]"
     ]
    },
    {
     "name": "stdout",
     "output_type": "stream",
     "text": [
      "2025-03-21 15:09:07,090 DEV : loss 0.13610698282718658 - f1-score (micro avg)  0.3889\n",
      "2025-03-21 15:09:07,124  - 0 epochs without improvement\n",
      "2025-03-21 15:09:07,127 saving best model\n"
     ]
    },
    {
     "name": "stderr",
     "output_type": "stream",
     "text": [
      "\n"
     ]
    },
    {
     "name": "stdout",
     "output_type": "stream",
     "text": [
      "2025-03-21 15:09:15,991 ----------------------------------------------------------------------------------------------------\n",
      "2025-03-21 15:09:20,426 epoch 3 - iter 3/37 - loss 0.11712372 - time (sec): 4.43 - samples/sec: 608.07 - lr: 0.050000 - momentum: 0.000000\n",
      "2025-03-21 15:09:26,845 epoch 3 - iter 6/37 - loss 0.14044758 - time (sec): 10.85 - samples/sec: 526.03 - lr: 0.050000 - momentum: 0.000000\n",
      "2025-03-21 15:09:32,697 epoch 3 - iter 9/37 - loss 0.14560692 - time (sec): 16.70 - samples/sec: 515.59 - lr: 0.050000 - momentum: 0.000000\n",
      "2025-03-21 15:09:39,111 epoch 3 - iter 12/37 - loss 0.13680411 - time (sec): 23.12 - samples/sec: 521.14 - lr: 0.050000 - momentum: 0.000000\n",
      "2025-03-21 15:09:44,232 epoch 3 - iter 15/37 - loss 0.13852970 - time (sec): 28.24 - samples/sec: 534.44 - lr: 0.050000 - momentum: 0.000000\n",
      "2025-03-21 15:09:48,603 epoch 3 - iter 18/37 - loss 0.13444670 - time (sec): 32.61 - samples/sec: 540.51 - lr: 0.050000 - momentum: 0.000000\n",
      "2025-03-21 15:09:53,321 epoch 3 - iter 21/37 - loss 0.13179544 - time (sec): 37.33 - samples/sec: 540.78 - lr: 0.050000 - momentum: 0.000000\n",
      "2025-03-21 15:09:59,344 epoch 3 - iter 24/37 - loss 0.12963572 - time (sec): 43.35 - samples/sec: 543.28 - lr: 0.050000 - momentum: 0.000000\n",
      "2025-03-21 15:10:05,623 epoch 3 - iter 27/37 - loss 0.12755914 - time (sec): 49.63 - samples/sec: 547.61 - lr: 0.050000 - momentum: 0.000000\n",
      "2025-03-21 15:10:11,798 epoch 3 - iter 30/37 - loss 0.13053445 - time (sec): 55.80 - samples/sec: 545.21 - lr: 0.050000 - momentum: 0.000000\n",
      "2025-03-21 15:10:16,316 epoch 3 - iter 33/37 - loss 0.12702350 - time (sec): 60.32 - samples/sec: 549.37 - lr: 0.050000 - momentum: 0.000000\n",
      "2025-03-21 15:10:19,648 epoch 3 - iter 36/37 - loss 0.12814343 - time (sec): 63.65 - samples/sec: 559.58 - lr: 0.050000 - momentum: 0.000000\n",
      "2025-03-21 15:10:22,204 ----------------------------------------------------------------------------------------------------\n",
      "2025-03-21 15:10:22,205 EPOCH 3 done: loss 0.1287 - lr: 0.050000\n"
     ]
    },
    {
     "name": "stderr",
     "output_type": "stream",
     "text": [
      "100%|██████████| 2/2 [00:05<00:00,  2.68s/it]"
     ]
    },
    {
     "name": "stdout",
     "output_type": "stream",
     "text": [
      "2025-03-21 15:10:27,605 DEV : loss 0.11926305294036865 - f1-score (micro avg)  0.4411\n",
      "2025-03-21 15:10:27,657  - 0 epochs without improvement\n",
      "2025-03-21 15:10:27,661 saving best model\n"
     ]
    },
    {
     "name": "stderr",
     "output_type": "stream",
     "text": [
      "\n"
     ]
    },
    {
     "name": "stdout",
     "output_type": "stream",
     "text": [
      "2025-03-21 15:10:35,362 ----------------------------------------------------------------------------------------------------\n",
      "2025-03-21 15:10:41,474 epoch 4 - iter 3/37 - loss 0.14165398 - time (sec): 6.11 - samples/sec: 497.03 - lr: 0.050000 - momentum: 0.000000\n",
      "2025-03-21 15:10:46,871 epoch 4 - iter 6/37 - loss 0.12550153 - time (sec): 11.51 - samples/sec: 534.70 - lr: 0.050000 - momentum: 0.000000\n",
      "2025-03-21 15:10:51,969 epoch 4 - iter 9/37 - loss 0.12734751 - time (sec): 16.61 - samples/sec: 540.56 - lr: 0.050000 - momentum: 0.000000\n",
      "2025-03-21 15:10:59,322 epoch 4 - iter 12/37 - loss 0.13307583 - time (sec): 23.96 - samples/sec: 509.75 - lr: 0.050000 - momentum: 0.000000\n",
      "2025-03-21 15:11:04,775 epoch 4 - iter 15/37 - loss 0.12562820 - time (sec): 29.41 - samples/sec: 518.39 - lr: 0.050000 - momentum: 0.000000\n",
      "2025-03-21 15:11:09,591 epoch 4 - iter 18/37 - loss 0.12297706 - time (sec): 34.23 - samples/sec: 532.53 - lr: 0.050000 - momentum: 0.000000\n",
      "2025-03-21 15:11:15,549 epoch 4 - iter 21/37 - loss 0.12149709 - time (sec): 40.19 - samples/sec: 521.41 - lr: 0.050000 - momentum: 0.000000\n",
      "2025-03-21 15:11:21,297 epoch 4 - iter 24/37 - loss 0.11833252 - time (sec): 45.93 - samples/sec: 526.39 - lr: 0.050000 - momentum: 0.000000\n",
      "2025-03-21 15:11:25,755 epoch 4 - iter 27/37 - loss 0.11726026 - time (sec): 50.39 - samples/sec: 538.53 - lr: 0.050000 - momentum: 0.000000\n",
      "2025-03-21 15:11:31,412 epoch 4 - iter 30/37 - loss 0.11485890 - time (sec): 56.05 - samples/sec: 541.99 - lr: 0.050000 - momentum: 0.000000\n",
      "2025-03-21 15:11:37,091 epoch 4 - iter 33/37 - loss 0.12077755 - time (sec): 61.73 - samples/sec: 538.07 - lr: 0.050000 - momentum: 0.000000\n",
      "2025-03-21 15:11:42,818 epoch 4 - iter 36/37 - loss 0.11842117 - time (sec): 67.45 - samples/sec: 532.35 - lr: 0.050000 - momentum: 0.000000\n",
      "2025-03-21 15:11:44,294 ----------------------------------------------------------------------------------------------------\n",
      "2025-03-21 15:11:44,295 EPOCH 4 done: loss 0.1185 - lr: 0.050000\n"
     ]
    },
    {
     "name": "stderr",
     "output_type": "stream",
     "text": [
      "100%|██████████| 2/2 [00:05<00:00,  2.68s/it]"
     ]
    },
    {
     "name": "stdout",
     "output_type": "stream",
     "text": [
      "2025-03-21 15:11:49,706 DEV : loss 0.10879363119602203 - f1-score (micro avg)  0.4497\n",
      "2025-03-21 15:11:49,743  - 0 epochs without improvement\n"
     ]
    },
    {
     "name": "stderr",
     "output_type": "stream",
     "text": [
      "\n"
     ]
    },
    {
     "name": "stdout",
     "output_type": "stream",
     "text": [
      "2025-03-21 15:11:49,746 saving best model\n",
      "2025-03-21 15:11:58,694 ----------------------------------------------------------------------------------------------------\n",
      "2025-03-21 15:12:04,308 epoch 5 - iter 3/37 - loss 0.10833906 - time (sec): 5.61 - samples/sec: 565.65 - lr: 0.050000 - momentum: 0.000000\n",
      "2025-03-21 15:12:10,193 epoch 5 - iter 6/37 - loss 0.11276337 - time (sec): 11.50 - samples/sec: 562.42 - lr: 0.050000 - momentum: 0.000000\n",
      "2025-03-21 15:12:16,069 epoch 5 - iter 9/37 - loss 0.12500639 - time (sec): 17.37 - samples/sec: 554.54 - lr: 0.050000 - momentum: 0.000000\n",
      "2025-03-21 15:12:21,301 epoch 5 - iter 12/37 - loss 0.11547469 - time (sec): 22.60 - samples/sec: 558.57 - lr: 0.050000 - momentum: 0.000000\n",
      "2025-03-21 15:12:27,624 epoch 5 - iter 15/37 - loss 0.11588668 - time (sec): 28.93 - samples/sec: 535.78 - lr: 0.050000 - momentum: 0.000000\n",
      "2025-03-21 15:12:31,323 epoch 5 - iter 18/37 - loss 0.11282076 - time (sec): 32.63 - samples/sec: 554.72 - lr: 0.050000 - momentum: 0.000000\n",
      "2025-03-21 15:12:36,632 epoch 5 - iter 21/37 - loss 0.11011083 - time (sec): 37.94 - samples/sec: 566.44 - lr: 0.050000 - momentum: 0.000000\n",
      "2025-03-21 15:12:43,247 epoch 5 - iter 24/37 - loss 0.11062833 - time (sec): 44.55 - samples/sec: 549.74 - lr: 0.050000 - momentum: 0.000000\n",
      "2025-03-21 15:12:49,009 epoch 5 - iter 27/37 - loss 0.10988868 - time (sec): 50.31 - samples/sec: 547.93 - lr: 0.050000 - momentum: 0.000000\n",
      "2025-03-21 15:12:52,448 epoch 5 - iter 30/37 - loss 0.10822024 - time (sec): 53.75 - samples/sec: 561.66 - lr: 0.050000 - momentum: 0.000000\n",
      "2025-03-21 15:12:56,386 epoch 5 - iter 33/37 - loss 0.10841691 - time (sec): 57.69 - samples/sec: 562.81 - lr: 0.050000 - momentum: 0.000000\n",
      "2025-03-21 15:13:02,070 epoch 5 - iter 36/37 - loss 0.10850682 - time (sec): 63.37 - samples/sec: 560.62 - lr: 0.050000 - momentum: 0.000000\n",
      "2025-03-21 15:13:04,943 ----------------------------------------------------------------------------------------------------\n",
      "2025-03-21 15:13:04,946 EPOCH 5 done: loss 0.1081 - lr: 0.050000\n"
     ]
    },
    {
     "name": "stderr",
     "output_type": "stream",
     "text": [
      "100%|██████████| 2/2 [00:05<00:00,  2.59s/it]"
     ]
    },
    {
     "name": "stdout",
     "output_type": "stream",
     "text": [
      "2025-03-21 15:13:10,172 DEV : loss 0.10304801166057587 - f1-score (micro avg)  0.4828\n",
      "2025-03-21 15:13:10,206  - 0 epochs without improvement\n"
     ]
    },
    {
     "name": "stderr",
     "output_type": "stream",
     "text": [
      "\n"
     ]
    },
    {
     "name": "stdout",
     "output_type": "stream",
     "text": [
      "2025-03-21 15:13:10,208 saving best model\n",
      "2025-03-21 15:13:28,001 ----------------------------------------------------------------------------------------------------\n",
      "2025-03-21 15:13:28,005 Loading model from best epoch ...\n",
      "2025-03-21 15:13:35,709 SequenceTagger predicts: Dictionary with 19 tags: O, S-LOC, B-LOC, E-LOC, I-LOC, S-PER, B-PER, E-PER, I-PER, S-MISC, B-MISC, E-MISC, I-MISC, S-ORG, B-ORG, E-ORG, I-ORG, <START>, <STOP>\n"
     ]
    },
    {
     "name": "stderr",
     "output_type": "stream",
     "text": [
      "100%|██████████| 2/2 [00:17<00:00,  8.98s/it]"
     ]
    },
    {
     "name": "stdout",
     "output_type": "stream",
     "text": [
      "2025-03-21 15:13:54,522 \n",
      "Results:\n",
      "- F-score (micro) 0.6718\n",
      "- F-score (macro) 0.6037\n",
      "- Accuracy 0.5098\n",
      "\n",
      "By class:\n",
      "              precision    recall  f1-score   support\n",
      "\n",
      "         PER     0.9062    0.9255    0.9158        94\n",
      "         ORG     0.5172    0.3571    0.4225        84\n",
      "         LOC     0.6500    0.3714    0.4727        35\n",
      "\n",
      "   micro avg     0.7471    0.6103    0.6718       213\n",
      "   macro avg     0.6912    0.5514    0.6037       213\n",
      "weighted avg     0.7107    0.6103    0.6485       213\n",
      "\n",
      "2025-03-21 15:13:54,524 ----------------------------------------------------------------------------------------------------\n"
     ]
    },
    {
     "name": "stderr",
     "output_type": "stream",
     "text": [
      "\n"
     ]
    },
    {
     "data": {
      "text/plain": [
       "{'test_score': 0.6718346253229974}"
      ]
     },
     "execution_count": 13,
     "metadata": {},
     "output_type": "execute_result"
    }
   ],
   "source": [
    "trainer = ModelTrainer(tagger, corpus)\n",
    "trainer.train(\"flair_ner_output\",\n",
    "              learning_rate=0.05,\n",
    "              mini_batch_size=16,\n",
    "              max_epochs=5)"
   ]
  },
  {
   "cell_type": "code",
   "execution_count": 21,
   "metadata": {},
   "outputs": [
    {
     "name": "stdout",
     "output_type": "stream",
     "text": [
      "2025-04-05 03:19:41,960 SequenceTagger predicts: Dictionary with 19 tags: O, S-LOC, B-LOC, E-LOC, I-LOC, S-PER, B-PER, E-PER, I-PER, S-MISC, B-MISC, E-MISC, I-MISC, S-ORG, B-ORG, E-ORG, I-ORG, <START>, <STOP>\n",
      " Modèle chargé avec succès !\n"
     ]
    }
   ],
   "source": [
    "from flair.models import SequenceTagger\n",
    "from flair.data import Sentence\n",
    "\n",
    "tagger = SequenceTagger.load(\"flair_ner_output/best-model.pt\")\n",
    "\n",
    "print(\" Modèle chargé avec succès !\")\n"
   ]
  },
  {
   "cell_type": "code",
   "execution_count": 22,
   "metadata": {},
   "outputs": [
    {
     "name": "stdout",
     "output_type": "stream",
     "text": [
      " Résultat de l'anonymisation :\n",
      "Sentence[22979]: \"SECRETARIAT GENERAL DIRECTION DES FINANCES , DES ACHATS ET DES SERVICES Numéro de consultation : BPM060225 ACCORD-CADRE RELATIF A DES PRESTATIONS DE VALORISATION DES DONNEES CAHIER DES CLAUSES ADMINISTRATIVES PARTICULIÈRES Numéro de consultation : BPM060225 Procédure de passation : Appel doffres ouvert, en application des articles L2124-1, L2124-2, R2124-2 et R2161-2 à R2161-5 du Code de la commande publique ACHETEUR MINISTERES SOCIAUX SECRETARIAT GENERAL DIRECTION DU NUMERIQUE  CCAP BPM060225_DATAVAL BPM060225 2/48 Table des matières 2.6 Forme et étendue de laccord-cadre 10 2.6.1 Forme de chaque lot 10 2.6.2 Etendue de laccord-cadre 11 2.7 Documents contractuels de laccord-cadre 11 2.8 Représentation des parties de laccord-cadre 12 2.8.1 Représentation du pouvoir adjudicateur 12 2.8.2 Représentation du titulaire 12 2.9 Durée de laccord-cadre 12 2.9.1 Cadre général 12 2.9.2 Reconduction de laccord-cadre 12 Chaque lot peut être reconduit 2 fois par période de 12 mois chacune au plus tôt à compter de la date à laquelle le montant maximum est atteint, ou au plus tard au terme d'un délai dun an à compter de sa date de notification ou de sa reconduction, le cas échéant. La durée totale, reconductions comprises, nexcédera pas quatre ans. 12 2.10Lieu dexécution 13 2.11Forme des notifications et des informations 13 2.12Responsabilité du titulaire 13 2.13Obligations du titulaire 13 2.13.1 Obligation de conseil 13 2.13.2 Obligation dinformation 13 2.13.3 Obligation de confidentialité 14 2.13.4 Mesures de sécurité 14 2.13.5 Mise à disposition des documents relatifs aux politiques et procédures de sécurité 14 2.13.6 Maintien en condition de sécurité 14 2.13.7 Obligation de respect déontologique 15 2.13.8 État de lart 15 2.13.9 Initialisation, Réversibilité et Transférabilité 16  CCAP BPM060225_DATAVAL BPM060225 3/48 2.14Prix de laccord-cadre et des marches subséquents 16 2.14.1 Forme et contenu des prix de la partie à bons de commande de laccord-cadre 16 2.14.2 Révision des prix de la partie à bons de commande de laccord-cadre 16 2.14.3 Etablissement des prix plafonds de laccord-cadre pour les marchés subséquents 18 2.14.4 Révision des prix plafonds de laccord-cadre 18 3.1 Emission et exécution des bons de commande 18 3.2 Délai dexécution des prestations 20 4.1 Les pièces constitutives des marchés subséquents 20 4.2 Forme des marchés subséquents 20 4.3 Modalités de passation des marchés subséquents 20 4.3.1 Modalités de passation 20 4.3.2 Obligation de réponse 21 4.4 Durée des marchés subséquents 21 4.5 Délai dexécution des marchés subséquents 21 5.1 Conditions dexécution 22 5.1.1 Gestion du personnel 22 5.1.2 Mise en place de léquipe technique 22 5.1.3 Remplacement du personnel 22 5.1.4 Délais dexécution des prestations 23 5.2 Pilotage 23 5.3 Exigences relatives aux prestations 23 5.4 Clause dinsertion par lactivité économique 23 5.4.1 Les publics visés 23 5.4.2 Objectif dinsertion 24 5.4.3 Les modalités de mise en œuvre des actions dinsertion. 24 5.4.4 Le dispositif daccompagnement pour la mise en œuvre des clauses sociales 25 5.4.5 Les modalités de contrôle de laction dinsertion 25 5.4.6 Clause RGPD relative au contrôle et au suivi de laction dinsertion 26 5.5 Considérations environnementales 27 5.6 Clauses de réexamen 27 5.6.1 Définitions 27 5.6.2 Modalités de mise en œuvre de la modification / de lajout 28 5.7 Constatation de lexécution des prestations et admission 28  CCAP BPM060225_DATAVAL BPM060225 4/48 5.7.1 Contrôle 28 5.7.2 Opérations de vérification 28 5.7.3 Décision après vérifications 30 5.7.4 Audits 31 5.7.5 Arrêt de lexécution des prestations 31 5.8 Destruction des données 31 5.9 Garantie 32 5.10Pénalités de laccord-cadre et des marches subséquents 32 5.10.1 Pénalités liées à la sécurité 32 5.10.2 Pénalités et primes liées à lexécution des prestations 32 5.10.3 Pénalités liées aux clauses sociales 33 5.10.5 Plafonnement des pénalités 33 Le montant total des pénalités encourues est plafonné à 50 % du montant du bon de commande 33 5.10.6 Seuil dexonération des pénalités 33 5.10.7 Modalités de mise en œuvre des pénalités et primes 34 5.11Régime financier 34 5.11.1 Avance 34 5.11.2 Modalités financières 34 5.11.2.1 Répartition des paiements 34 5.11.2.2 Retenue de garantie et de cautionnement 35 5.11.2.3 Cession et nantissement de créance 35 5.11.2.4 Intérêts moratoires 35 5.11.2.5 Modalités de facturation 35 5.11.2.6 Mentions obligatoires 36 5.11.2.7 Modalités de transmission des factures 37 5.11.2.8 Taux de TVA 38 5.11.2.9 Monnaie 38 5.12 Langue 38 5.13 Sous-traitance 38 5.14Protection des données personnelles 38 5.15régime des droits de propriété intellectuelle 42 5.15.1 Régime des droits sur les résultats 42 5.15.2 Régime des droits sur les connaissances antérieures 43 5.15.3 Prix de la cession des droits 43  CCAP BPM060225_DATAVAL BPM060225 5/48 5.16 Assurances 43 5.17Autres obligations administratives 43 5.18 Résiliation 44 5.19Exécution aux frais et risques du titulaire 45 5.20Dispositions applicables en cas de menace sanitaire grave appelant des mesures durgence 45 5.21Litiges et contentieux 48 5.22 Différends 48  CCAP BPM060225_DATAVAL BPM060225 6/48 Définitions/Glossaire Au sens du présent cahier des clauses administratives particulières (CCAP) et des différents documents particuliers du marché, les termes mentionnés ci-après sont définis comme suit : Pouvoir adjudicateur Acheteur public soumis à lordonnance n°2015-899 du 23 juillet 2015 relative aux marchés publics. Cest le cocontractant du titulaire. Il sagit de la Direction du numérique, et des directions bénéficiaires en charge de la conclusion du marché pour chaque marché subséquent. Département ministériel Partie, secteur de l'administration, constituant un ensemble spécialisé et autonome, attribué à un ministre. Service bénéficiaire Toutes les Directions des Ministères sociaux. Les services bénéficiaires émettent directement leurs bons de commande et concluent leurs marchés subséquents. DFAS Direction des finances, des achats et des services DNUM Direction du numérique DGCS Direction Générale de la cohésion sociale DGEFP Délégation générale à l'emploi et à la formation professionnelle MiTN Mission transformation numérique ARS Agences régionales de santé DGS Direction Générale de la Santé DGOS Direction Générale de l'Offre de Soins Titulaire Opérateur économique signataire du marché Délais Sexpriment en jours calendaires, sauf mention contraire. CCAP Cahier des Clauses Administratives Particulières RH Ressources Humaines Mission Prestation réalisée sur la base dun ou plusieurs bons de commande ou dun marché subséquent en vue datteindre lobjectif cible défini par le pouvoir adjudicateur.  CCAP BPM060225_DATAVAL BPM060225 7/48 Article 1 PREAMBULE- CONTEXTE Les ministères sociaux sont engagés dans une démarche de promotion de la diversité et de légalité Professionnelle entre les femmes et les hommes. A ce titre, ils sont attentifs dans le choix de leurs contractants comme dans la réalisation des prestations, au respect des dispositions législatives et réglementaires en la matière. Au-delà du respect de ces dispositions, les ministères sociaux sont également sensibles aux actions conduites par leurs prestataires dans ce domaine au sein de leur entreprise. Dans ce cadre, un questionnaire relatif aux actions conduites en matière de diversité et dégalité professionnelle entre les femmes et les hommes sera envoyé à la (aux) société(s) retenue(s) dans les jours suivant la notification du marché. Ce questionnaire devra être complété et renvoyé dans le mois suivant sa réception à ladresse suivante : Ministères sociaux Direction des finances, des achats et des services Sous-direction des achats et du développement durable 78-84, rue Olivier-de-Serres CS 59234  75739 PARIS cedex ou par courriel à : DFAS-DADD-RESEAU-ACHAT@sg.social.gouv.fr Article 2 DISPOSITIONS RELATIVES A LACCORD-CADRE 2.1 OBJET DE LACCORD-CADRE Le présent marché a pour objet les prestations nécessaires à la valorisation et au traitement des données des directions et délégations de ladministration centrale des ministères sociaux. Elle permet lachat de prestations de gouvernance et de cadrage de projets décisionnels, de modélisation et de création de bases de données, de chargement et mise en qualité des données, de traitements (croisement de sources de données, calculs dagrégats, traitements algorithmiques) et de mise à disposition des données (Business intelligence, datavisualisation). Le périmètre technologique des projets concernés par ce marché correspond à lensemble des technologies et plateformes de traitement des données présentes aux ministères sociaux. Et quid pour lavenir ? Ce marché ninclut pas lacquisition de progiciels. Le présent marché est un marché de service. Codes CPV de la consultation : 72500000-0 - Services informatiques. 2.2 IDENTIFICATION DES ELEMENTS SOUMIS AU DROIT DE LA PROPRIETE INTELLECTUELLE Les éléments soumis au droit de la propriété intellectuelle sont lensemble des livrables cités dans le CCTP aux articles 5, 6 (lot 1), 7 (lot 2), 8 (lot 3) et 9 (lot 4).  CCAP BPM060225_DATAVAL BPM060225 8/48 2.3 PERIMETRE DE LACCORD-CADRE Les bénéficiaires du présent marché sont toutes les directions et services dadministration centrale des ministères sociaux. La maîtrise dœuvre (MOE) en charge de la définition, de la commande et du pilotage des prestations de maintenance et de développement est la Direction du Numérique (DNUM). Certaines directions disposant de leurs propres ressources pour la conduite et le pilotage des projets informatiques peuvent toutefois être aussi MOE. Dans ce cas, ces directions utilisant directement un des lots, sont responsables de lensemble des prestations quelles commandent. Elles gèrent en autonomie le côté opérationnel depuis la validation des devis, jusquà lémission des PV de SF en passant par toutes les phases intermédiaires. La gouvernance générale du marché est réalisée par la Direction du numérique des ministères sociaux (DNUM). Les directions, utilisant un des lots, participent aux instances de pilotage du marché et se conforment à lensemble des procédures du marché, notamment la règle dattribution des projets. Pour les lots multi- attributaires, la règle du « tour de rôle » est centralisée pour toutes les directions. Le présent marché, conclu par le pouvoir adjudicateur représenté par la Direction du numérique (DNUM) des Ministères Sociaux est ouvert à lensemble des services relevant du périmètre budgétaire des Ministères Sociaux, qui peuvent émettre des bons de commande pour leur besoin propre. Le périmètre du présent marché comprend lensemble des systèmes dinformation data des Directions dadministration centrale des ministères sociaux. Ce périmètre a vocation à senrichir au fur et à mesure de lexécution du présent marché. Il comprend notamment :  Le système dinformation décisionnel de la DGEFP  La base connaissance entreprise (BCE) de la MiTN (DNUM)  Le SI MANDOLINE Décisionnel de la DGCS  Le SI DIAMANT du SCN SI des ARS (DNUM)  Le SI PILO360 de la DGOS  Le SI Aqua-Sise de la DGS  Lensemble des réalisations BI des Directions des ministères sociaux  Lensemble des tableaux de bord des Directions des ministères sociaux A noter que la cartographie (au sens Système dInformation Géographique) est exclue du périmètre du présent marché, sauf quand elle est accessoire et peut être prise en charge dans les outils de production de rapports ou de Dataviz La maîtrise dœuvre (MOE) en charge de la définition, de la commande et du pilotage des prestations de maintenance et de développement est la Direction du NUMérique (DNUM), utilisatrice majoritaire du marché. Certaines directions disposant de leurs propres ressources pour la conduite et le pilotage des projets informatiques peuvent toutefois être aussi MOE. Dans ce cas, ces directions utilisant directement un des lots, sont responsables de lensemble des prestations quelles commandent. Elles gèrent en autonomie le côté opérationnel depuis la validation des devis, jusquà lémission des PV de SF en passant par toutes les phases intermédiaires. La gouvernance générale du marché est réalisée au niveau de la DNUM. Les directions, utilisant un des lots, participent aux instances de pilotage du marché et se conforment à lensemble des procédures du marché, notamment la règle dattribution des projets. Pour les lots multi-attributaires, la règle du « tour de rôle» est centralisée pour toutes les directions.  CCAP BPM060225_DATAVAL BPM060225 9/48 2.4 ALLOTISSEMENT Laccord-cadre est multi attributaire et alloti en 4 lots de la manière suivante : Nom des lots Perimetre Nombre dattributaires maximum Lot 1 Gouvernance de la donnée Définition dune stratégie de valorisation de la donnée  Définition du volet fonctionnel  Définition du volet technique 2 Lot 2 Informatique décisionnelle BI et Dataviz Cadrage et specification du besoin  Collecte et mise en qualité des données  Modélisation et réalisation de lentrepôt de données  Chargement des données et automatisation  Restitution des données 3 Lot 3 Data science et Intelligence artificielle Cadrage et spécification du besoin  Collecte et mise en qualité des données  Traitement algorithmique  Restitution des données 2 Lot 4 Prestations daccompagnement à la valorisation des données Assistance à maîtrise dœuvre de projets data  Expertise technique 1 Les soumissionnaires sont libres de présenter une offre pour chacun des lots. Cependant il existe une règle dexclusivité dattribution entre le lot 4 et les autres lots : - Les lots 1, 2 et 3 peuvent être attribués aux mêmes soumissionnaires ; - Le lot 4 est exclusif des autres lots, il ne peut être attribué quà un seul titulaire autre que ceux retenus sur les lots 1,2 et 3. Le soumissionnaire précise donc, dans le document non-contractuel « ordre de préférence dattribution des lots » (annexe 1 au RC), son ordre de préférence dattribution entre le lot 4 et les lots 1, 2 et 3. Ce document est remis au moment du dépôt de loffre.  CCAP BPM060225_DATAVAL BPM060225 10/48 2.5 PROCEDURE DE PASSATION Le présent accord-cadre est un marché de services, passé selon une procédure dappel doffres ouvert en application des articles L2124-1, L2124-2, R2124-2 et R2161-2 à R2161-5 du Code de la commande publique. 2.6 FORME ET ETENDUE DE LACCORD-CADRE Il sagit dun accord-cadre mixte, qui sexécute par lémission de bons de commande et à marchés subséquents, sans montant minimum mais avec un maximum de 126 000 000 HT sur la durée totale du marché (reconductions comprises), en application des articles R2162-2, R2162-13 et R2162-14 du code de la commande publique. Le montant maximum indiqué ne correspond pas à un engagement de commandes. Pour chaque lot, celui-ci cessera automatiquement de produire ses effets et deviendra caduc si ce montant maximum est atteint. La fin du lot produite par l'atteinte du montant maximum sapplique quelle que soit la durée du lot prévue initialement. laccord-cadre est conclu à compter de sa date de notification pour une période initiale de 2 ans ferme, sauf si le montant maximum est atteint avant cette échéance, il sera ensuite reconductible 2 fois pour une durée pour une durée de 1 an s au plus tôt, à compter de la date à laquelle le montant maximum est atteint ou au plus tard au terme dun délai de : - 2 ans mois à compter de sa date de notification pour la période ferme, - 1 an à compter de sa date de reconduction pour les périodes suivantes. Sans que sa durée totale (toutes reconductions comprises) ne puisse excéder 4 ans 2.6.1 Forme de chaque lot Chaque lot de laccord-cadre est multi-attributaires sauf le lot4 qui est mono-attributaire Le présent document est commun à l'ensemble des lots. Pour chacun des lots, laccord-cadre est exécuté en partie par lémission de bons de commande et une partie donne lieu à la conclusion de marchés subséquents. - Chaque lot est conclu sans minimum mais avec un maximum qui se décompose comme suit : Année 1 & Année 2 Année 3 Année 4 Total Lot 1 12 M 6 M 6 M 24 M Lot 2 36 M 18 M 18 M 72 M Lot 3 9 M 4,5 M 4,5 M 18 M Lot 4 6M 3 M 3 M 12 M - Lestimation pour toute la durée du marché est de 42 M HT qui se répartissent comme suit :  Lot 1 : 8 M HT  Lot 2 : 24 M HT  Lot 3 : 6 M HT  Lot 4 : 4 M HT  CCAP BPM060225_DATAVAL BPM060225 11/48 2.6.2 Etendue de laccord-cadre Partie à bons de commande Pour chacun des lots, la partie à bons de commande de laccord cadre concerne les prestations attendues, chacune de ces unités dœuvre fait lobjet dune évaluation de charge ventilée par profil permettant de la chiffrer dans lannexe financière. Pour des prestations spécifiques du fait de leur nature, leur complexité, ou leur importance, chaque service bénéficiaire pourra conclure des marchés subséquents. Partie à marchés subséquents Dans le cas où la complexité des prestations envisagées ne seraient pas réalisables dans le cadre dun bon de commande, il est prévu de procéder via un marché subséquent. Les cas envisageables pour la mise en œuvre de cette procédure pour lensemble des lots sont les suivants :  Nécessité dapporter des compléments ou des adaptations nécessaires au recours à une méthode de conduite de projet (les méthodes cycles en V, incrémentales ou mode agiles)  Nécessité dadaptation de la gouvernance du lot telle que, la phase dinitialisation sur un projet spécifique.  Pour des prestations spécifiques du fait de leur nature, leur complexité, ou leur importance, chaque service bénéficiaire pourra conclure des marchés subséquents permettant de préciser les caractéristiques et les modalités d'exécution des prestations demandées. Les marchés subséquents seront conclus sous la forme daccord-cadre à bons de commande, sur la base des Unités dœuvre à prix plafond décrites dans le BPU de chaque lot. Dans tous les autres cas on procèdera par simple bon de commande. 2.7 DOCUMENTS CONTRACTUELS DE LACCORD-CADRE Les pièces constitutives de laccord-cadre sont, par ordre de priorité décroissante :  Lacte dengagement et son annexe financière comprenant selon les lots, plusieurs onglets (BPU, charges et profils) ;  Le présent cahier des clauses administratives ;  Le cahier des clauses techniques particulières et ses annexes :  Annexe1 Glossaire  Annexe1 Glossaire  Annexe2 Profils métier nécessaires pour les prestations  Annexe 3 : Cadre de la sécurité : 1) Référentiel Général de Sécurité, version 2.0 (Dataval - RGS_v-2- 0_Corps_du_texte.pdf) ; 2) Politique de Sécurité des Systèmes dInformation des Ministères Sociaux (Dataval PSSI_MCAS_approuvée.pdf) ; 3) Guide dhomologation RGS (Dataval  Homologation_securite_en_9_etapes.pdf) ; 4) Plan assurance sécurité (Dataval Plan-Assurance v0.1.doc) 5) Engagement de confidentialité du titulaire (Dataval EIC.docx) 6) Charte Sécurité applicable aux agents et prestataires (Dataval Charte Accès aux traces et copies.docx).  Annexe 4 : Cadre de laccessibilité Référentiel Général de lAmélioration de lAccessibilité (Dataval RGAA -v4.1.pdf) Circulaire relative à la lisibilité des sites internet de l'État et de la qualité des  CCAP BPM060225_DATAVAL BPM060225 12/48 démarches numériques (DATAVAL - Circulaire_6411-SG.pdf)  Annexe 5 : Cadre de léco-conception Référentiel Général décoconception de services numériques (Dataval rgesn- referentiel-general-ecoconception-v1.0.1.pdf)  Annexe 6 fiche de livraison  Le cahier des clauses administratives générales applicables aux marchés publics de techniques de linformation et de la communication approuvé par larrêté du 30 mars 2021 ;  Loffre technique du titulaire et ses éventuelles annexes dont la méthode dévaluation des charges,  Le plan dassurance securité (PAS) fondé sur le fichier sécurité complété  Le plan dassurance qualité (PAQ) ;  Les actes spéciaux de sous-traitance et leurs avenants postérieurs à la notification de laccord-cadre ;  Un accord de confidentialité, dengagement et de déclaration de reconnaissance des règles de discrétion, de confidentialité et de sécurité informatique. 2.8 REPRESENTATION DES PARTIES DE LACCORD-CADRE 2.8.1 Représentation du pouvoir adjudicateur Dès la notification du marché, lacheteur désigne une ou plusieurs personnes physiques, habilitées à le représenter auprès du titulaire, pour les besoins de lexécution du marché. Dautres personnes physiques peuvent être habilitées par lacheteur en cours dexécution du marché. Lacheteur notifie toute modification de(s) interlocuteur(s) désignés au titulaire. 2.8.2 Représentation du titulaire Le titulaire désigne un ou plusieurs interlocuteurs, habilités à le représenter auprès de lacheteur, pour les besoins de lexécution de laccord-cadre. Cet ou ces interlocuteurs sont désignés dès la notification du marché. Le titulaire sengage à informer dans un délai de 5 jour ouvré, lacheteur de toute modification dinterlocuteur désigné. 2.9 DUREE DE LACCORD-CADRE 2.9.1 Cadre général Chaque lot est conclu pour une durée de 2 ans fermes. La durée de chaque lot court à compter de sa date de notification. 2.9.2 Reconduction de laccord-cadre Chaque lot peut être reconduit 2 fois par période de 12 mois chacune au plus tôt à compter de la date à laquelle le montant maximum est atteint, ou au plus tard au terme d'un délai dun an à compter de sa date de notification ou de sa reconduction, le cas échéant. La durée totale, reconductions comprises, nexcédera pas quatre ans. Dans l'hypothèse où l'accord-cadre ne serait pas reconduit, les bons de commande émis et les marchés subséquents conclus continuent à s'exécuter jusqu'à leur terme dans les conditions définies aux articles 3.2 et 4.3 du présent CCAP.  CCAP BPM060225_DATAVAL BPM060225 13/48 2.10 LIEU DEXECUTION Les prestations s'exécuteront principalement dans les locaux du titulaire. Des réunions de travail pourront avoir lieu dans les locaux des services bénéficiaires. 2.11 FORME DES NOTIFICATIONS ET DES INFORMATIONS Le service bénéficiaire notifie au titulaire les décisions ou informations qui font courir un délai, par tous moyens permettant dattester la date de réception. 2.12 RESPONSABILITE DU TITULAIRE Le titulaire est tenu de mettre en œuvre, dans le cadre des missions qui lui sont confiées, tous les procédés et moyens lui permettant de réaliser les prestations conformément aux spécifications du cahier des charges. Pour les prestations qui lui incombent, le titulaire doit strictement respecter les délais, les coûts et les niveaux de qualité prévus dans les documents contractuels régissant le marché. Les prestations devront être conformes aux prescriptions de l'ensemble des normes homologuées ou à toute norme européenne équivalente. Cette disposition vaut non seulement pour les normes en vigueur au jour de la passation du marché mais également pour toutes les nouvelles normes qui deviendraient effectives en cours d'exécution du marché. Le titulaire reconnaît l'importance cruciale de l'intégration éthique et responsable de l'intelligence artificielle (IA) dans ses activités. Dans cette optique, il s'engage fermement à respecter des principes de développements responsables des technologies basée sur l'IA et à évoluer constamment pour répondre aux défis éthiques émergents dans ce domaine en rapide évolution. 2.13 OBLIGATIONS DU TITULAIRE 2.13.1 Obligation de conseil Le titulaire du marché est tenu à une obligation permanente de conseil et de mise en garde, relative aux matériels, logiciels et prestations fournies à lacheteur. Il est tenu de signaler à lacheteur tous les éléments qui lui paraissent de nature à compromettre la bonne exécution des prestations. Dans ce cadre, le titulaire notifie à lacheteur toute information permettant daméliorer le niveau de sécurité du système dinformation et signaler les difficultés et risques que certains choix peuvent entraîner. Dans lhypothèse où le titulaire ne respecte pas cette obligation, il ne peut se prévaloir dune incohérence dans le marché pour sexonérer de ses obligations contractuelles. Le titulaire a un devoir dalerte sil se rend compte, lors de ses interventions, de dérèglements, de dysfonctionnements ou de dangers potentiels au titre de ses prestations. Ce devoir de conseil et dalerte est formel et fondé sur la production dun rapport qui décrit les risques et menaces et propose des actions pour les réduire. Dans lhypothèse où le titulaire ne respecte pas cette obligation, il ne saurait se prévaloir dune incohérence dans le marché pour sexonérer de ses obligations contractuelles. 2.13.2 Obligation dinformation Le titulaire est tenu de signaler au service bénéficiaire tous les éléments qui lui paraissent de nature à compromettre la bonne exécution de la prestation.  CCAP BPM060225_DATAVAL BPM060225 14/48 2.12.3 Informations sur les vulnérabilités et les incidents de sécurité détectés sur le système dinformation du titulaire (développement, MCO, MCS, etc.) Pour les prestations, produits et services fournis dans le cadre du marché, le titulaire met à disposition un dispositif dinformation dédié à la sécurité informatique (notamment flux RSS/ATOM, liste diffusion par courriel ou autre). Ce dispositif vise à tenir lacheteur informé des événements et changements impactant la sécurité, notamment liés à la connaissance dune vulnérabilité impactant le système (annonce de correctif, attaque en cours, violation de données à caractère personnel si le traitement de données est sous-traité au titulaire), et des mesures correctives ou conservatoires à appliquer. 2.13.3 Obligation de confidentialité Par dérogation à l'article 5.1.1 du CCAG-TIC, une information confidentielle désigne toute information de quelque nature (y inclus la méthodologie, la documentation, les informations ou le savoir-faire), sous quelque forme que ce soit (y inclus sous forme orale, écrite, magnétique ou électronique), sur tout support dont le ministère est propriétaire ou titulaire, et qui est communiquée au titulaire, ou obtenue de toute autre façon par ce dernier dans le cadre de ses relations avec le ministère. Le titulaire et son personnel, et le cas échéant ses sous-traitants, ne peut lutiliser que pour laccomplissement des prestations prévues au marché. Toutefois, nest pas considérée confidentielle toute information :  qui était dans le domaine public au moment de sa divulgation ou que le ministère aurait lui-même rendue publique pendant lexécution du marché ;  signalée comme présentant un caractère non confidentiel et relative aux prestations du marché ;  qui a été communiquée au titulaire du marché par un tiers ayant légalement le droit de diffuser cette information, comme le prouvent des documents existant antérieurement à sa divulgation par le ministère. Les informations sensibles et celles de niveau Diffusion Restreinte (DR) doivent être protégées conformément à linstruction interministérielle n° 901 relative à la protection des systèmes dinformation sensibles. En cas de manipulation dinformations classifiées de défense, le titulaire respecte linstruction générale interministérielle n° 1300 sur la protection du secret de la défense. 2.13.4 Mesures de sécurité Toute personne relevant du titulaire ou de ses sous-traitants est soumise, le cas échéant, à des mesures de sécurité quil sagisse daccès physiques à des locaux ou daccès logiques à des informations. 2.13.5 Mise à disposition des documents relatifs aux politiques et procédures de sécurité Le titulaire met à disposition de lacheteur lensemble des documents relatifs aux politiques et procédures de sécurité à la demande de lacheteur. 2.13.6 Maintien en condition de sécurité Traitement des obsolescences Le titulaire ne doit utiliser que des composants logiciels que léditeur sengage à maintenir pendant la durée du marché. Si la durée du marché dépasse la durée pendant laquelle un éditeur sengage à maintenir un composant logiciel, le titulaire maintient, livre et respecte la feuille de route de migration vers des systèmes maintenus.  CCAP BPM060225_DATAVAL BPM060225 15/48 Correctifs de sécurité Une vérification daptitude ou une vérification de service régulier (VA et VSR) peut être refusée si des composants ne sont pas à jour des correctifs de failles de sécurité. Lacheteur définit les fréquences des livraisons en coordination avec les équipes dexploitation, en fonction des différentes criticités des vulnérabilités concernées. Le titulaire sassure que lapplication des correctifs de sécurité ne modifie pas les performances du système, en modifiant si besoin et à ses frais le système pour maintenir le niveau de performance malgré lapplication du correctif. 2.13.7 Obligation de respect déontologique Les intervenants des titulaires réalisent leurs prestations avec probité et intégrité. Ils veillent à prévenir ou à faire cesser immédiatement tout conflit dintérêts, défini comme une situation dinterférence entre un intérêt public et des intérêts publics ou privés qui est de nature à influencer ou à paraître influencer lexercice indépendant, impartial et objectif de leur profession. Les titulaires et les bénéficiaires du présent accord-cadre sengagent à respecter toutes les mesures déontologiques applicables dans le cadre de lexécution des prestations. Les intervenants doivent être à jour de leurs obligations déontologiques, notamment pour les anciens agents publics (autorisation de la commission de déontologie de ladministration dorigine ou autorisation de lemployeur soumise à approbation de ladministration bénéficiaire). Au-delà des poursuites pénales applicables, ladministration peut être amenée à écarter du suivi du présent accord-cadre toute personne (titulaire ou bénéficiaire) ne respectant pas ces règles. Avant chaque mission, le titulaire, co-traitant ou sous-traitant complète lannexe n°1 du CCAP certifiant labsence de conflit dintérêt ou identifiant les potentiels conflits existants. Elle est communiquée à ladministration sans délai, pour tous les membres de léquipe mobilisée pour la réalisation des prestations. Lannexe est également complétée par lentreprise en tant que personne morale. Cette déclaration est complétée quel que soit le statut de lentreprise mobilisée : mandataire, co-traitant ou sous-traitant. Ladministration bénéficiaire pourra statuer sur les déclarations transmises et prendre les mesures idoines afin de faire cesser tout conflit dintérêt (demande de remplacement, mise en impossibilité dhonorer la commande, etc.). En cas de modification substantielle des intérêts détenus au cours de la prestation, le prestataire et les consultants actualisent leur déclaration dans un délai de quinze jours et selon les mêmes modalités. Tout au long de l'exécution de l'accord-cadre, le titulaire est tenu de déclarer sous sa responsabilité, à l'acheteur toute situation de nature à constituer un conflit d'intérêts. Les titulaires sengagent à ne pas proposer aux agents publics des récompenses en nature qui auraient pour conséquence le non-respect des principes déontologiques. Sont ainsi proscrits les comportements, actifs ou passifs, visant à bénéficier ou faire bénéficier dun avantage quelconque par le biais de récompense en nature (repas, invitation hors cadre professionnel, cadeaux individuels, etc.). Toute action de démarchage ou invitation à des événements promotionnels de la part du titulaire auprès des bénéficiaires est prohibée. Les actions de démarchage ou de prospection sont prohibées. Les missions effectuées à titre gracieux (dites pro bono) au bénéfice des administrations publiques ne doivent donner lieu à aucune contrepartie. Toute mission pro-bono ou mécénat de compétence doit être autorisée par le secrétaire général du ministère concerné . Aucun droit de suite ne peut être accordé au prestataire dune mission pro-bono. En cas de conflit avéré, les prestations pourront être annulées avant le terme du bon de commande en cours. Cette annulation entrainera uniquement le paiement des prestations réellement réalisées. En cas de non-déclaration de conflit dintérêt ou de non-respect des obligations du présent article, des pénalités pourront être appliquées. En cas de conflit dintérêt grave et répété, ou dabsence de déclaration, le marché pourra être résilié. 2.13.8 État de lart Le titulaire garantit à lacheteur quil est conforme à létat de lart pour les services et objets numériques fournis dans le cadre des prestations. A première demande, le titulaire fournit la preuve de conformité. Il précise alors les domaines concernés (interfaces web et courriels), les objets et bases dinformation concernées (appareils  CCAP BPM060225_DATAVAL BPM060225 16/48 connectés, sauvegardes de données, consoles dadministration). Le CCTP décrit les exigences que le titulaire doit respecter pour chaque service ou produit. 2.13.9 Initialisation, Réversibilité et Transférabilité Le titulaire met en œuvre des mesures techniques et organisationnelles pour garantir la sécurité des données et des applications qui lui sont confiées, lors du transfert des prestations de la part du précédent titulaire en conformité avec les réglementations applicables. Durant la phase de transfert, lassurance de la sécurité réside notamment dans  La gestion des accès, habilitations ;  Le transfert de responsabilité ;  La fourniture dinformations nécessitant des mesures de protection adaptées  La gestion de la continuité de lactivité. 2.14 PRIX DE LACCORD-CADRE ET DES MARCHES SUBSEQUENTS 2.14.1 Forme et contenu des prix de la partie à bons de commande de laccord-cadre Les prestations seront rémunérées suivant la forme de prix suivante : Numéro du lot Forme de prix Bon de commandes / Quantité définie Type de prix unitaire Minimum (EUR HT) / Maximum (EUR HT) Variation(s) de prix 1 Prix unitaires BdC BPU Min : sans / Max : 24 M Révisables 2 Prix Unitaires BdC BPU Min : sans / Max : 72 Révisables 3 Prix unitaires BdC BPU Min : sans / Max : 18 M Révisables 4 Prix Unitaires BdC BPU Min : sans / Max : 12 M Révisables Dans le tableau ci-dessus : « BPU » = « bordereau des prix unitaires », « BdC » = « bons de commande » Les prix unitaires figurent dans le bordereau de prix unitaires (onglet 1) annexé à l'acte d'engagement. Les prix sont réputés inclure : - les frais afférents à la réalisation des prestations, - tous les frais annexes et les matériels nécessaires à l'exécution des prestations ; - toutes les charges fiscales, parafiscales ou autres applicables aux prestations. - les frais de déplacement 2.14.2 Révision des prix de la partie à bons de commande de laccord-cadre Par dérogation à larticle 10.2.4 du CCAG de références, les prix sont établis sur la base des conditions économiques en vigueur au mois M0 correspondant au mois de la date limite de remise des offres.  CCAP BPM060225_DATAVAL BPM060225 17/48 Ils sont fermes pour la période initiale de 12 mois. Ils sont par la suite révisés à la demande du titulaire. Cette demande est transmise au pouvoir adjudicateur au plus tard quinze jours après la date anniversaire de la notification du marché. En cas dabsence de demande par le titulaire dans un délai de quinze jours après la date anniversaire, la révision ne pourra avoir lieu. Labsence de production par lordonnateur au comptable dun BPU révisé emportera signification tacite par lordonnateur que la clause de révision nest mise en jeu ni par le titulaire ni par le RPA. Les prix initiaux sont révisables par référence à lindice du coût horaire du travail Tous salariés (ICHT, ICHTrev-TS) édité par lINSEE (www.insee.fr ; identifiant 001565196). Le prix révisé (P) est obtenu par application de la formule suivante : P = P0 (Io / No) Dans laquelle : P = Prix révisé H.T.V.A. P0 = Prix de loffre H.T.V.A. Io = Valeur du dernier indice définitif connu et lu à la date anniversaire de notification de laccord- cadre. No = Valeur de ce même indice diffusé au titre du mois dans lequel est incluse la date limite de dépôt de la dernière offre. Si laccord-cadre est reconduit, il revient au titulaire de soumettre au RPA le nouveau prix révisé ainsi que le détail du calcul de celui-ci, conformément à la formule ci-dessus, dans un délai de deux semaines après la date anniversaire de laccord-cadre (N+2) et (N+3). Modification d'un indice En cas de changement par l'INSEE (ou par un organisme habilité) de la dénomination et/ou de la base de calcul d'un indice avec ou sans coefficient de raccordement associé, ce changement s'applique automatiquement et sans formalités. En cas de suppression par l'INSEE (ou par un organisme habilité) d'un indice et de son remplacement par un autre indice avec ou sans coefficient de raccordement associé, ce remplacement sera notifié par courrier au titulaire par le ministère porteur. Le titulaire disposera dun délai de 21 jour calendaire pour formuler par écrit son éventuel désaccord. Passé ce délai, l'absence de réponse de celui-ci vaudra acceptation du nouvel indice. En cas de désaccord exprimé dans le délai ci-dessus, les parties devront trouver un accord par avenant. Les prix révisés ne sappliqueront que sur les bons de commande notifiés après la date de révision de la période en cours Par Clause butoir : lévolution du prix de règlement résultant de lapplication de la référence dajustement ne peut en aucun cas conduire à une augmentation supérieure à 5% entre deux reconductions successives. Eventuellement, afin de pouvoir vérifier le respect de la clause butoir au moment des ajustements de prix, le détail estimatif daide à la décision (qui sert à lanalyse des offres) sera calculé avec les prix du nouveau document de référence et comparé au détail estimatif daide à la décision initial ou de la reconduction n-1.  CCAP BPM060225_DATAVAL BPM060225 18/48 2.14.3 Etablissement des prix plafonds de laccord-cadre pour les marchés subséquents Les prestations seront rémunérées suivant la forme de prix suivante : Numéro du lot Forme de prix Bon de commandes / Quantité définie Type de prix unitaire Minimum (EUR HT) / Maximum (EUR HT) Variation(s) de prix 1 Prix unitaires BdC BPU Min : sans / Max : 24 M Révisables 2 Prix Unitaires BdC BPU Min : sans / Max : 72 Révisables 3 Prix unitaires BdC BPU Min : sans / Max : 18 M Révisables Dans le tableau ci-dessus : « BPU » = « bordereau des prix unitaires », « BdC » = « bons de commande » Pour chacun des lots, les marchés subséquents seront conclus à prix unitaires. Les prix des marchés subséquents seront inférieurs ou égaux aux prix plafonds de l'accord-cadre. Les prix sont réputés inclure : - les frais afférents à la réalisation des prestations, - tous les frais annexes et les matériels nécessaires à l'exécution des prestations ; - toutes les charges fiscales, parafiscales ou autres applicables aux prestations. 2.14.4 Révision des prix plafonds de laccord-cadre Les prix plafonds sont établis sur la base des conditions économiques en vigueur au mois M0 correspondant au mois de la date limite de remise des offres. En cas de marché subséquent dune durée supérieure à 2 ans, une révision des prix est appliquée dans les conditions de larticle 2.14.2 du présent CCAP. Article 3 MODALITES DEXECUTION DES PRESTATIONS DE LACCORD-CADRE RELEVANT DE LEMISSION DE BONS DE COMMANDE 3.1 EMISSION ET EXECUTION DES BONS DE COMMANDE Les bons de commande sont émis par chaque service bénéficiaire et sont notifiés par tout moyen permettant d'en accuser date de réception certaine. Le point de départ du délai dexécution du bon de commande est la date de sa notification ou à la date de début dexécution des prestations si celle-ci est précisée dans le bon de commande Conformément aux dispositions de larticle R. 2162-14 du code de la commande publique, lémission des bons de commande seffectue sans négociation ni remise en concurrence préalable des titulaires du lot considéré.  CCAP BPM060225_DATAVAL BPM060225 19/48 Lattribution des bons de commande dans le cadre du présent accord-cadre seffectuera de la manière suivante pour chacun des lots multi attributaires (1,2et 3) : Attribution à tour de rôle : sous réserve de lexception indiquée ci-après, les bons de commande sont attribués à tour de rôle, selon lordre de classement des offres obtenu lors de la mise en concurrence initiale. Ainsi, le premier bon de commande est notifié au candidat dont loffre est arrivée en première position du classement lors de la procédure dappel doffres de laccord-cadre, le deuxième bon de commande est attribué au candidat dont loffre est arrivée en deuxième position et ainsi de suite, le roulement reprenant au début une fois lensemble des titulaires sollicités. La mise en place dun marché subséquent sur des prestations spécifiques du fait de leur nature, leur complexité, ou leur importance naltère en rien la règle de roulement du tourniquet. Droit de suite : lorsquun bon de commande a pour objet de permettre la continuité dune même mission, il est attribué au titulaire qui a effectué le début de la mission. Exemple : mise en œuvre dun schéma cible élaboré dans le cadre dune commande précédente. Exception au droit de suite : En cas dapplication de pénalités (pénalité de retard ou pénalité qualitative) lors de lexécution des prestations relatives à la première mission confiée au titulaire, ladministration se laisse la possibilité de ne pas faire droit au droit de suite et de facto dattribuer le bon de commande idoine en appliquant la règle du tour de rôle. Incapacité de réaliser la prestation ou délai irraisonnable pour répondre à la demande de devis de ladministration : le prestataire, peut par voie écrite déclarer son impossibilité de réaliser la prestation, lorsque ladministration le sollicite dans le cadre du tour de rôle. Cette déclaration doit obligatoirement intervenir au maximum 7 jours après que ladministration lai sollicité. Dans ce cas ladministration se réserve la possibilité de passer au titulaire suivant selon lordre du tourniquet. Il en va de même lorsque le titulaire sollicité ne répond pas à la demande de ladministration relative à la remise dun devis dans un délai raisonnable, dans pareil cas ladministration alerte le titulaire en lui laissant un nouveau délai de réponse. En cas dabsence de réponse du titulaire pressenti, ladministration se réserve le droit de passer au titulaire suivant selon lordre du tourniquet. La règle dattribution des bons de commande et sa gouvernance seront gérées par la DNUM. Les directions, utilisant un des lots, participent aux instances de pilotage du marché et se conforment à lensemble des procédures du marché appliquées. Chaque bon de commande précise notamment : - Le numéro et la date du bon de commande (correspondant au numéro de lengagement juridique nécessaire pour la transmission de la facture) - La date démission du bon de commande - Le numéro de laccord-cadre - Le code du service exécutant (ou le code didentification du service en charge du paiement - La désignation et la quantité des prestations commandées - Le prix correspondant hors taxes (HT) et toutes taxes comprises (TTC) - Le montant total (HT et TTC) du bon de commande - La date de livraison prévisionnelle - Le délai dexécution de la prestation - La date de début dexécution du bon de commande le cas échéant - La date de fin dexécution du bon de commande - Les lieux dexécution des prestations - La référence au devis - Le nom de laccord-cadre - La référence de laccord-cadre  CCAP BPM060225_DATAVAL BPM060225 20/48 3.2 DELAI DEXECUTION DES PRESTATIONS Le point de départ du délai dexécution du bon de commande est la date de sa notification ou à la date de début dexécution des prestations si celle-ci est précisée dans le bon de commande. Lorsque le titulaire est mis dans l'impossibilité de respecter le délai contractuel figurant dans le bon de commande ou dans le marché subséquent, il doit formuler une demande expresse de report de délai exposant clairement les circonstances du retard prévu, la date de survenance du fait générateur et le délai supplémentaire demandé dans les conditions prévues au CCAG de référence. Cette demande peut être rejetée et ouvrir droit à sollicitation du prestataire suivant selon les règles du tourniquet. Les bons de commande peuvent être émis jusquau dernier jour de validité de laccord-cadre en application de larticle R 2162-5 du code de la commande publique. Les bons de commandes peuvent sexécuter jusquà maximum 6 mois après la fin du marché pour chaque lot. La résiliation de l'accord-cadre ne remet pas en cause la validité du bon de commande émis avant la date d'effet de la décision de résiliation. Le titulaire est tenu de respecter son engagement contractuel jusqu'à l'admission des prestations. Article 4 MODALITES DEXECUTION DES PRESTATIONS RELEVANT DE LA CONCLUSION DE MARCHES SUBSEQUENTS 4.1 LES PIECES CONSTITUTIVES DES MARCHES SUBSEQUENTS Les pièces constitutives des marchés subséquents sont, pour chaque lot (1,2, et 3) et par ordre de priorité décroissante :  Les pièces contractuelles de laccord-cadre listées à larticle 2.6 dans le même ordre de priorité ;  Lacte d'engagement du marché subséquent et son annexe financière, le bordereau des prix unitaires ;  Le cas échéant, les actes spéciaux de sous-traitance et leurs avenants postérieurs à la notification des marchés ;  Loffre technique du titulaire pour le marché subséquent. 4.2 FORME DES MARCHES SUBSEQUENTS Chaque marché subséquent est conclu sous la forme d'un accord-cadre exécuté à bons de commande. Les marchés subséquents seront mono-attributaires. 4.3 MODALITES DE PASSATION DES MARCHES SUBSEQUENTS 4.3.1 Modalités de passation Pour chaque remise en concurrence, une invitation à remettre une offre et les documents de la consultation sont transmis aux titulaires de l'accord-cadre. La procédure de mise en concurrence dans le cadre des marchés subséquents ne pourra pas donner lieu à des négociations. Le marché est attribué au titulaire de l'accord-cadre candidat présentant l'offre économiquement la plus avantageuse au regard des critères d'attribution suivants :  CCAP BPM060225_DATAVAL BPM060225 21/48 - Critère 1 : critères techniques ( entre 50 % et 70% ) . Sous-critère 1 : compréhension des enjeux et du contexte . Sous-critère 2 : pertinence de la méthodologie ; . Sous-critère 3 : pertinence des profils proposés et organisation de l'équipe; - Critère 2 : Prix (entre 30% et 50 % ) Les modalités de remise des offres sont fixées dans linvitation à soumissionner. 4.3.2 Obligation de réponse Le ou les titulaires du présent marché ont une obligation de réponse à l'ensemble des marchés subséquents. Le ou les titulaires du présent marché qui ne souhaitent pas soumettre d'offre informent et exposent les motifs de sa décision aux ministères sociaux. Cette information doit parvenir, aux ministères sociaux, au plus tard avant la date limite de remise des offres. Faute de motivation satisfaisante ou dans le cas où cette information ne parviendrait pas dans le délai imparti, le titulaire sera considéré comme manquant à son obligation de réponse. Les ministères sociaux apprécient la validité du motif évoqué et se réservent la possibilité de ne pas comptabiliser cette non-réponse dans le cadre de la résiliation pour défaut de réponse aux consultations. En cas d'absence de réponse ou de réponse irrégulière, inacceptable ou inappropriée, les ministères sociaux se réservent le droit de conclure un marché hors du présent marché. La possibilité de conclure un marché distinct est limitée au périmètre des prestations du marché subséquent nayant pas fait lobjet de réponse ou uniquement des réponses irrégulières, inacceptables ou inappropriées. A chaque date danniversaire du présent marché, chaque titulaire est tenu de retourner aux ministères sociaux le bilan annuel par lot, fourni par les ministères sociaux, dûment complété afin de déterminer son taux de réponses aux marchés subséquents passés par les ministères sociaux dans le cadre du présent marché. Les titulaires disposent dune tolérance de 3 non-réponses après sollicitations, sur lobligation de réponse à l'ensemble des marchés subséquents par année de reconduction. En cas de manquement à son obligation de réponse, les ministères sociaux se réservent le droit, à l'égard du titulaire de résilier le marché à l'égard de ce seul titulaire selon les modalités prévues au présent document. 4.4 DUREE DES MARCHES SUBSEQUENTS La durée des marchés subséquents sera fixée en fonction des conditions dexécution habituelles des prestations dont ils feront lobjet. Les marchés subséquents peuvent être conclus jusqu'au dernier jour de validité de l'accord-cadre, mais leur exécution doit être terminée au plus tard 6 mois après la fin de l'accord-cadre. Si le marché subséquent est un accord-cadre à bons de commande, les bons de commande peuvent être émis jusqu'au dernier jour de validité du marché subséquent mais leur exécution doit être terminée au plus tard 3 mois suivant la fin du marché subséquent. La dénonciation ou la résiliation du marché subséquent ne remet pas en cause la validité du bon de commande émis avant la date d'effet de la décision de résiliation ou de dénonciation. Le titulaire du marché subséquent est tenu de respecter son engagement contractuel jusqu'à l'admission des prestations. 4.5 DELAI DEXECUTION DES MARCHES SUBSEQUENTS Le délai d'exécution sera fixé dans chaque marché subséquent ou dans les bons de commande émis par les services bénéficiaires dans le cadre de l'exécution des marchés subséquents.  CCAP BPM060225_DATAVAL BPM060225 22/48 Lorsque le titulaire est mis dans l'impossibilité de respecter le délai contractuel, il doit formuler une demande expresse de report de délai exposant clairement les circonstances du retard prévu, la date de survenance du fait générateur et le délai supplémentaire demandé dans les conditions prévues au CCAG de référence. Article 5 DISPOSITIONS COMMUNES AUX BONS DE COMMANDE ET AUX MARCHES SUBSEQUENTS 5.1 CONDITIONS DEXECUTION 5.1.1 Gestion du personnel En complément des articles 3.3 et 3.4 du CCAG-TIC, dès notification du marché et avant tout commencement dexécution de celui-ci, le titulaire a obligation de transmettre à lacheteur la liste des personnes contribuant à lexécution de la prestation, ainsi que les engagements et déclaration de connaissance des règles de discrétion, de confidentialité et de sécurité informatique (joint en annexe au CCAP). En cas de sous-traitance, lagrément du sous-traitant doit inclure lengagement de reconnaissance de responsabilité signé par le sous-traitant en accompagnement de lagrément du sous-traitant. Le titulaire sensibilise son personnel, intervenant dans le cadre des prestations, à la sécurité de linformation, des systèmes dinformation et aux règles de lacheteur. Le titulaire veille notamment à ce que son personnel intervenant dans le cadre des prestations respecte les dispositions concernant la sécurité du présent marché. 5.1.2 Mise en place de léquipe technique Le titulaire sengage à mettre en place, pendant toute la durée de laccord-cadre, des intervenants dont les profils doivent impérativement respecter ceux mentionnés dans la composition de léquipe affectée au projet (représentant du titulaire et son équipe) laquelle figure dans son offre technique. La composition de léquipe technique du titulaire doit respecter les contraintes décrites à larticle 11.3 du CCTP. Léquipe dédiée à la réalisation des prestations faisant lobjet du présent marché doit respecter une obligation de continuité des prestations (obligation de présence) telle que précisée à larticle 11.2 du CCTP. 5.1.3 Remplacement du personnel En complément de larticle 3.4.2 du CCAG-TIC :  En cas de départ définitif dune personne nommément désignée, affectée par le titulaire à lexécution des prestations du marché, le titulaire doit : o En aviser, sans délai, lacheteur et prendre toutes les dispositions nécessaires, afin dassurer la poursuite de lexécution des prestations ; o Proposer à lacheteur un remplaçant disposant de compétences au moins équivalentes et dont il lui communique le nom, les titres dans un délai dun mois à compter de la date denvoi de lavis mentionné à lalinéa précédent ;  Le remplaçant proposé par le titulaire est considéré comme accepté par lacheteur, si celui-ci ne le récuse pas dans le délai dun mois courant à compter de la réception de la communication mentionnée ci-dessus.  Si lacheteur récuse le remplaçant, le titulaire dispose dun mois pour proposer un autre remplaçant ;  La décision de récusation prise par lacheteur est motivée. A défaut de proposition de remplaçant par le titulaire ou en cas de récusation des remplaçants par lacheteur et plus globalement en cas de non-respect de ses obligations contractuelles relatives au remplacement du personnel peut être résilié dans les conditions prévues à larticle 42.2 du CCAG-TIC. En aucun cas le remplacement du personnel ne peut justifier une augmentation des prix du marché. Pendant toute la durée dexécution des prestations visées au présent marché, lacheteur se réserve le droit de récuser les membres du personnel qui savéreraient inadaptés à lexécution des prestations sur la base  CCAP BPM060225_DATAVAL BPM060225 23/48 des résultats correspondant à une période dessai dun mois. Il motive sa décision après concertation avec le titulaire. Ce dernier procède au remplacement du personnel récusé dans les conditions précisées ci-dessus. 5.1.4 Délais dexécution des prestations Les délais dexécution sont fixés dans le CCTP ou le cas échant dans le bon de commande. Le point de départ du délai dexécution est la date de notification du bon de commande ou la date de début dexécution si celle-ci est précisée dans le bon de commande. Lorsque le titulaire est mis dans limpossibilité de respecter le délai contractuel, il doit formuler une demande expresse de report de délai exposant clairement les circonstances du retard prévu, la date de survenance du fait générateur et le délai supplémentaire demandé dans les conditions prévues au CCAG-TIC. A défaut, des pénalités telles que définies à larticle 5.10 de présent CCAP seront appliquées. 5.2 PILOTAGE Les modalités de pilotage sont définies à larticle 5 du CCTP, chacun des 4 lots fait lobjet dun pilotage spécifique. 5.3 EXIGENCES RELATIVES AUX PRESTATIONS Le titulaire est responsable de tout élément qui lui est confié. Il ne peut en disposer quaux fins prévues par laccord-cadre. Il est notamment responsable de la conservation, de lentretien et de lemploi de tout matériel, objet ou approvisionnement qui lui est confié dès que ce matériel, objet ou approvisionnement est mis effectivement à sa disposition. Il ne peut en disposer quaux fins prévues par le présent accord-cadre. 5.4 CLAUSE DINSERTION PAR LACTIVITE ECONOMIQUE Pour promouvoir lemploi et combattre lexclusion, le pouvoir adjudicateur a décidé de faire application des dispositions de larticle L.2112-2 du Code de la commande publique en incluant dans le cahier des charges du présent marché une clause dinsertion par lactivité économique constitutive dune condition dexécution. Cette clause est applicable au lot 1, au lot 2, au lot 3 et au lot 4. Lentreprise attributaire devra réaliser une action dinsertion qui permette laccès ou le retour à lemploi de personnes rencontrant des difficultés sociales ou professionnelles particulières. 5.4.1 Les publics visés - Les demandeurs demploi de longue durée (plus de 12 mois dinscription au chômage) - Les demandeurs demploi de plus de 50 ans - Les allocataires du RSA (Revenu de Solidarité Active) ou leurs ayants droit - Les allocataires de lAAH (Allocation Adulte Handicapé), de lASS (Allocation de Solidarité Spécifique), de lAV (Allocation Veuvage) - Les personnes percevant une pension dinvalidité - Les publics reconnus travailleurs handicapés, au sens de larticle L 5212-13 du Code du travail, fixant la liste des bénéficiaires de lobligation demploi - Les jeunes de moins de 26 ans, de niveau infra 5, cest-à-dire de niveau inférieur au CAP/BEP, et sortis du système scolaire depuis au moins 6 mois, les jeunes en suivi renforcé de type PACEA, SMA, SMV, en sortie de dispositif Garantie Jeunes ou sous contrat EPIDE, dans un parcours de lEcole de la Deuxième Chance (E2C) - Les personnes prises en charge dans le dispositif IAE (Insertion par lActivité Économique),cest-à- dire les personnes mises à disposition par une Association Intermédiaire (AI) ou parune Entreprise de Travail Temporaire dInsertion (ETTI), ainsi que des salariés duneEntreprise dInsertion (EI), dun  CCAP BPM060225_DATAVAL BPM060225 24/48 Atelier et Chantier dInsertion (ACI), ou encore des Régiesde quartier agrées, ainsi que les personnes prises en charge dans des dispositifs particuliers,par exemple « Défense 2ème chance » - Les personnes employées dans les GEIQ (Groupements dEmployeurs pour lInsertion et la Qualification) et - dans les associations poursuivant le même objet - les personnes placées sous mains de justice employées en régie, dans le cadre du service de lemploi pénitentiaire / régie des établissements pénitentiaires (SEP / RIEP) ou affectées à un emploi auprès dun concessionnaire de ladministration pénitentiaire - Les personnes ayant le statut de réfugié ou bénéficiaires de la protection subsidiaire - Les habitants des quartiers prioritaires de la politique de la ville éloignés de lemploi. En outre, dautres personnes rencontrant des difficultés particulières peuvent, sur avis motivé de lEPEC, être considérées comme relevant des publics les plus éloignés de lemploi. Les bénéficiaires de laction dinsertion devront impérativement relever de ces catégories. 5.4.2 Objectif dinsertion Le volume horaire de travail minimum suivant lheure est obligatoirement réservé : Nombre dheures dinsertion à réaliser par année dexécution du marché. En cas de reconduction, le volume dheure dinsertion est reconduit à lidentique. Lot 1 - Gouvernance de la donnée 1 heure dinsertion à réaliser pour chaque tranche de 2500 HT facturés Lot 2 - Informatique décisionnelle BI et Dataviz 1 heure dinsertion à réaliser pour chaque tranche de 2500 HT facturés Lot 3 - Data science et Intelligence Artificielle 1 heure dinsertion à réaliser pour chaque tranche de 2500 HT facturés Lot 4 - Accompagnement à la valorisation des données 1 heure dinsertion à réaliser pour chaque tranche de 2500 HT facturés 5.4.3 Les modalités de mise en œuvre des actions dinsertion. Lattributaire sengage à réaliser une action dinsertion, au minimum à hauteur des objectifs horaires dinsertion fixés ci-dessus. L'ensemble des actions mises en œuvre doivent intervenir durant la période d'exécution du marché. Si la formation fait partie du contrat de travail (contrat de professionnalisation, contrat d'apprentissage, etc.), les heures de formation sont comptabilisées au titre des heures d'insertion. Lattributaire désignera un responsable qui sera linterlocuteur privilégié de lEPEC pour mettre en œuvre les actions dinsertion. Cet objectif peut être réalisé en utilisant une ou plusieurs des modalités définies ci-après ;  1ère modalité : lembauche directe par lentreprise - Lentreprise peut recruter notamment en contrat à durée indéterminée [CDI], en contrat à durée déterminée [CDD] ou par le biais de contrats en alternance (contrat de professionnalisation ou contrat dapprentissage) des publics définis préalablement. - Les heures travaillées des personnes embauchées en CDI par lentreprise attributaire, pourront être comptabilisées pour lexécution de la clause sociale dinsertion, pendant toute la durée restante du marché, pour une période maximale de 4 ans (période entre la date dembauche en CDI et la fin du marché).  CCAP BPM060225_DATAVAL BPM060225 25/48 Un tuteur sera nommé pour faciliter lintégration des personnes en insertion au sein de lentreprise attributaire et pour assurer leur suivi en liaison avec lEPEC.  2ème modalité : la mise à disposition de salariés Lentreprise peut faire appel à un organisme extérieur qui met à sa disposition des salariés en insertion pendant la durée du marché. Il peut sagir dune Entreprise de travail temporaire dinsertion, dune Association intermédiaire ou dun Groupement demployeurs pour linsertion et la qualification.  3ème modalité : le recours à la sous-traitance ou à la cotraitance avec une Entreprise dinsertion, un Atelier et Chantier dinsertion ou dune Entreprise adaptée. Lentreprise peut sous-traiter ou co-traiter des prestations en lien avec lobjet du marché à une Entreprise dinsertion, un Atelier et Chantier dinsertion ou une Entreprise adaptée. 5.4.4 Le dispositif daccompagnement pour la mise en œuvre des clauses sociales Afin de faciliter la mise en œuvre de la démarche dinsertion, le pouvoir adjudicateur a mis en place une procédure spécifique daccompagnement coordonnée par lEPEC. Rebeca GOMIS Chargée de projets clauses sociales et relation entreprises rebeca.gomis@epec.paris Dans ce cadre, lEPEC a pour mission :  Informer lentreprise attributaire des modalités de mise en œuvre de la clause sociale ;  Accompagner lentreprise dans la recherche de candidats éligibles à la clause sociale (fiche de poste établie conjointement entre lentreprise et lEPEC) ;  Accompagner lentreprise dans la mise en œuvre dactions de formation ;  Organiser le suivi des publics jusquà la fin de la période dintégration dans lemploi avec le concours de structures spécialisées ;  Informer et orienter lentreprise en direction des structures dinsertion par lactivité économique (SIAE) du territoire parisien concerné par la spécificité du marché ;  Suivre la bonne exécution de la clause dinsertion. 5.4.5 Les modalités de contrôle de laction dinsertion Un contrôle de lexécution des actions dinsertion est effectué par lEPEC à deux niveaux : un contrôle de léligibilité des publics et un contrôle de lexécution des heures. Le contrôle de léligibilité des publics exige la transmission par lentreprise à lEPEC de pièces justificatives. Une liste mentionnant les documents justificatifs à fournir en fonction des critères déligibilité sera transmise au titulaire après la notification du marché. Les informations transmises seront traitées en conformité avec les règles applicables au traitement des données à caractère personnel (dispositions de larticle du CCAP relatif à la clause RGPD). A la demande du pouvoir adjudicateur, le titulaire fournit, à date fixe (31 mars, 30 juin, 30 septembre et 31 décembre) et avant le 15 du mois suivant, tous les renseignements qui permettent le contrôle de lexécution et l'évaluation des actions réalisées au cours du trimestre conformément à la liste qui lui a été fournie.  CCAP BPM060225_DATAVAL BPM060225 26/48 Ces éléments sont envoyés au pouvoir adjudicateur (DNUM : olivier.burguiere@sg.social.gouv.fr ) et aux destinataires suivants de lEPEC : beatrice.calvet@epec.paris et rebeca.gomis@epec.paris Labsence ou le refus de transmission de ces renseignements entraîne lapplication de pénalités prévues à larticle X du présent CCAP. En tout état de cause, le prestataire doit informer le pouvoir adjudicateur, par courrier recommandé avec AR, sil rencontre des difficultés pour faire face à son engagement dinsertion. Dans ce cas, lEPEC étudiera avec le titulaire les moyens à mettre en œuvre pour parvenir aux objectifs dinsertion auxquels il sest engagé. A lissue du marché, lentreprise titulaire sengage à étudier toutes les possibilités dembauches ultérieures des personnes en insertion formées pendant lexécution du marché. 5.4.6 Clause RGPD relative au contrôle et au suivi de laction dinsertion Le titulaire est informé que la gestion des données personnelles permettant le suivi et le contrôle de laction dinsertion est confiée à lEPEC. Ces données personnelles seront traitées dans le logiciel CLAUSE développé par la société ARCHE MC2 qui a fait lobjet dune déclaration à la CNIL. A ce titre, les bénéficiaires, les représentants de lentreprise, les représentants du donneur dordre, les représentants de tous partenaires impliquées dans la mise en application des considérations sociales dinsertion sont informés que les informations recueillies sont enregistrées dans un fichier informatisé pour réaliser le suivi dans le cadre du dispositif. LEPEC est responsable du traitement des données collectées. Les données sont conservées pendant une durée de : - 48 mois à compter de la date dentrée dans le dispositif de la personne et 24 mois après la fin du marché concerné. Dans le cadre de la charte insertion NPNRU, ces informations devront être conservées jusquen 2032 inclus. - En labsence de positionnement sur un emploi, les données seront conservées 6 mois maximum. Durant cette période, lEPEC met en place tous moyens pour assurer la confidentialité et la sécurité des données personnelles, de manière à empêcher leur endommagement, effacement ou accès par des tiers non autorisés. Ces durées de conservations ne pourront sappliquer si : - Le titulaire exerce son droit de suppression des données le concernant, dans les conditions décrites ci-après ; - Une durée de conservation plus longue est autorisée ou imposée en vertu dune obligation légale ou réglementaire. Laccès aux données personnelles est strictement limité aux services de lEPEC et à ses partenaires emploi/insertion susceptibles dintervenir et daccompagner les démarches. Ils sont soumis à une obligation de confidentialité et ne peuvent utiliser ces données quen conformité avec les dispositions contractuelles et la législation applicable. Ces organismes et lEPEC sengagent à ne pas vendre, louer, céder ni donner accès à des tiers aux données sans le consentement préalable du titulaire, à moins dy être contraint en raison dun motif légitime (obligation légale, lutte contre la fraude ou labus, exercice des droits de la défense, etc.). Conformément à la loi « Informatique et Libertés » du 6 janvier 1978 modifiée et au Règlement européen n°2016/679/UE du 27 avril 2016 (applicable dès le 25 mai 2018), le titulaire bénéficie dun droit daccès, de rectification, de portabilité et deffacement de ses données ou encore délimitation du traitement des données. Le titulaire peut également, pour des motifs légitimes, sopposer à leur traitement. Sous réserve de la production dun justificatif didentité valide, le titulaire peut exercer ses droits en contactant lEPEC par email à ladresse suivante dpo@epec.paris ou par courrier : Ensemble Paris Emploi Compétences 18 rue Goubet, 75019 Paris.  CCAP BPM060225_DATAVAL BPM060225 27/48 Pour toute information complémentaire ou réclamation, la Commission Nationale de lInformatique et des Libertés peut être contactée : Commission Nationale de lInformatique et des Libertés (CNIL) 3 Place de Fontenoy TSA 80715 75334 PARIS CEDEX 07 La non-fourniture ou la non-autorisation de la transmission de ces informations entraînera limpossibilité de donner une suite à ce positionnement. 5.5 CONSIDERATIONS ENVIRONNEMENTALES Le présent marché public comprend des exigences environnementales décrit suivant larticle 3.3 du CCTP 5.6 CLAUSES DE REEXAMEN Ces dispositions viennent en complément de larticle 27 du CCAG-TIC. 5.6.1 Définitions Conformément à larticle R. 2194-1 du code de la commande publique, en cours dexécution du présent accord-cadre, des modifications et/ou des ajouts de prestation(s) peuvent intervenir, soit à linitiative de ladministration, soit à celle du titulaire, soit par le biais dune évolution réglementaire et/ou normative, soit par une évolution ou innovation technique ou technologique nécessaire. Ces modifications et/ou ajouts ne remettent pas en cause la nature globale du présent accord-cadre. Une évolution de périmètre du marché nentre pas dans le champ de la clause de réexamen et fera donc lobjet dun avenant précisant la nature des modifications et léventuel impact financier. Cette clause sera mise en œuvre à travers une réunion dédiée entre le représentant de lacheteur et le titulaire lorsquune des causes précitées de sa mise en œuvre interviendra. - Modifications et ajouts de prestation(s) à linitiative du titulaire : Le titulaire peut procéder à des modifications et/ou des ajouts dune (des) prestation(s) objet de laccord-cadre afin de faire suite à des évolutions dordre technique ou technologique desdits prestations. Ces modifications et/ou ajouts de prestation(s) peuvent consister en la mise en place de nouvelles fonctionnalités permettant la production de documents enrichis, non connues au moment du lancement de la procédure et donc non prévues dans loffre initiale du titulaire. Toute modification ne sera possible quaprès accord explicite de ladministration. Les mises à jour documentaires consécutives à ces modifications seront rédigées et prises en charge par le titulaire. Toutefois, il est entendu que ces modifications et/ou ajouts ne peuvent avoir pour effet de changer la nature globale de laccord-cadre. Le prix net de la prestation modifiée ou ajoutée est déterminé comme suit : le titulaire justifie par tout moyen léquivalence des conditions économiques entre la prestation modifiée/ajoutée et la prestation analogue à laccord-cadre, notamment par la communication de son taux de marge. En tout état de cause :  la prestation modifiée est conforme aux spécifications fonctionnelles prévues au présent accord-cadre et doit être techniquement équivalente ou supérieure à la prestation proposée ; ET/OU  CCAP BPM060225_DATAVAL BPM060225 28/48 la prestation ajoutée est conforme à lobjet de laccord-cadre et en lien direct (déclinaison ou accessoire) avec la prestation dudit laccord-cadre ; elle est également nécessaire à sa bonne exécution. - Modifications et ajouts par suite dune évolution réglementaire et/ou normative : En cours dexécution de laccord-cadre, une évolution de la réglementation ou des normes applicables au présent marché peut avoir pour effet de rendre obligatoire la modification de loffre consistant en la modification/lajout ou de prestations. La situation décrite ci-dessus peut avoir des conséquences sur :  Les prix des prestations indiqués en annexe à lacte dengagement ;  La composition des prestations (modifications, ajouts) et par voie de conséquence, sur les prix correspondants. En tout état de cause, les éventuels nouveaux prix ne sauraient excéder le simple coût de la mise en place des nouvelles mesures prises et applicables de plein droit à laccord-cadre. 5.6.2 Modalités de mise en œuvre de la modification / de lajout Le titulaire est tenu de soumettre à la DNUM un dossier motivé au plus tard deux (2) mois après la réunion dédiée à la clause. Le dossier contient notamment, sil y a lieu :  le contenu de la prestation ;  les livrables associés ;  les éléments liés à la recette ;  le délai de réalisation ;  les coûts relatifs à la prestation  Toute autre demande de ladministration le cas échéant. A compter de la réception du dossier complet susvisé, la DNUM dispose dun délai de trente (30) jours calendaires pour valider la modification ou lajout. Une fois la demande de modification ou dajout acceptée par la DNUM un avenant est établi par ladministration. En cas de désaccord entre les parties, le litige sera porté devant le Comité consultatif de règlement amiable des différends ou litiges relatifs aux marchés publics conformément à L2197-3 du code de la commande publique. Dans le cadre du présent marché le comité compétent est le Comité consultatif national de règlement amiable des différends ou litiges relatifs aux marchés publics. Les litiges qui ne reçoivent pas de solution amiable relèvent du tribunal administratif de Paris. 5.7 CONSTATATION DE LEXECUTION DES PRESTATIONS ET ADMISSION 5.7.1 Contrôle Les opérations de contrôle sont effectuées en application du CCAG-TIC. 5.7.2 Opérations de vérification Lensemble de ces opérations est prononcé par le pouvoir adjudicateur.  CCAP BPM060225_DATAVAL BPM060225 29/48 La réception des prestations est réalisée à partir dun Bordereau de Livraison (BL), produit par le titulaire, quelle que soit leur nature : livrable documentaire, programme source, script, données Si plusieurs UOs dun même bon de commande sont livrés simultanément, il est possible de némettre quun seul BL. Le BL récapitule lensemble des livrables constituant la livraison précisant leur version et leur mode de livraison (Git, Sharepoint, mail). Selon la nature des livrables, les opérations de vérification sont différentes :  Livrables uniquement documentaires : le ministère débute directement la phase de validation des livrables documentaires ;  Livrables contenant du code, accompagnés éventuellement de documents. La réception est réalisée en 3 étapes donnant lieu chacune à un PV spécifique : o La Mise en Ordre de Marche (MOM) ; o La Vérification dAptitude (VA) ; o La Vérification de Service Régulier (VSR).  Validation des livrables documentaires Le titulaire remet pour validation les livrables documentaires dans un format qui permet au Ministère de modifier afin quil puisse formuler ses réserves directement dans le document : remarques, proposition de modification Le Ministère peut également émettre une fiche de relecture si cela lui semble plus opportun. Le délai de validation est précisé dans le bon de commande. Il est compris entre 2 semaines et 2 mois. Par défaut, il est dun mois. En cas de réserve, le titulaire dispose de 2 semaines pour les prendre en considération et livrer une nouvelle version pour validation. Pour les prestations « hybrides » ne comportant pas uniquement des livrables documentaires, cest le régime de la mise en ordre de marche, de la vérification daptitude et de la vérification du service régulier qui sapplique.  Mise en Ordre de Marche Cette étape consiste à vérifier que la livraison sinstalle correctement en suivant le manuel dinstallation sur lenvironnement de recette du Ministère ou mis à disposition par un tiers (environnement dintégration ou de validation) et que sa stabilité est démontrée. Le Ministère dispose de 2 semaines pour prononcer la MOM ou formuler avec ses réserves à travers le PV de MOM. Tant que le Ministère estime que les réserves sont suffisamment graves pour empêcher le démarrage de la phase suivante, la livraison est réputée ne pas avoir encore eu lieu et les délais contractuels de livraison continuent de courir. Le titulaire lève les réserves le plus vite possible et effectue une nouvelle livraison qui sera soumise à la procédure de réception des prestations. Au-delà de composants livrés défaillants (composants erronés, manquants ou « en trop », messages derreur lors de linstallation, etc.), dautres motifs de refus de livraison sont invocables sans que la liste soit exhaustive : Procédure dinstallation trop longue : une application doit pouvoir sinstaller en une journée maximum ; Procédure dinstallation défaillante : par manque de clarté, de détails, de lisibilité, etc. ; Séparation des variables défaillante : les composants livrés ne doivent pas contenir « en dur » de référence à la plate-forme sur laquelle ils sont destinés à être installés. La liste des paramètres à adapter en fonction de la plate-forme de destination doit être clairement identifiée dans un document séparé, et sa prise en compte lors du déroulement de la procédure dinstallation doit être aisée ; Anomalie bloquante dès lexécution des quelques tests destinés à vérifier la bonne installation ; Absence dun livrable documentaire prévu dans le CCTP : spécifications, rapport de pré-audit RGAA, de sécurité, rapport SONAR, cahier de recette, rapport dexécution de la recette usine, fiches danomalies non renseignées Une fois que la MOM est prononcée sans réserve ou avec des réserves mineures, le Ministère entame la Vérification dAptitude.  CCAP BPM060225_DATAVAL BPM060225 30/48 Vérification daptitude (VA) La VA permet de vérifier le bon fonctionnement de la livraison et ce, à tous les niveaux (fonctionnel, technique, performance, sécurité, etc.). Elle démarre aussitôt le PV de MOM signé et sa durée est de 3 mois maximum. La recette est réalisée essentiellement sur lenvironnement dintégration puis lenvironnement de validation, voire de pré-production. La recette fonctionnelle est assurée par la MOA avec le cas échéant une assistance. La recette technique est assurée par la DNUM avec le cas échéant lassistance dun prestataire AMOA. Toute anomalie détectée en VA doit être corrigée à la charge du titulaire. La livraison dune version corrective est planifiée intégrant la correction de toutes les anomalies au plus tôt et permettre au Ministère de réitérer la recette. En tout état de cause, la durée de la VA est suspendue en cas de détection danomalie bloquante, tant que le correctif (ou éventuellement, un palliatif simple) na pas été livré. Les indicateurs qualité sont impactés et des pénalités peuvent sappliquer le cas échéant. Pour chaque livraison, le Ministère peut décider dajourner ou de valider la livraison comme décrit précédemment. La fin de cette étape est formalisée par le PV de Service Fait (SF). A lissue de chaque vérification, le pouvoir adjudicateur prendra une décision conformément à larticle (5.7.3 du présent document.  Vérification de service régulier (VSR) La VSR permet de vérifier une fois que lapplication est en production quil ne reste pas danomalie, aussi bien fonctionnelle que technique, notamment quelle supporte convenablement la montée en charge des utilisateurs. Toute anomalie détectée en VSR doit être corrigée à la charge du titulaire, sans donner lieu à un nouveau bon de commande. La durée de la VSR est de 4 mois. Le délai démarre à la mise en production ou au plus tard 1 mois après le PV de SF de la VA. Les conditions de fin de VSR sont labsence danomalies majeures ou bloquantes sur le dernier mois de la VSR. Si la VSR nest pas prononcée en raison de conditions de sortie non-remplies (anomalies résiduelles majeures ou bloquantes détectées en production), celle-ci est prorogée dun mois à compter de la date de la dernière livraison corrigeant ces anomalies. Les conditions de sortie sont réexaminées à lissue de la période de prorogation et peuvent conduire à une nouvelle prorogation. A lissue de chaque vérification, le pouvoir adjudicateur prendra une décision conformément à larticle 5.7.3 du présent document. 5.7.3 Décision après vérifications En complément des articles 32 et 33 du CCAG-TIC, les opérations de vérification qualitative ont également pour objet de contrôler les conformités à la politique de sécurité. Lacheteur apprécie lenjeu du défaut eu égard à la sensibilité des données manipulées, leur volume, et les conséquences prévisibles si le défaut persiste. En fonction de cette analyse, ces défauts peuvent avoir comme conséquence lajournement, le rejet ou la réception des prestations avec réfaction. A lissue des vérifications en vue de la réception des prestations, ladministration peut prendre lune des décisions suivantes en application de larticle 28 du CCAG-TIC : - Réception, - Ajournement, - Réception avec réfaction, - Rejet.  CCAP BPM060225_DATAVAL BPM060225 31/48 5.7.4 Audits Le Ministère effectue ou fait effectuer tous les contrôles et audits nécessaires concernant la qualité dexécution des prestations et/ou des livrables. Laudit qualité est un examen méthodique et indépendant dune application visant à déterminer si les activités et les résultats relatifs à la qualité satisfont aux dispositions préétablies au présent CCTP ainsi quau Plan dAssurance Qualité et si ces dispositions sont mises en œuvre de façon efficace. Les audits les plus fréquents, sans que la liste soit limitative sont : Base des tickets ; Complétude et tenue à jour de la documentation projets : spécifications, dossier de conception, manuel dinstallation, dexploitation ; Organisation du titulaire (équipe, processus) ; Respect du PAQ et des procédures associées ; Respect de la méthodologie de gestion de projets ; Audit de code ; Complétude et tenue à jour des tests (recette usine, notamment). Le titulaire met en œuvre les recommandations validées par le Ministère issues des différents audits. La mise en œuvre des recommandations est à la charge du titulaire, jusquà atteinte des seuils dengagements contractuels, selon un délai convenu avec le Ministère. À défaut daccord sur les délais, un délai maximum de 2 semaines est prévu. La mise en œuvre de ces audits est précisée à larticle 9.4 du CCTP.  Audit de sécurité Lacheteur peut effectuer ou faire effectuer un audit de sécurité auprès du titulaire ou le cas échéant de ses sous-traitants afin de sassurer de la prise en compte effective du niveau de sécurité requis par lacheteur. Le titulaire est informé 15 jours à lavance (date de laudit, modalités financières pour lacheteur et le titulaire, etc). Lacheteur ou lorganisme mandaté à cette fin, peut, pendant une période de 6 mois à compter de la fin ou de la résiliation du marché, exercer un contrôle dans les locaux du titulaire et, le cas échéant, dans ceux de ses sous-traitants afin de vérifier que les dispositions en matière de destruction de données ont été effectivement appliquées. 5.7.5 Arrêt de lexécution des prestations En cas darrêt des prestations confiées au Titulaire par ladministration, lensemble des matériels, logiciels et documentations afférentes confiées au Titulaire et dont ladministration est propriétaire est restitué à ladministration. Une restitution partielle peut être demandée par ladministration, en cas darrêt dune partie des prestations avant la fin du marché. Dans ce cas, ladministration en informe le Titulaire au moins un mois avant la fin des prestations. Le déménagement de cet ensemble des locaux du Titulaire est assuré aux frais du Titulaire dans un délai maximum dun mois après larrêt des prestations confiées au Titulaire. La restitution est constatée par un procès-verbal établit par ladministration et daté et signé par le titulaire. Une non-restitution de tout ou partie de cet ensemble, par le Titulaire à ladministration, est considéré et traité comme une perte. 5.8 DESTRUCTION DES DONNEES Au terme du marché ou en cas de résiliation, le titulaire restitue sans délai à lacheteur une copie de lintégralité des données confiées par lui dans le cadre de la prestation. Une fois la restitution effectuée, le titulaire doit détruire, dans un délai de 1 semaine, les éventuelles copies de données détenues dans son système dinformation, y compris les données ayant fait lobjet de sauvegardes ou dun archivage. La restitution et la destruction des données seront constatées par un procès-verbal daté et signé par le titulaire. Les procédés de destruction sont conformes aux réglementations en vigueur (instruction générale interministérielle n° 1300 sur la protection du secret de la défense nationale, instruction interministérielle N° 901 relative aux mesures de protection des systèmes dinformation traitant dinformations sensibles non-classifiées de défenses de niveau Diffusion Restreinte (DR).  CCAP BPM060225_DATAVAL BPM060225 32/48 5.9 GARANTIE Lensemble des prestations décrites au CCTP font lobjet de la garantie prévue à larticle 36 du CCAG-TIC. Le délai de garantie est fixé à 1 an. La garantie prévue au CCAG-TIC sexerce indépendamment de la garantie légale pour vices cachés prévue aux articles 1641 et suivants du code civil. 5.10 PENALITES DE LACCORD-CADRE ET DES MARCHES SUBSEQUENTS Tout manquement du titulaire à ses obligations peut donner lieu à des pénalités. Les pénalités sont applicables de plein droit, sans mise en demeure préalable, sauf pour celles relatives à la mise en œuvre de la clause dinsertion sociale Les pénalités ne présentent aucun caractère libératoire. Le titulaire est donc intégralement redevable de ses obligations contractuelles et notamment des prestations dont linexécution a donné lieu à lapplication de pénalités. Il ne saurait se considérer comme libéré de son obligation, du fait du paiement desdites pénalités. Lapplication de pénalités est effectuée sans préjudice de la faculté de la personne publique de prononcer toute autre sanction contractuelle et notamment de faire réaliser tout ou partie de laccord-cadre aux frais et risques du titulaire. Les pénalités peuvent être précomptées sur les acomptes versés au titulaire tout au long de lexécution des prestations, lors de létablissement des états dacomptes, ou constituer un élément du décompte général. 5.10.1 Pénalités liées à la sécurité En complément de larticle 14 du CCAG-TIG, en cas de violation des mesures de sécurité ou de lobligation de confidentialité, le titulaire sexpose aux pénalités suivantes :  En cas de non-respect des règles de sécurité et de protection des informations confidentielles nimpliquant pas des données à caractère personnel : application dune sanction égale à 0,5 % du montant exécuté HT par le prestataire du marché public à la date de constatation du fait générateur ;  En cas de non-respect des règles de sécurité et de protections des informations confidentielles impliquant des données à caractère personnel : application dune sanction égale à 2 % du montant exécuté HT par le prestataire du marché public à la date de constatation du fait générateur. En cas de constatation de plusieurs faits générateurs, les sanctions pécuniaires ainsi établies sont appliquées de façon cumulative. Le montant des pénalités ainsi établies vient en déduction des paiements à effectuer au titre de toute facture afférente aux prestations exécutées à la date de survenance du fait générateur. 5.10.2 Pénalités et primes liées à lexécution des prestations 5.10.2.1 Pénalités de retard applicables à lintégralité des prestations objet des bons de commande du marché Par dérogation à larticle 14 du CCAG-TIC, en cas de dépassement du délai contractuel dexécution des prestations, le titulaire encourt sans mise en demeure préalable, des pénalités calculées en application de la formule suivante : P = V x R/100  CCAP BPM060225_DATAVAL BPM060225 33/48 Dans laquelle : P = le montant de la pénalité en HT R = nombre de jours de retard V = valeur des prestations sur laquelle est calculée la pénalité, cette valeur étant égale au montant en prix de base, hors variations de prix et hors du champ dapplication de la TVA, de la partie des prestations en retard ou de lensemble des prestations, si le retard dexécution dune partie rend lensemble inutilisable. 5.10.2.2 Pénalités pour absence de qualité Ces pénalités seront appliquées lorsque les seuils dinacceptabilité ci-dessous seront constatés lors des différentes livraisons. Elles sont motivées par la décision de mettre en avant la qualité des livrables des titulaires et de les inciter à faire des livraisons initiales au niveau de service attendu.  Pénalités sur les re-livraisons correctives dun même livrable : qualité inacceptable au-delà de 2 re- livraisons = P = Mnt BdC * (Nb de livraisons 3) * 5%  Pénalités sur la densité danomalies bloquantes par rapport aux UOs pendant la recette dun produit P = 2 * Mnt BdC * (nb dano bloquantes / nb total dUOs) 2 %)  Pénalités sur le taux de corrections incorrectes (toute gravité confondues) : P = Mt BdC * (Nombre de corrections refusées / nbdanomalies livrées) 10%) 5.10.3 Pénalités liées aux clauses sociales En cas de non-respect par lentreprise attributaire des obligations relatives au nombre dheures dinsertion à réaliser, il sera appliqué une pénalité de 80 euros par heure dinsertion non réalisée. En cas de non-transmission des attestations et des justificatifs propres à permettre le contrôle de lexécution des actions dinsertion, le titulaire subira une pénalité égale à 75 euros par jour de retard à compter de la mise en demeure par le pouvoir adjudicateur. 5.10.4 Pénalités liées au RGPD En cas de dépassement du délai contractuel dexécution de notification des violations de données à caractère personnel, le titulaire encourt et sans mise en demeure préalable, des pénalités calculées en application de la formule suivante : P = 1000 x R Dans laquelle : P = le montant de la pénalité en euros HT R = le nombre de jours de retard 5.10.5 Plafonnement des pénalités Le montant total des pénalités encourues est plafonné à 50 % du montant du bon de commande. 5.10.6 Seuil dexonération des pénalités Par dérogation à larticle 14.1.3 du CCAG-TIC, le titulaire est exonéré des pénalités selon les modalités suivantes : Pour la pénalité de retard, le seuil d'exonération est fixé à 200 HT par mission telle que définie au CCTP.  CCAP BPM060225_DATAVAL BPM060225 34/48 Pour la pénalité liée à lindicateur IQ2, le seuil d'exonération est fixé à 500 HT par an. Pour les pénalités liées aux clauses sociales, le seuil d'exonération est fixé à 500 HT par an. 5.10.7 Modalités de mise en œuvre des pénalités et primes Pour les bons de commande de laccord-cadre, les pénalités liées à la clause sociale sont calculées annuellement sur le périmètre du bénéficiaire. Les pénalités de retard sont appliquées par le bénéficiaire commanditaire au moment de la facturation de la prestation en cause. Pour chaque marché subséquent, les pénalités sont appliquées par le représentant du pouvoir adjudicateur du marché subséquent. 5.11 REGIME FINANCIER 5.11.1 Avance Le taux de lavance est de 5% ou, le cas échéant, de 30 % pour les petites et moyennes entreprises. Par dérogation à larticle 11 du CCAG TIC, le titulaire a droit au versement d'une avance pour chaque bon de commande dont le montant est supérieur à 50 000 euros HT et d'une durée d'exécution dépassant les deux mois dans les conditions fixées à l'article R.2191-16 du code de la commande publique. Le montant est calculé selon les modalités de larticle R. 2191-6 et suivants du code de la commande publique. Le montant de lavance ne peut être affecté par la mise en œuvre dune clause de variation de prix. Le taux et les conditions de versement de lavance ne peuvent être modifiés en cours dexécution du marché public. Conformément à larticle R. 2191-7 dernier alinéa du code de la commande publique, Lorsque la durée du marché est supérieure à douze mois, le versement de lavance est fixé à 5 % dune somme égale à douze fois le montant initial toutes taxes comprises du marché divisé par sa durée exprimée en mois. Lorsque le titulaire du marché public ou son sous-traitant admis au paiement direct est une petite ou moyenne entreprise mentionnée à l'article R. 2151-13, le taux minimal de l'avance est porté à 30%. Le délai de versement de lavance court à compter de la notification du bon de commande. Le remboursement de lavance est effectué selon les modalités de larticle R.2191-11 et suivants du code de la commande publique. 5.11.2 Modalités financières 5.11.2.1 Répartition des paiements La périodicité des acomptes est fixée à trois mois. La demande dacompte et son versement seffectuent dans le cadre des articles R.2191-21 et suivants du code de la commande publique et sur la base des prestations effectuées. Les demandes dacomptes et le solde sont justifiés à partir du constat du service fait. La périodicité peut être ramenée à un mois selon les conditions fixées à larticle R.2191-22 du code de la commande publique. Le paiement des acomptes na pas de caractère définitif et ne peut excéder la valeur des prestations auxquelles il se rapporte. En cas de groupement, le paiement des prestations réalisées par chaque membre du groupement est effectué sur le compte bancaire ou postal de chacun des membres du groupement conformément à la répartition précisée dans bon de commande. Les prestations ne font pas l'objet d'un règlement partiel définitif.  CCAP BPM060225_DATAVAL BPM060225 35/48 5.11.2.2 Retenue de garantie et de cautionnement Il nest pas pratiqué de retenue de garantie. 5.11.2.3 Cession et nantissement de créance Le marché peut être cédé ou nanti dans les conditions prévues aux articles R.2191-46 et suivants du code de la commande publique. Il est remis par lacheteur, sur demande du titulaire, dun co-traitant ou dun sous-traitant, une copie de loriginal du marché public revêtue dune mention dûment signée indiquant que cette pièce est délivrée en unique exemplaire en vue de permettre la cession ou le nantissement des créances résultant du marché public. Il est remis par lacheteur, sur demande du titulaire, dun co-traitant ou dun sous-traitant, un certificat de cessibilité en vue de permettre la cession ou le nantissement des créances résultant du marché public. Les comptables assignataires compétents sont :  Les contrôleurs budgétaires et comptables ministériels (CBCM) rattachés aux ministères pour les dépenses relevant des ordonnateurs principaux  Les comptables assignataires visés par les arrêtés suivants pour les dépenses relevant des ordonnateurs secondaires : - Arrêté du 28 janvier 2019 modifiant larrêté du 21 décembre 2018 fixant lassignation des dépenses et des recettes des ordonnateurs secondaires des services civils de lEtat. 5.11.2.4 Intérêts moratoires Les sommes dues sont payées conformément aux dispositions de larticle L.2192-12 du code de la commande publique. Le délai de paiement est fixé à 30 jours. La date de début du délai est déterminée selon les modalités de larticle R.2191-12 et suivants du code de la commande publique. Lorsque les sommes dues en principal ne sont pas mises en paiement à lexpiration du délai de paiement, le titulaire a droit, sans quil ait à les demander, au versement des intérêts moratoires et de lindemnité forfaitaire pour frais de recouvrement prévus aux articles L.2192-12 et suivants et R.2192-31 à R.2192-36 du code de la commande publique. Le taux des intérêts moratoires est égal au taux d'intérêt appliqué par la Banque centrale européenne à ses opérations principales de refinancement les plus récentes, en vigueur au premier jour du semestre de l'année civile au cours duquel les intérêts moratoires ont commencé à courir, majoré de huit points de pourcentage. Ils courent à l'expiration du délai de paiement jusqu'à la date de mise en paiement du principal incluse et sont calculés sur le montant total du paiement toutes taxes comprises, diminué des éventuelles retenue de garantie, clauses d'actualisation, de révision et des pénalités. Le montant de l'indemnité forfaitaire pour frais de recouvrement est fixé à 40 euros. Les intérêts moratoires et l'indemnité forfaitaire pour frais de recouvrement sont payés dans un délai de quarante-cinq jours suivant la mise en paiement du principal. 5.11.2.5 Modalités de facturation Le paiement est effectué sur demande de paiement émise par le titulaire et après certification du service fait par l'acheteur. Le paiement est effectué par virement au compte du titulaire. Les modalités de facturation sont les suivantes : - Initialisation du lot : 100% au PV de SF, à la validation du transfert de responsabilité ;  CCAP BPM060225_DATAVAL BPM060225 36/48 - Pilotage du lot : à terme échu ; - Maintenance préventive et adaptative : à terme échu ; - Pilotage de la réversibilité : 100 % au PV de SF, à la validation du transfert de responsabilité ; - Réalisation en mode agile : facturation selon le mode de réception des prestations de réalisation ; MOM, VA et VSR - Mise à disposition dun environnement de recette : à terme échu ; - Étude et expertise technique : 100 % à la validation des livrables ; - Astreinte : à terme échu ; - Intervention en HNO : 100 % à la validation des livrables ; - Prestation de réalisation dapplications en cycle en V : facturation selon le mode de réception des prestations de réalisation : MOM, VA et VSR - Prestation de réalisation dapplications en incrémental : facturation selon le mode de réception des prestations de réalisation : MOM, VA et VSR - Prestation de maintenance évolutive : facturation selon le mode de réception des prestations de réalisation ; : MOM, VA et VSR - Prestation de maintenance corrective : à terme échu et à la validation des livrables ; - Prise en charge dune application entrante : à la validation du transfert de responsabilité ; - Transfert dune application vers un tiers : à la validation du transfert de responsabilité. Pour rappel, et comme mentionné à larticle 5.7.2 du CCAP relatif aux opérations de vérification, les livrables contenant du code, accompagnés éventuellement de documents, font lobjet dune réception en 3 étapes donnant lieu chacune à un PV spécifique : - 50 % au prononcé de la MOM ; - 20 % au prononcé de la VA ; - 30 % au prononcé de la VSR. - En cas de cotraitance :  En cas de groupement conjoint, chaque membre du groupement perçoit directement les sommes se rapportant à lexécution de ses propres prestations.  En cas de groupement solidaire, le paiement est effectué sur un compte unique, ouvert au nom des membres du groupement ou du mandataire, sauf si le marché prévoit une répartition des paiements entre les membres du groupement et indique les modalités de cette répartition. Le paiement des prestations réalisées par chaque membre du groupement est effectué sur le compte bancaire ou postal de chacun des membres du groupement conformément à la répartition précisée dans bon de commande.  Les autres dispositions relatives à la cotraitance sappliquent selon larticle 12.1 du C.C.A.G.-T.I.C 5.11.2.6 Mentions obligatoires Les factures comprennent les mentions suivantes :  la date démission de la facture ;  La désignation de lémetteur (nom et adresse) et du destinataire de la facture  le code du service exécutant (ou le code didentification du service en charge du paiement)  la référence du marché (numéro dengagement juridique)  le numéro unique basé sur une séquence chronologique et continue établie par lémetteur de la facture, la numérotation pouvant être établie dans ces conditions sur une ou plusieurs séries  la date de livraison effective des fournitures ou dexécution des services ou des travaux ;  CCAP BPM060225_DATAVAL BPM060225 37/48 5.11.2.7 Modalités de transmission des factures La transmission des factures s'effectue par voie dématérialisée. Le titulaire, quil sagisse dun titulaire unique ou bien dun membre du groupeemnt a le choix entre plusieurs modes de transmission: 1) Mode portail : Utiliser le portail Chorus Pro accessible par internet en se connectant à l'URL https://chorus-pro.gouv.fr aux fins de, soit : - déposer ses factures sur le portail ; - saisir directement ses factures ; Bien que le groupement soit solidaire, chaque co-traitant demande le paiement direct de ses factures. A cette fin, chaque cotraitant doit déposer ses demandes de paiement via le module de co-traitance du portail Chorus Pro qui seront mises à la validation du mandataire préalablement à la transmission au comptable pour mise en paiement. 2) Mode service ou API (Application Programming Interface) Chorus Pro offre l'ensemble de ses fonctionnalités sous forme de services intégrés dans un portail tiers. L'émetteur de facture s'identifie via les API, et accède à l'ensemble des services de Chorus Pro comme par exemple le dépôt ou saisie de factures, le suivi du traitement des factures, l'adjonction et téléchargement de pièces complémentaires, etc. 3) Mode EDI (Echange de données informatisées) Envoyer ses factures par raccordement direct à la solution mutualisée ou à partir d'un système tiers par transfert de fichier. Chorus Pro permet des échanges d'informations par flux issus des systèmes d'information des fournisseurs. L'émetteur de facture adresse ses flux soit directement à Chorus pro soit par l'intermédiaire d'un opérateur de dématérialisation. Préalables techniques et réglementaires : pour connaître les conditions techniques (guide utilisateurs du portail, kit de raccordement technique et spécifications du format normalisé d'échange) et réglementaires dans lesquelles s'opère la dématérialisation des factures, le titulaire est invité à consulter le portail internet suivant : https://communaute.chorus-pro.gouv.fr/ Pour tout renseignement complémentaire, le titulaire peut s'adresser à : https://chorus-pro.gouv.fr/cpp/utilisateur?execution=e3s1/ rubrique « nous contacter » En cas de première mise en place de la facturation électronique et dans le respect de lobligation de transmission des factures par voie dématérialisée telle que précisée à l article 3 de lordonnance n°2014-697 relative au développement de la facturation électronique, le titulaire dispose d'un délai maximum de trois mois à compter de la notification, pour être opérationnel dans la mise en œuvre de la facturation par voie dématérialisée. Durant ce délai, le titulaire peut remettre une facture papier. Les factures sont établies en un seul original et envoyées à l'adresse suivante : Service facturier des ministères sociaux 14 avenue Duquesne 75350 PARIS 07 SP En cas de changement dadresse, le titulaire utilisera ladresse figurant au marché subséquent ou au bon de commande. Passé ce délai, en cas de difficultés avérées dans la mise en place de la facturation électronique lors de lexécution du marché public, et sur demande expresse du titulaire justifiant des difficultés rencontrées, le titulaire peut remettre une facture papier dans le délai provisoire qui lui a été accordé.  CCAP BPM060225_DATAVAL BPM060225 38/48 Durant ce délai, le titulaire remet une facture papier envoyée en un seul original à l'adresse renseignée ci- dessus. Pour tout renseignement concernant le paiement, il est possible de prendre contact avec le service facturier des ministères sociaux (14, avenue Duquesne - 75350 PARIS 07 SP) Téléphone: 01 40 56 83 79 Ou par mail : helene.merlet@cbcm.social.gouv.fr stephanie.smaghe@cbcm.social.gouv.fr 5.11.2.8 Taux de TVA Sont applicables les taux de TVA en vigueur lors du fait générateur de la taxe au sens de l'article 269 du code général des impôts. 5.11.2.9 Monnaie Lunité monétaire qui sapplique est leuro. 5.12 LANGUE Tous les documents écrits remis par le titulaire à lacheteur doivent être rédigés en langue française. Dans le cas où le titulaire ne peut délivrer un document en langue française, il doit fournir, à sa charge, ce document accompagné dune traduction en français. De plus, lensemble des communications écrites ou orales qui ont lieu entre lacheteur, le titulaire et ses sous- traitants éventuels, durant la phase dexécution du marché seffectuera en français. 5.13 SOUS-TRAITANCE L'acceptation des sous-traitants et l'agrément de leurs conditions de paiement sont soumis aux dispositions légales et réglementaires en vigueur. La sous-traitance totale des prestations est interdite. Afin d'obtenir l'acceptation et l'agrément de l'acheteur, le titulaire doit présenter son sous-traitant par le biais de l'acte spécial de sous-traitance, dont les formalités sont comprises dans le formulaire DC4 ou équivalent (téléchargeable sur https://www.economie.gouv.fr/daj/formulaires-declaration-du-candidat Cet acte mentionne : la nature des prestations sous-traitées envisagée, le nom, la raison ou la dénomination sociale et l'adresse du sous-traitant, le montant maximum des sommes à verser par paiement direct au sous- traitant, les conditions de paiement prévues et le cas échéant les modalités de variation de prix, les capacités financières et professionnelles du sous-traitant. L'acheteur doit accepter ou refuser le sous-traitant et agréer ses conditions de paiement. Passé un délai de 21 jours à compter de la remise du DC4 et, le cas échéant, de la remise de l'exemplaire unique pour nantissement (ou du certificat de cessibilité) il est réputé avoir accepté le sous-traitant et agréé les conditions de paiement. 5.14 PROTECTION DES DONNEES PERSONNELLES Dans le cadre du présent accord-cadre, les parties sengagent à respecter la réglementation en vigueur applicable au traitement de données à caractère personnel et, en particulier, le règlement (UE) 2016/679 du Parlement européen et du Conseil du 27 avril 2016 applicable à compter du 25 mai 2018 (ci-après, « le règlement européen sur la protection des données »).  CCAP BPM060225_DATAVAL BPM060225 39/48 Description du traitement de données à caractères personnel Le titulaire est autorisé à traiter pour le compte de lacheteur et pour la durée du présent marché public les données à caractère personnel nécessaires pour fournir la ou les prestations (s) suivante (s) : Les prestations du marché nécessitant, sans alternative possible, le traitement de données personnelles. La nature des opérations réalisées sur les données est : toute nature dopérations strictement nécessaires à la bonne exécution du marché. La ou les finalité(s) du traitement sont : la bonne réalisation des prestations du marché. Les données à caractère personnel traitées sont : tout type de donnée personnelle dont le traitement est strictement nécessaire à lexécution du marché Les catégories de personnes concernées sont les agents dont le traitement des données personnelles est strictement nécessaire à la réalisation des prestations du marché. Pour lexécution des prestations, du présent marché public, lacheteur met à la disposition du titulaire Obligations du titulaire Le titulaire s'engage notamment à : 1. traiter les données uniquement pour la ou les seule(s) finalité(s) qui fait/font lobjet du présent marché public 2. traiter les données conformément aux instructions documentées de lacheteur figurant aux documents particuliers du présent marché public. Si le titulaire considère quune instruction constitue une violation du règlement européen sur la protection des données ou de toute autre disposition du droit de lUnion ou du droit des Etats membres relative à la protection des données, il en informe immédiatement lacheteur 3. demander laccord de lacheteur si la réalisation des prestations nécessite le transfert des données à caractère personnel hors de lUnion européenne 4. garantir la confidentialité des données à caractère personnel traitées dans le cadre du présent marché public 5. veiller à ce que les personnes autorisées à traiter les données à caractère personnel en vertu du présent marché public : - sengagent à respecter la confidentialité ou soient soumises à une obligation légale appropriée de confidentialité - reçoivent la formation nécessaire en matière de protection des données à caractère personnel 6. Prendre en compte, sagissant de ses outils, produits, applications ou services, les principes de protection des données dès la conception et de protection des données par défaut. 7. Sous-traitance des activités de traitement (articles 28.2 et 28.4 du RGPD) Le titulaire peut faire appel à un sous-traitant pour mener des activités de traitement. Dans ce cas, il informe préalablement et par écrit lacheteur de tout changement envisagé concernant lajout ou le remplacement dautres sous-traitants. Cette information doit indiquer clairement les activités de traitement sous-traitées, lidentité et les coordonnées du sous-traitant et les dates du marché public. Lacheteur dispose dun délai de (21 jours) à compter de la date de réception de cette information pour présenter ses objections. Cette sous-traitance ne peut être effectuée que si lacheteur n'a pas émis d'objection pendant le délai convenu.  CCAP BPM060225_DATAVAL BPM060225 40/48 Afin d'obtenir l'acceptation et l'agrément de l'acheteur, le titulaire doit présenter son sous-traitant par le biais de l'acte spécial de sous-traitance, dont les formalités sont comprises dans le formulaire DC4 ou équivalent (téléchargeable sur http://www.economie.gouv.fr/daj/formulaires-declaration-candidat ). Le sous-traitant est tenu de respecter les obligations du présent marché public pour le compte et selon les instructions de lacheteur. Il appartient au titulaire de sassurer que le sous-traitant présente les mêmes garanties suffisantes quant à la mise en œuvre de mesures techniques et organisationnelles appropriées de manière à ce que le traitement réponde aux exigences du règlement européen sur la protection des données. Si le sous-traitant ne remplit pas ses obligations en matière de protection des données, le titulaire demeure pleinement responsable devant lacheteur de lexécution par le ou les sous-traitant(s) de ses obligations. 8. Droit dinformation et exercice des personnes concernées par le traitement (articles 13 à 15 du RGPD)  Option B Il appartient au titulaire de fournir linformation aux personnes concernées par les opérations de traitement au moment de la collecte des données. La formulation et le format de linformation doit être convenue avec lacheteur avant la collecte de données. Le titulaire doit répondre, au nom et pour le compte de lacheteur et dans les délais prévus par le règlement européen sur la protection des données aux demandes des personnes concernées en cas dexercice de leurs droits. 9. Notification des violations de données à caractère personnel (article 33 du RGPD) Le titulaire notifie à lacheteur toute violation de données à caractère personnel dans un délai maximum de 3 heures après en avoir pris connaissance et par le moyen suivant : courrier électronique . Cette notification est accompagnée de toute documentation utile afin de permettre à lacheteur, si nécessaire, de notifier cette violation à lautorité de contrôle compétente. Après accord écrit de lacheteur, le titulaire notifie à lautorité de contrôle compétente, au nom et pour le compte de lacheteur, les violations de données à caractère personnel dans un délai maximum de 5 heures à moins que la violation en question ne soit pas susceptible dengendrer un risque pour les droits et libertés des personnes physiques. La notification contient au moins : - la description de la nature de la violation de données à caractère personnel y compris, si possible, les catégories et le nombre approximatif de personnes concernées par la violation et les catégories et le nombre approximatif d'enregistrements de données à caractère personnel concernés ; -le nom et les coordonnées du délégué à la protection des données ou d'un autre point de contact auprès duquel des informations supplémentaires peuvent être obtenues ; -la description des conséquences probables de la violation de données à caractère personnel ; -la description des mesures prises par le titulaire ou que lacheteur propose de prendre pour remédier à la violation de données à caractère personnel, y compris, le cas échéant, les mesures pour en atténuer les éventuelles conséquences négatives. Si, et dans la mesure où il nest pas possible de fournir toutes ces informations en même temps, les informations peuvent être communiquées de manière échelonnée sans retard indu. Après accord de lacheteur, le titulaire communique, au nom et pour le compte de lacheteur, la violation de données à caractère personnel à la personne concernée dans les meilleurs délais, lorsque cette violation est susceptible d'engendrer un risque élevé pour les droits et libertés de cette personne.  CCAP BPM060225_DATAVAL BPM060225 41/48 La communication à la personne concernée décrit, en des termes clairs et simples, la nature de la violation de données à caractère personnel et contient au moins : - la description de la nature de la violation de données à caractère personnel y compris, si possible, les catégories et le nombre approximatif de personnes concernées par la violation et les catégories et le nombre approximatif d'enregistrements de données à caractère personnel concernés ; - le nom et les coordonnées du délégué à la protection des données ou d'un autre point de contact auprès duquel des informations supplémentaires peuvent être obtenues ; - la description des conséquences probables de la violation de données à caractère personnel ; - la description des mesures prises ou que lacheteur propose de prendre pour remédier à la violation de données à caractère personnel, y compris, le cas échéant, les mesures pour en atténuer les éventuelles conséquences négatives. 10. Aide du titulaire dans le cadre du respect par lacheteur de ses obligations Le titulaire aide lacheteur : pour la réalisation danalyses dimpact relative à la protection des données pour la réalisation de la consultation préalable de lautorité de contrôle. 11. Mesures de sécurité Le titulaire met en œuvre toutes les mesures techniques et organisationnelles garantissant un niveau de sécurité adapté au risque, y compris : - la pseudonymisation et le chiffrement des données à caractère personnel - les moyens permettant de garantir la confidentialité, l'intégrité, la disponibilité et la résilience constantes des systèmes et des services de traitement; - les moyens permettant de rétablir la disponibilité des données à caractère personnel et l'accès à celles-ci dans des délais appropriés en cas d'incident physique ou technique; - une procédure visant à tester, à analyser et à évaluer régulièrement l'efficacité des mesures techniques et organisationnelles pour assurer la sécurité du traitement Dans la mesure où larticle 32 du règlement européen sur la protection des données prévoit que la mise en œuvre des mesures de sécurité incombe au responsable du traitement et au sous-traitant, il est recommandé de déterminer précisément les responsabilités de chacune des parties au regard des mesures à mettre en œuvre] 12. Devenir des données à caractère personnelles (article 28.3.g du RGPD) Au terme de lexécution du présent marché public, le titulaire doit : - envoyer toutes les données à caractère personnel à lacheteur ou au tiers désigné par lacheteur Lenvoi saccompagne de la destruction de toutes les copies existantes dans les systèmes dinformation du titulaire et le cas échéant du ou de ses sous-traitants. Une fois détruites, le titulaire doit justifier par écrit auprès de lacheteur de cette destruction. 13. Délégué à la protection des données (articles 37 à 39 du RGPD) Le titulaire communique à lacheteur dès la notification du marché public et avant tout début dexécution des prestations le nom et les coordonnées de son délégué à la protection des données, sil en a désigné un conformément à larticle 37 du règlement européen sur la protection des données.  CCAP BPM060225_DATAVAL BPM060225 42/48 A titre dinformation, le délégué à la protection des données en charge de cette procédure peut être contacté à ladresse suivante : le-delegue-a-la-protection-des-donnees-personnelles@finances.gouv.fr (voir article 4.11 du RC). 14. Registre des catégories dactivités de traitement (article 30 du RGPD) Le titulaire tient par écrit un registre de toutes les catégories dactivités de traitement effectuées pour le compte de lacheteur comprenant : - le nom et les coordonnées de lacheteur pour le compte duquel il agit, des éventuels sous- traitants et, le cas échéant, du délégué à la protection des données; - les catégories de traitements effectués pour le compte du responsable du traitement; - le cas échéant, les transferts de données à caractère personnel vers un pays tiers ou à une organisation internationale, y compris l'identification de ce pays tiers ou de cette organisation internationale et, dans le cas des transferts visés à l'article 49, paragraphe 1, deuxième alinéa du règlement européen sur la protection des données, les documents attestant de l'existence de garanties appropriées; - dans la mesure du possible, une description générale des mesures de sécurité techniques et organisationnelles, y compris entre autres, selon les besoins : o la pseudonymisation et le chiffrement des données à caractère personnel; o des moyens permettant de garantir la confidentialité, l'intégrité, la disponibilité et la résilience constantes des systèmes et des services de traitement; o des moyens permettant de rétablir la disponibilité des données à caractère personnel et l'accès à celles-ci dans des délais appropriés en cas d'incident physique ou technique; o une procédure visant à tester, à analyser et à évaluer régulièrement l'efficacité des mesures techniques et organisationnelles pour assurer la sécurité du traitement. 16. Documentation (article 28.3.h du RGPD) Le titulaire met à la disposition de lacheteur la documentation nécessaire pour démontrer le respect de toutes ses obligations et pour permettre le cas échéant la réalisation daudits, y compris des inspections, par lacheteur ou un auditeur mandaté par lui. 5.15 REGIME DES DROITS DE PROPRIETE INTELLECTUELLE 5.15.1 Régime des droits sur les résultats Par dérogation à larticle 46 du CCAG-TIC, le titulaire du marché cède, à titre exclusif et définitif, pour le monde entier, sans limitation territoriale, et pendant soixante-dix ans, durée légale de protection des droits dauteur conformément à larticle L.123-1 du code de la propriété intellectuelle, lensemble des droits patrimoniaux nécessaires à une libre exploitation et réutilisation des résultats par ladministration en langue française. Les livrables et documents sont ceux identifiés et déterminés dans le CCTP et qui sont repris aux articles 5, 6(lot 1), 7 (lot 2), 8 (lot 3) et 9 (lot 4) du CCTP. Au titre de cette cession, le titulaire du marché cède aux Ministères sociaux, à titre exclusif et définitif, et pour toute la durée de protection des livrables par les droits de la propriété littéraire et artistique, tant pour la France que pour létranger.  CCAP BPM060225_DATAVAL BPM060225 43/48 5.15.2 Régime des droits sur les connaissances antérieures Lutilisation de connaissances antérieures qui ne seraient pas parfaitement identifiables et techniquement séparables des résultats (c'est-à-dire qui figurent dans des documents et fichiers sources non distincts) est interdite. En complément des articles 44 et 45 du CCAG-TIC, le titulaire accorde sur ses connaissances antérieures à ladministration, une concession de droits dutilisation pour le monde entier et pour toute la durée de protection des objets protégés par des droits dauteur, et ce à titre non exclusif, de sorte que le titulaire puisse continuer à les exploiter dans un cadre extérieur au marché. Ces droits ne visent que les connaissances antérieures strictement nécessaires à lutilisation des résultats et pour les besoins du présent accord-cadre. Au cours de lexécution du présent accord-cadre, le titulaire ne peut utiliser ou incorporer, sans laccord préalable de ladministration, des connaissances antérieures nécessaires à la réalisation de lobjet du présent accord-cadre qui seraient de nature à limiter ou à rendre plus coûteux lexercice des droits afférents aux résultats. Le titulaire sengage à communiquer à ladministration un rapport constitué de la liste complète desdites connaissances, en précisant pour chacune delles les informations suivantes : nom du composant, nom du ou des auteurs, source (site Internet par exemple), licence (régime juridique) et conditions d'utilisation et de maintenance, lorganisme éventuellement dépositaire des codes sources et ce, au plus tard 6 mois avant la fin prévue ou anticipée de laccord-cadre. 5.15.3 Prix de la cession des droits Le prix est compris dans le prix du présent marché public 5.16 ASSURANCES Le titulaire assume la responsabilité de l'exécution des prestations et des dommages qu'il cause à l'acheteur en cas d'inexécution. Dans un délai de quinze jours à compter de la notification de l'accord-cadre et avant tout commencement d'exécution, le titulaire devra justifier être en possession d'une police d'assurances. Il est responsable des dommages que l'exécution des prestations peut engendrer : à son personnel, aux agents de l'acheteur ou à des tiers ; à ses biens, aux biens appartenant à l'acheteur ou à des tiers. Le titulaire doit être couvert par un contrat d'assurance en cours de validité garantissant les conséquences pécuniaires de la responsabilité civile qu'il pourrait encourir en cas de dommages corporels et/ou matériels engendrés lors de l'exécution des prestations. Il s'engage à remettre, sur simple demande écrite, à l'acheteur, une attestation de son assureur indiquant la nature, le montant et la durée de la garantie. Le titulaire s'engage à informer expressément l'acheteur de toute modification de son contrat d'assurance. Les sous-traitants doivent fournir les mêmes documents que le titulaire. 5.17 AUTRES OBLIGATIONS ADMINISTRATIVES Le titulaire est tenu de notifier sans délai à lacheteur les modifications survenant en cours dexécution et notamment celles qui se rapportent : - aux personnes ayant le pouvoir de lengager ; - à la forme juridique sous laquelle il exerce son activité ; - à sa raison sociale ou à sa dénomination ; - à son adresse ou à son siège social ; - aux renseignements quil a fournis pour lacceptation dun sous-traitant et lagrément de ses conditions de paiement ;  CCAP BPM060225_DATAVAL BPM060225 44/48 De façon générale, toutes les modifications importantes de fonctionnement de concernant le titulaire et pouvant influer sur le déroulement du marché doivent être notifiés à lacheteur. En cas de manquement, lacheteur ne saurait être tenu pour responsable des conséquences pouvant en découler, et notamment des retards de paiement. Le titulaire met à disposition tous les six mois, à partir de la notification, jusquà la fin de lexécution, les pièces prévues aux articles D.8222-5 ou D.8222-7 ou D.8254-2 à D.8254-5 du code du travail. Ces documents sont transmis par le titulaire sur la plate-forme en ligne, mise à disposition gratuitement, à ladresse suivante : http://www.e-attestations.com Si le titulaire, et/ou le cas échéant ses sous-traitants, recourent à des salariés détachés, ils doivent produire avant le début de chaque détachement dun ou de plusieurs salariés les documents suivants : a) Laccusé de réception de la déclaration de détachement effectuée sur le télé-service \" SIPSI \" du ministère chargé du travail, conformément aux articles R. 1263-5 et R. 1263-7 du code du travail ; b) Une attestation sur lhonneur certifiant que le cocontractant sest, le cas échéant, acquitté du paiement des sommes dues au titre des amendes prévues aux articles L. 1263-6, L. 1264-1, L. 1264-2 et L. 8115-1 du code du travail. Cette attestation comporte les nom, prénom, raison sociale du cocontractant et la signature de son représentant légal. Dans les conditions fixées à larticle L.2196-4 et suivants du code de la commande publique, le titulaire fournit, si lacheteur en fait la demande, les renseignements sur les éléments techniques et comptables du coût de revient des prestations qui font lobjet du présent marché public (notamment bilans, comptes de résultat ainsi que leur comptabilité analytique et tout document de nature à permettre létablissement des coûts de revient). 5.18 RESILIATION Lacheteur peut résilier le marché public dans les cas prévus aux articles L.2195-1 à L.2195-6 du code de la commande publique. Laccord-cadre peut être résilié conformément aux dispositions de larticle 8 du CCAG de référence (résiliation pour événements extérieurs ou liés au marché public, pour faute du titulaire ou pour motif dintérêt général). En cas de résiliation pour motif dintérêt général et par dérogation à larticle 51 du CCAG TIC, le titulaire a droit à une indemnité de résiliation fondée sur les dépenses quil a engagées pour lexécution de laccord-cadre et qui nauraient pas été prises en compte dans le montant des prestations payées. La charge de la preuve pèse sur le prestataire et devra apporter lensemble des justificatifs idoines permettant au pouvoir adjudicateur de contrôler la réalité des dépenses engagées. Une indemnisation de 5% du montant du dernier bons de commande non exécuté lui sera versée Au-delà des cas prévus au CCAG-TIC, le marché peut être résilié dans les cas suivants :  En cas d'inexactitude des documents et des renseignements prévus, ou de refus de produire les pièces prévues aux articles D8222-5 ou D8222-7 et D8222-8 du code du travail , l'accord-cadre sera résilié, après mise en demeure restée infructueuse, aux torts du titulaire selon les dispositions du CCAG de référence.  Pour inexactitude des renseignements communiqués. L'inexactitude des renseignements communiqués à l'appui des candidatures peut entraîner la résiliation de l'accord-cadre aux torts exclusifs du titulaire, sans indemnités.  Suite à une résiliation pour faute d'un marché subséquent. L'acheteur peut prononcer, sans préavis ni indemnité, la résiliation de l'accord-cadre à l'égard du titulaire dont un marché subséquent aurait été résilié pour faute par le service bénéficiaire.  Pour défaut de réponse aux consultations. L'acheteur peut prononcer, sans indemnité, la résiliation de l'accord-cadre à l'égard du titulaire qui n'aurait pas répondu à l'invitation suivant larticle 4.3.2.  Pour manquement grave et répété à lengagement dinsertion.  CCAP BPM060225_DATAVAL BPM060225 45/48  En complément de larticle 50 du CCAG-TIC, en cas non-respect des règles de sécurité , lacheteur peut résilier pour faute le marché : - Avec mise en demeure dans les conditions de larticle 50.2 du CCAG-TIC ; - Sans mise en demeure. La résiliation de l'accord-cadre n'entraîne pas la résiliation des marchés subséquents en cours d'exécution. 5.19 EXECUTION AUX FRAIS ET RISQUES DU TITULAIRE Le titulaire est tenu de mettre en œuvre, dans le cadre des missions qui lui sont confiées, tous les procédés et moyens lui permettant de réaliser les prestations conformément aux spécifications du cahier des charges. Pour les prestations qui lui incombent, le titulaire doit strictement respecter les délais, les coûts et les niveaux de qualité prévus dans les documents contractuels régissant le marché. Les prestations devront être conformes aux prescriptions de l'ensemble des normes homologuées ou à toute norme européenne équivalente. Cette disposition vaut non seulement pour les normes en vigueur au jour de la passation du marché mais également pour toutes les nouvelles normes qui deviendraient effectives en cours d'exécution du marché. Le cas échéant, lacheteur peut faire procéder par un tiers à lexécution des prestations, aux frais et risques du titulaire et dans les conditions prévues au CCAG-TIC. 5.20 DISPOSITIONS APPLICABLES EN CAS DE MENACE SANITAIRE GRAVE APPELANT DES MESURES DURGENCE La menace sanitaire appelant des mesures durgence, notamment létat durgence sanitaire déclaré en application des dispositions du code de la santé publique, est assimilée à un cas de force majeure dès lors que cette situation est inconnue des parties au moment de la signature du marché public par lacheteur ou que cette situation, bien que connue des parties, donne lieu à des mesures durgences nouvelles inconnues des parties au moment de la signature du marché public par lacheteur et ayant un impact direct sur lexécution du contrat. Ces situations sont constitutives dun « évènement perturbateur » au sens du présent article. Lévènement perturbateur fait obstacle à lapplication de sanction, de pénalités contractuelles à légard du titulaire comme à la mise en œuvre de la responsabilité contractuelle des parties à raison de retards ou dinexécution des obligations qui leur incombe, dès lors quest établi un lien de causalité entre lévènement perturbateur et le retard ou linexécution.  Suspension de lexécution des prestations à la demande du titulaire Si le titulaire est temporairement dans limpossibilité dexécuter tout ou partie des prestations du fait de lévènement perturbateur ou que cette exécution ferait peser sur lui une charge manifestement excessive, il peut en demander la suspension par tout moyen matériel ou dématérialisé permettant de déterminer de façon certaine la date et lheure de sa réception. La décision de suspendre lexécution des prestations à la demande du titulaire fait lobjet dun écrit émanant de lacheteur et est transmise par tout moyen matériel ou dématérialisé permettant de déterminer de façon certaine la date et lheure de sa réception. Dans sa décision, lacheteur précise limpact éventuel de la suspension sur la durée du marché. Toute modification de la durée du marché ne peut résulter que dun avenant. En cas de suspension du marché à la demande du titulaire, lacheteur se réserve la possibilité de conclure un marché de substitution avec un tiers pour satisfaire les besoins qui ne peuvent souffrir aucun retard, nonobstant toute clause dexclusivité et sans que le titulaire du marché initial ne puisse engager, pour ce motif, la responsabilité contractuelle de lacheteur. Lexécution du marché de substitution nest pas effectuée aux frais et risques du titulaire.  CCAP BPM060225_DATAVAL BPM060225 46/48 Le titulaire ne peut quant à lui être sanctionné, se voir appliquer de pénalités contractuelles, ni voir sa responsabilité contractuelle engagée dès lors quil démontre quil ne dispose pas des moyens suffisants pour exécuter les prestations ou que leur mobilisation ferait peser sur lui une charge manifestement excessive. A ce titre, toute justification permettant à lacheteur dapprécier le bien-fondé des difficultés rencontrées ou à venir ainsi que leur lien de causalité avec lévènement perturbateur doit être fournie par le titulaire. La suspension de lexécution des prestations à linitiative du titulaire nouvre droit à aucune indemnité au bénéfice de ce dernier.  Suspension à linitiative de lacheteur Si lacheteur décide de suspendre lexécution de tout ou partie des prestations, il en informe le titulaire par écrit, dans les meilleurs délais et par tout moyen matériel ou dématérialisé permettant de déterminer de façon certaine la date et lheure de sa réception. Dans sa décision, lacheteur précise limpact éventuel de la suspension sur la durée du marché. Toute modification de la durée du marché ne peut résulter que dun avenant. En cas de suspension de tout ou partie des prestations, les parties procèdent à létablissement dun constat contradictoire des prestations réalisées jusquà la suspension, sauf lorsque celui-ci savère manifestement inutile. Lacheteur ne peut voir sa responsabilité contractuelle engagée dès lors quest établi un lien de causalité entre lévènement perturbateur et la décision de suspension. Le titulaire, quant à lui, ne peut être sanctionné, se voir appliquer de pénalités contractuelles, ni voir sa responsabilité contractuelle engagée du fait de cette suspension. Celle-ci donne lieu à indemnisation du titulaire sil démontre lexistence dun lien direct entre le préjudice subi et la suspension des prestations. Pour ce faire, il adresse à lacheteur un mémoire en réclamation, conformément aux dispositions de larticle du CCAG de référence relatif aux différends entre les parties. Ce mémoire justifie : - les coûts darrêt des prestations objet du marché ; - les coûts de remise en état à lissue de la suspension en vue de la reprise dexécution ; - la part des charges dexploitation directement liées à lexécution du marché et qui ont continué dêtre supportées par le titulaire pendant la période de suspension. Prolongation du délai dexécution des prestations Lacheteur prolonge le délai dexécution dès lors que le titulaire est dans limpossibilité de le respecter, ou que cette exécution en temps et en heure nécessiterait des moyens dont la mobilisation ferait peser sur lui une charge manifestement excessive. Pour bénéficier de cette prolongation, le titulaire justifie des causes faisant obstacle à lexécution de tout ou partie des prestations dans le délai contractuel et du lien de causalité entre cette impossibilité et lévènement perturbateur. La demande de prolongation intervient avant lexpiration du délai contractuel et de la période associée à lévènement perturbateur. Elle seffectue dans les conditions fixées par le CCAG de référence. La prolongation du délai dexécution peut être à linitiative de lacheteur qui en informe le titulaire par écrit, dans les meilleurs délais et par tout moyen matériel ou dématérialisé permettant de déterminer de façon certaine la date et lheure de sa réception.  CCAP BPM060225_DATAVAL BPM060225 47/48 En cas de prolongation, le nouveau délai a les mêmes effets que le délai contractuel et est dune durée suffisante pour la réalisation des prestations. La décision de prolongation précise son impact éventuel sur la durée du marché. Toute modification de la durée du marché ne peut résulter que dun avenant. Résiliation en cas dimpossibilité dexécuter la prestation et indemnisation associée Lorsque le titulaire est dans limpossibilité dexécuter le marché du fait de lévènement perturbateur, lacheteur prononce la résiliation du marché sur le fondement de larticle L. 2195-2 du code de la commande publique. Le décompte de résiliation est établi conformément aux dispositions du CCAG de référence, en faisant application des modalités de résiliation sattachant au cas de résiliation pour évènement présentant les caractéristiques de la force majeure. Indemnisation suite à lannulation dun bon de commande Lannulation dun bon de commande par lacheteur à la suite dun évènement perturbateur ouvre droit à une indemnisation du titulaire des dépenses spécifiquement engagées pour lexécution des prestations annulées. Le titulaire adresse à lacheteur un mémoire en réclamation, conformément aux dispositions de larticle du CCAG de référence relative aux différends entre les parties. Ce mémoire justifie : - de lexistence du préjudice subi (réalité des charges pesant sur le titulaire et évaluation du montant demandé) ; - de lexistence dun lien de causalité entre lévènement perturbateur et ledit préjudice. Indemnisation en cas de poursuite dexécution bouleversant léquilibre du contrat Lorsque léquilibre du contrat est bouleversé du fait de la poursuite de lexécution des prestations, le titulaire peut être indemnisé des charges supplémentaires extracontractuelles quil supporte, dans les conditions précisées par la circulaire du Premier ministre et du ministre de léconomie et des finances du 20 novembre 1974 relative à lindemnisation des titulaires de marchés publics en cas daccroissement imprévisible de leurs charges économiques Pour ce faire, le titulaire doit démontrer le bouleversement de léquilibre du contrat, la perte effective subie ainsi que le lien avec lévènement perturbateur. A défaut, la demande dindemnisation est rejetée. Un pourcentage de 10% du montant de la perte effective reste à la charge du titulaire. Demandes indemnitaires Les demandes indemnitaires font lobjet dun mémoire en réclamation transmis à lacheteur par tout moyen matériel ou dématérialisé permettant de déterminer de façon certaine la date et lheure de sa réception. Le mémoire en réclamation est transmis dans les conditions fixées par larticle 55.2 du CCAG TIC et justifie de manière circonstanciée le préjudice subi, les coûts associés, et leur lien avec lévènement ayant caractère de force majeure. Ne peuvent être indemnisés des coûts résultant de la négligence ou de la défaillance du titulaire. Modalités de communications en cas de crise sanitaire En période de crise sanitaire, les réunions en présentiel peuvent être remplacées par des réunions à distance par tous moyens de téléconférence (audioconférence, visioconférence notamment). Lorsque les parties privilégient les échanges dématérialisés, les modalités fixées au présent document sappliquent (cf article « Forme des notifications et des informations »).  CCAP BPM060225_DATAVAL BPM060225 48/48 5.21 LITIGES ET CONTENTIEUX Le présent accord-cadre est régi par le droit français. Tout litige dans le cadre du présent marché est soumis au Tribunal administratif de Paris (4 rue de Jouy  75004 Paris (Tel :01 44 59 44 00) pour les aspects concernant les modalités d'exécution du marché. Les tribunaux de grande instance compétents pour connaitre des actions en matière de propriété intellectuelle sont désignés par le Code de l'organisation judiciaire. 5.22 DIFFERENDS La procédure de règlement à lamiable des différends ou litiges, susceptibles de survenir en cours dexécution du marché est celle prévue aux articles R2197-1 à R2197-25 et D2197-13 à D2197-22 du Code de la commande publique. Le comité consultatif compétent est le comité consultatif national de règlement amiable des litiges, 6 rue Louise Weiss, 75013 Paris (Tel : 01 44 87 17 17). Article 6 DEROGATION AU CCAG-TIC Les dérogations au CCAG-TIC sont présentées dans le tableau récapitulatif ci-après : Article du présent CCAP Article du CCAG auquel il est fait dérogation Commentaire - objet de la dérogation 2.13.3 5.1.1 La dérogation porte sur la Confidentialité 2.14.2 10.2.2 La dérogation porte sur lapplication de la révision dans le temps 2.7 4.1 La dérogation porte lordre de priorité de pièces contractuelles 5.10.2.1 5.11.2.1, 5.11.2.6, 5.11.2.7 14 12.1.3 La dérogation porte sur les pénalités Règlement des groupements dopérateurs économiques 5.10.6 14.1.3 La dérogation porte sur lexonération de pénalités 5.11.1 11 La dérogation porte sur Lavance 5.15.1 46 Régime PI 5.18 51 La dérogation porte sur la résiliation Article 7 ANNEXE AU CCAP 1 - MODELE DE DECLARATION DINTERET\" → [\"rue Olivier-de-Serres\"/LOC, \"DNUM\"/ORG, \"DNUM\"/ORG, \"DNUM\"/ORG, \"MiTN\"/ORG, \"DNUM\"/ORG, \"DGCS\"/ORG, \"SCN SI\"/ORG, \"DNUM\"/ORG, \"SI Aqua-Sise\"/ORG, \"Dataviz\"/ORG, \"DNUM\"/ORG, \"DNUM\"/ORG, \"CCAG-TIC\"/ORG, \"CCAG-TIC\"/ORG, \"CCAG-TIC\"/ORG, \"E2C\"/ORG, \"Rebeca GOMIS\"/PER, \"ARCHE MC2\"/ORG, \"Commission Nationale de lInformatique et des Libertés\"/ORG, \"Commission Nationale de lInformatique et des Libertés\"/ORG, \"Place de Fontenoy\"/ORG, \"DNUM\"/ORG, \"tribunal administratif de Paris\"/ORG, \"CCAG-TIC\"/ORG, \"Sharepoint\"/MISC, \"CCAG-TIC\"/ORG, \"CCAG-TIC\"/ORG, \"CCAG-TIC\"/ORG, \"CCAG-TIC\"/ORG, \"CBCM\"/ORG, \"Banque centrale européenne\"/ORG, \"T.I.C\"/ORG, \"CCAG-TIC\"/ORG, \"la France\"/LOC, \"CCAG-TIC\"/ORG, \"CCAG-TIC\"/ORG, \"CCAG-TIC\"/ORG, \"Tribunal administratif de Paris\"/ORG, \"rue de Jouy\"/ORG, \"Paris\"/LOC, \"rue Louise Weiss\"/ORG]\n"
     ]
    }
   ],
   "source": [
    "\n",
    "#file_path = r\"C:\\Users\\hp\\Downloads\\clever contact\\cleaned_contract_fixed_final.txt\"\n",
    "#file_path = r\"C:\\Users\\hp\\Downloads\\clever contact\\cleanedcontract2.txt\"\n",
    "#file_path = r\"C:\\Users\\hp\\Downloads\\clever contact\\cleanedcontract3.txt\"\n",
    "file_path = r\"C:\\Users\\hp\\Downloads\\clever contact\\cleanedcontract4.txt\"\n",
    "\n",
    "\n",
    "with open(file_path, \"r\", encoding=\"utf-8\") as f:\n",
    "    contract_text = f.read()\n",
    "\n",
    "\n",
    "sentence = Sentence(contract_text)\n",
    "\n",
    "#predict \n",
    "tagger.predict(sentence)\n",
    "print(\" Résultat de l'anonymisation :\")\n",
    "print(sentence.to_tagged_string())\n"
   ]
  },
  {
   "cell_type": "code",
   "execution_count": 23,
   "metadata": {},
   "outputs": [],
   "source": [
    "import json\n",
    "#  Extract detected entities and store them in a list\n",
    "extracted_entities = []\n",
    "for entity in sentence.get_spans(\"ner\"):\n",
    "    extracted_entities.append({\n",
    "        \"text\": entity.text,\n",
    "        \"type\": entity.tag,\n",
    "        \"start\": entity.start_position,\n",
    "        \"end\": entity.end_position\n",
    "    })\n",
    "\n",
    "#  Save extracted entities to a JSON file\n",
    "json_output_file = \"flair_finetuned_withnewdataset_entities4.json\"\n",
    "with open(json_output_file, \"w\", encoding=\"utf-8\") as f:\n",
    "    json.dump(extracted_entities, f, indent=4, ensure_ascii=False)"
   ]
  },
  {
   "cell_type": "code",
   "execution_count": null,
   "metadata": {},
   "outputs": [],
   "source": []
  },
  {
   "cell_type": "code",
   "execution_count": null,
   "metadata": {},
   "outputs": [
    {
     "name": "stdout",
     "output_type": "stream",
     "text": [
      "train.spacy file created in C:\\Users\\hp\\Downloads\\clever contact!\n",
      "validation.spacy file created in C:\\Users\\hp\\Downloads\\clever contact!\n"
     ]
    }
   ],
   "source": [
    "import spacy\n",
    "from datasets import load_dataset\n",
    "from spacy.tokens import DocBin\n",
    "\n",
    "# Load the dataset from Hugging Face\n",
    "dataset = load_dataset(\"taln-ls2n/Adminset-NER\")\n",
    "\n",
    "# Load spaCy tokenizer\n",
    "nlp = spacy.blank(\"fr\")\n",
    "\n",
    "def create_spacy_doc(tokens, ner_tags):\n",
    "    doc = nlp.make_doc(\" \".join(tokens))\n",
    "    ents = []\n",
    "    current_ent = None\n",
    "\n",
    "    offset = 0\n",
    "    for token, tag_label in zip(tokens, ner_tags):\n",
    "        token_len = len(token)\n",
    "\n",
    "        if tag_label.startswith(\"B-\"):\n",
    "            if current_ent:\n",
    "                ents.append(current_ent)\n",
    "            current_ent = [offset, offset + token_len, tag_label[2:]]\n",
    "        elif tag_label.startswith(\"I-\") and current_ent and current_ent[2] == tag_label[2:]:\n",
    "            current_ent[1] = offset + token_len\n",
    "        else:\n",
    "            if current_ent:\n",
    "                ents.append(current_ent)\n",
    "                current_ent = None\n",
    "        offset += token_len + 1  # account for spaces\n",
    "\n",
    "    if current_ent:\n",
    "        ents.append(current_ent)\n",
    "\n",
    "    # Assign entities to the doc\n",
    "    spacy_ents = []\n",
    "    for start, end, label in ents:\n",
    "        span = doc.char_span(start, end, label=label, alignment_mode='expand')\n",
    "        if span:\n",
    "            spacy_ents.append(span)\n",
    "\n",
    "    doc.ents = spacy_ents\n",
    "\n",
    "    return doc\n",
    "import os\n",
    "\n",
    "\n",
    "\n",
    "output_dir = r\"C:\\Users\\hp\\Downloads\\clever contact\"\n",
    "\n",
    "def convert_to_spacy_format(split, output_dir=\".\"):\n",
    "    db = DocBin()\n",
    "    for item in dataset[split]:\n",
    "        doc = create_spacy_doc(item['tokens'], item['ner_tags'])\n",
    "        db.add(doc)\n",
    "    db.to_disk(os.path.join(output_dir, f\"{split}.spacy\"))\n",
    "    print(f\"{split}.spacy file created in {output_dir}!\")\n",
    "\n",
    "convert_to_spacy_format(\"train\", output_dir=output_dir)\n",
    "convert_to_spacy_format(\"validation\", output_dir=output_dir)\n",
    "\n"
   ]
  },
  {
   "cell_type": "code",
   "execution_count": 29,
   "metadata": {},
   "outputs": [
    {
     "name": "stdout",
     "output_type": "stream",
     "text": [
      "\u001b[38;5;4mℹ Saving to output directory: spacy_ner_output\u001b[0m\n",
      "\u001b[38;5;4mℹ Using CPU\u001b[0m\n",
      "\u001b[1m\n",
      "=========================== Initializing pipeline ===========================\u001b[0m\n",
      "\u001b[38;5;2m✔ Initialized pipeline\u001b[0m\n",
      "\u001b[1m\n",
      "============================= Training pipeline =============================\u001b[0m\n",
      "\u001b[38;5;4mℹ Pipeline: ['tok2vec', 'ner']\u001b[0m\n",
      "\u001b[38;5;4mℹ Initial learn rate: 0.001\u001b[0m\n",
      "E    #       LOSS TOK2VEC  LOSS NER  ENTS_F  ENTS_P  ENTS_R  SCORE \n",
      "---  ------  ------------  --------  ------  ------  ------  ------\n",
      "  0       0          0.00     55.93    0.47    0.79    0.33    0.00\n",
      "  0     200          0.00   2375.16   14.16   46.30    8.36    0.14\n",
      "  0     400          0.00   1259.80   20.79   40.00   14.05    0.21\n",
      "  1     600          0.00   1316.02   28.19   42.57   21.07    0.28\n",
      "  2     800          0.00   1351.78   43.94   69.57   32.11    0.44\n",
      "  2    1000          0.00   1342.49   44.24   68.06   32.78    0.44\n",
      "  3    1200          0.00   1387.31   56.36   67.92   48.16    0.56\n",
      "  5    1400          0.00   1443.17   54.36   69.07   44.82    0.54\n",
      "  6    1600          0.00   1315.43   47.06   56.87   40.13    0.47\n",
      "  8    1800          0.00   1318.95   43.85   51.58   38.13    0.44\n",
      "\u001b[38;5;2m✔ Saved pipeline to output directory\u001b[0m\n",
      "spacy_ner_output\\model-last\n"
     ]
    }
   ],
   "source": [
    "import spacy\n",
    "from spacy.cli.train import train\n",
    "\n",
    "config_str = r\"\"\"\n",
    "[paths]\n",
    "train = r\"C:\\Users\\hp\\Downloads\\clever contact\\train.spacy\"\n",
    "dev = r\"C:\\Users\\hp\\Downloads\\clever contact\\validation.spacy\"\n",
    "\n",
    "[system]\n",
    "gpu_allocator = null\n",
    "\n",
    "[nlp]\n",
    "lang = \"fr\"\n",
    "pipeline = [\"tok2vec\", \"ner\"]\n",
    "batch_size = 64\n",
    "\n",
    "[components]\n",
    "\n",
    "[components.tok2vec]\n",
    "factory = \"tok2vec\"\n",
    "\n",
    "[components.ner]\n",
    "factory = \"ner\"\n",
    "\n",
    "[training]\n",
    "seed = 42\n",
    "gpu_allocator = null\n",
    "max_epochs = 10\n",
    "patience = 1000\n",
    "\n",
    "[training.optimizer]\n",
    "@optimizers = \"Adam.v1\"\n",
    "learn_rate = 0.001\n",
    "L2 = 0.01\n",
    "grad_clip = 1.0\n",
    "\n",
    "[initialize]\n",
    "vectors = null\n",
    "\"\"\"\n",
    "\n",
    "# Write the corrected configuration to file\n",
    "with open(\"config.cfg\", \"w\", encoding=\"utf-8\") as f:\n",
    "    f.write(config_str)\n",
    "\n",
    "train(\"config.cfg\", output_path=\"spacy_ner_output\",\n",
    "      overrides={\n",
    "          \"paths.train\": r\"C:\\Users\\hp\\Downloads\\clever contact\\train.spacy\",\n",
    "          \"paths.dev\": r\"C:\\Users\\hp\\Downloads\\clever contact\\validation.spacy\"\n",
    "      })\n",
    "\n"
   ]
  },
  {
   "cell_type": "code",
   "execution_count": 24,
   "metadata": {},
   "outputs": [],
   "source": [
    "\n",
    "import spacy\n",
    "nlp_trained = spacy.load(\"spacy_ner_output/model-best\")\n",
    "\n",
    "\n"
   ]
  },
  {
   "cell_type": "code",
   "execution_count": 25,
   "metadata": {},
   "outputs": [
    {
     "name": "stdout",
     "output_type": "stream",
     "text": [
      "Résultat de l'anonymisation :\n",
      "BPM060225 (LOC)\n",
      "BPM060225 (LOC)\n",
      "BPM060225_DATAVAL BPM060225 (PER)\n",
      "CCAP BPM060225_DATAVAL BPM060225 (ORG)\n",
      "CCAP BPM060225_DATAVAL BPM060225 (ORG)\n",
      "Monnaie 38 (PER)\n",
      "BPM060225_DATAVAL BPM060225 (PER)\n",
      "BPM060225_DATAVAL BPM060225 (PER)\n",
      "CCAP (ORG)\n",
      "Département ministériel Partie (ORG)\n",
      "Direction Générale de la Santé\n",
      "DGOS (ORG)\n",
      "CCAP (ORG)\n",
      "CCAP BPM060225_DATAVAL BPM060225 (ORG)\n",
      "PARIS (LOC)\n",
      "Business (LOC)\n",
      "CCAP BPM060225_DATAVAL BPM060225 (ORG)\n",
      "MOE (ORG)\n",
      "Direction du Numérique (ORG)\n",
      "MOE (ORG)\n",
      "CCAP BPM060225_DATAVAL BPM060225 (ORG)\n",
      "CCAP BPM060225_DATAVAL BPM060225 (ORG)\n",
      "CCAP BPM060225_DATAVAL BPM060225 (ORG)\n",
      "Dataval Charte Accès (PER)\n",
      "Dataval RGAA (PER)\n",
      "l'État (ORG)\n",
      "CCAP BPM060225_DATAVAL BPM060225 (ORG)\n",
      "CCAP BPM060225_DATAVAL BPM060225 (ORG)\n",
      "CCAP BPM060225_DATAVAL BPM060225 (ORG)\n",
      "MCO (LOC)\n",
      "CCAG-TIC (ORG)\n",
      "CCAP BPM060225_DATAVAL BPM060225 (ORG)\n",
      "CCAP BPM060225_DATAVAL BPM060225 (ORG)\n",
      "CCAG de références (ORG)\n",
      "CCAP BPM060225_DATAVAL BPM060225 (ORG)\n",
      "ICHT (LOC)\n",
      "l'INSEE (ORG)\n",
      "l'INSEE (ORG)\n",
      "CCAP BPM060225_DATAVAL BPM060225 (ORG)\n",
      "CCAP BPM060225_DATAVAL BPM060225 (ORG)\n",
      "CCAP BPM060225_DATAVAL BPM060225 (ORG)\n",
      "CCAG de référence (ORG)\n",
      "CCAP BPM060225_DATAVAL BPM060225 (ORG)\n",
      "CCAP BPM060225_DATAVAL BPM060225 (ORG)\n",
      "CCAG de (ORG)\n",
      "CCAG-TIC (ORG)\n",
      "CCTP (ORG)\n",
      "CCAG-TIC (ORG)\n",
      "CCAG-TIC (ORG)\n",
      "CCAP BPM060225_DATAVAL BPM060225 (ORG)\n",
      "CCTP (ORG)\n",
      "CCAG-TIC (ORG)\n",
      "CCTP (ORG)\n",
      "Allocation Adulte Handicapé (ORG)\n",
      "EPIDE (LOC)\n",
      "IAE (ORG)\n",
      "ETTI (ORG)\n",
      "CCAP BPM060225_DATAVAL BPM060225 (ORG)\n",
      "ACI (ORG)\n",
      "SEP / (ORG)\n",
      "CDI (ORG)\n",
      "CDI (ORG)\n",
      "CCAP BPM060225_DATAVAL BPM060225 (ORG)\n",
      "Rebeca GOMIS (PER)\n",
      "SIAE (ORG)\n",
      "CCAP BPM060225_DATAVAL BPM060225 (ORG)\n",
      "ARCHE MC2 (ORG)\n",
      "Paris (LOC)\n",
      "CCAP BPM060225_DATAVAL BPM060225 (ORG)\n",
      "Commission Nationale de lInformatique (ORG)\n",
      "Commission Nationale de lInformatique (ORG)\n",
      "Place de Fontenoy (LOC)\n",
      "PARIS (LOC)\n",
      "CCAG-TIC (ORG)\n",
      "CCAP BPM060225_DATAVAL BPM060225 (ORG)\n",
      "tribunal administratif de Paris (ORG)\n",
      "CCAG-TIC (ORG)\n",
      "CCAP BPM060225_DATAVAL BPM060225 (ORG)\n",
      "MOM (ORG)\n",
      "SONAR (ORG)\n",
      "MOM (ORG)\n",
      "CCAP BPM060225_DATAVAL BPM060225 (ORG)\n",
      "DNUM (ORG)\n",
      "CCAG-TIC (ORG)\n",
      "CCAG-TIC (ORG)\n",
      "CCAP BPM060225_DATAVAL BPM060225 (ORG)\n",
      "CCTP (ORG)\n",
      "CCAP BPM060225_DATAVAL BPM060225 (ORG)\n",
      "CCAG-TIC (ORG)\n",
      "CCAG-TIC (ORG)\n",
      "CCAG-TIG (ORG)\n",
      "CCAG-TIC (ORG)\n",
      "CCAP BPM060225_DATAVAL BPM060225 (ORG)\n",
      "CCAG-TIC (ORG)\n",
      "CCAP BPM060225_DATAVAL BPM060225 (ORG)\n",
      "CCAG TIC (ORG)\n",
      "CCAP BPM060225_DATAVAL BPM060225 (ORG)\n",
      "CBCM (ORG)\n",
      "CCAP BPM060225_DATAVAL BPM060225 (ORG)\n",
      "HNO (ORG)\n",
      "CCAP (ORG)\n",
      "CCAP BPM060225_DATAVAL BPM060225 (ORG)\n",
      "Mode EDI (PER)\n",
      "Chorus (LOC)\n",
      "PARIS 07 (LOC)\n",
      "CCAP BPM060225_DATAVAL BPM060225 (ORG)\n",
      "PARIS 07 (LOC)\n",
      "CCAP BPM060225_DATAVAL BPM060225 (ORG)\n",
      "RGPD (ORG)\n",
      "CCAP BPM060225_DATAVAL BPM060225 (ORG)\n",
      "CCAP BPM060225_DATAVAL BPM060225 (ORG)\n",
      "CCAP BPM060225_DATAVAL BPM060225 (ORG)\n",
      "RGPD (ORG)\n",
      "RGPD (ORG)\n",
      "CCAG-TIC (ORG)\n",
      "CCTP (ORG)\n",
      "CCTP (ORG)\n",
      "la France (LOC)\n",
      "CCAP BPM060225_DATAVAL BPM060225 (ORG)\n",
      "CCAG-TIC (ORG)\n",
      "CCAP BPM060225_DATAVAL BPM060225 (ORG)\n",
      "CCAG de (ORG)\n",
      "CCAG TIC (ORG)\n",
      "CCAG-TIC (ORG)\n",
      "CCAG de référence (ORG)\n",
      "CCAP BPM060225_DATAVAL BPM060225 (ORG)\n",
      "CCAG-TIC (ORG)\n",
      "CCAG-TIC (ORG)\n",
      "CCAG-TIC (ORG)\n",
      "CCAP BPM060225_DATAVAL BPM060225 (ORG)\n",
      "CCAG de (ORG)\n",
      "CCAG (ORG)\n",
      "CCAP BPM060225_DATAVAL BPM060225 (ORG)\n",
      "CCAG de référence (ORG)\n",
      "CCAG TIC (ORG)\n",
      "CCAP BPM060225_DATAVAL BPM060225 (ORG)\n",
      "Tribunal administratif de Paris (ORG)\n",
      "Paris (LOC)\n",
      "Paris (LOC)\n",
      "CCAG-TIC (ORG)\n",
      "CCAG\n",
      " (ORG)\n"
     ]
    }
   ],
   "source": [
    "import spacy\n",
    "\n",
    "\n",
    "#file_path = r\"C:\\Users\\hp\\Downloads\\clever contact\\cleanedcontract2.txt\"\n",
    "#file_path = r\"C:\\Users\\hp\\Downloads\\clever contact\\cleanedcontract3.txt\"\n",
    "file_path = r\"C:\\Users\\hp\\Downloads\\clever contact\\cleanedcontract4.txt\"\n",
    "# Load the text file\n",
    "#file_path = r\"C:\\Users\\hp\\Downloads\\clever contact\\cleaned_contract_fixed_final.txt\"\n",
    "\n",
    "with open(file_path, \"r\", encoding=\"utf-8\") as f:\n",
    "    contract_text = f.read()\n",
    "\n",
    "# Predict entities using spaCy\n",
    "doc = nlp_trained(contract_text)\n",
    "\n",
    "# Display results\n",
    "print(\"Résultat de l'anonymisation :\")\n",
    "for ent in doc.ents:\n",
    "    print(f\"{ent.text} ({ent.label_})\")\n"
   ]
  },
  {
   "cell_type": "code",
   "execution_count": 26,
   "metadata": {},
   "outputs": [],
   "source": [
    "# Extract entities into a structured list\n",
    "extracted_entities = []\n",
    "for ent in doc.ents:\n",
    "    extracted_entities.append({\n",
    "        \"text\": ent.text,\n",
    "        \"type\": ent.label_,\n",
    "        \"start\": ent.start_char,\n",
    "        \"end\": ent.end_char\n",
    "    })\n",
    "\n",
    "# Save extracted entities to JSON file\n",
    "json_output_file = \"spacy_finetuned_withnewdataset_entities4.json\"\n",
    "with open(json_output_file, \"w\", encoding=\"utf-8\") as f:\n",
    "    json.dump(extracted_entities, f, indent=4, ensure_ascii=False)\n"
   ]
  },
  {
   "cell_type": "code",
   "execution_count": 36,
   "metadata": {},
   "outputs": [
    {
     "name": "stdout",
     "output_type": "stream",
     "text": [
      " Entités filtrées sauvegardées dans 'filtered_spacy_entities4.json'\n"
     ]
    }
   ],
   "source": [
    "import json\n",
    "\n",
    "def filter_entities_by_suffix(entities, suffix=\"_2MAINS\"):\n",
    "    filtered_entities = [entity for entity in entities if not entity['text'].endswith(suffix)]\n",
    "    return filtered_entities\n",
    "\n",
    "\n",
    "with open(\"spacy_finetuned_withnewdataset_entities4.json\", \"r\", encoding=\"utf-8\") as f:\n",
    "    entities = json.load(f)\n",
    "\n",
    "# Application of the filtre\n",
    "filtered_entities = filter_entities_by_suffix(entities, \"_2MAINS\")\n",
    "\n",
    "\n",
    "with open(\"filtered_spacy_entities4.json\", \"w\", encoding=\"utf-8\") as f:\n",
    "    json.dump(filtered_entities, f, indent=4, ensure_ascii=False)\n",
    "\n",
    "print(\" Entités filtrées sauvegardées dans 'filtered_spacy_entities4.json'\")\n"
   ]
  },
  {
   "cell_type": "code",
   "execution_count": 32,
   "metadata": {},
   "outputs": [
    {
     "name": "stdout",
     "output_type": "stream",
     "text": [
      "Current working directory: C:\\Users\\hp\\Downloads\\clever contact\n"
     ]
    }
   ],
   "source": [
    "import os\n",
    "# Change working directory to the correct path\n",
    "os.chdir(r\"C:\\Users\\hp\\Downloads\\clever contact\")\n",
    "\n",
    "# Verify the new working directory\n",
    "print(\"Current working directory:\", os.getcwd())"
   ]
  },
  {
   "cell_type": "markdown",
   "metadata": {},
   "source": []
  },
  {
   "cell_type": "code",
   "execution_count": 37,
   "metadata": {},
   "outputs": [
    {
     "name": "stdout",
     "output_type": "stream",
     "text": [
      " Loaded 140 entities from SpaCy output!\n",
      " Loaded 42 entities from Flair output!\n",
      "\n",
      " Merged NER results saved in withnewdataset_merged_spacy_flair_entities4.json!\n",
      "\n",
      " Final Merged Entities Sample:\n",
      "Entity: BPM060225 | Type: LOC\n",
      "Entity: BPM060225_DATAVAL BPM060225 | Type: PER\n",
      "Entity: CCAP BPM060225_DATAVAL BPM060225 | Type: ORG\n",
      "Entity: Monnaie 38 | Type: PER\n",
      "Entity: CCAP | Type: ORG\n",
      "Entity: Département ministériel Partie | Type: ORG\n",
      "Entity: Direction Générale de la Santé\n",
      "DGOS | Type: ORG\n",
      "Entity: PARIS | Type: LOC\n",
      "Entity: Business | Type: LOC\n",
      "Entity: MOE | Type: ORG\n"
     ]
    }
   ],
   "source": [
    "import json\n",
    "\n",
    "def merge_ner_results(spacy_results, flair_results):\n",
    "    \"\"\" Merges SpaCy and Flair results by matching entity text. \"\"\"\n",
    "    merged_entities = []\n",
    "    entity_dict = {}\n",
    "\n",
    "    # Combine entities from both models\n",
    "    for entity in spacy_results + flair_results:\n",
    "        key = entity[\"text\"]  # Match by entity text only\n",
    "\n",
    "        if key in entity_dict:\n",
    "            existing = entity_dict[key]\n",
    "            # If the entity types are the same, keep one\n",
    "            if entity[\"type\"] == existing[\"type\"]:  \n",
    "                entity_dict[key] = entity  \n",
    "        else:\n",
    "            entity_dict[key] = entity  # Add new entity if it's not present\n",
    "\n",
    "    return list(entity_dict.values())\n",
    "\n",
    "# File paths\n",
    "spacy_json_path = \"filtered_spacy_entities4.json\"\n",
    "flair_json_path = \"flair_finetuned_withnewdataset_entities4.json\"\n",
    "merged_output_path = \"withnewdataset_merged_spacy_flair_entities4.json\"\n",
    "\n",
    "# Load extracted entities from JSON files\n",
    "with open(spacy_json_path, \"r\", encoding=\"utf-8\") as f:\n",
    "    spacy_entities = json.load(f)\n",
    "print(f\" Loaded {len(spacy_entities)} entities from SpaCy output!\")\n",
    "\n",
    "with open(flair_json_path, \"r\", encoding=\"utf-8\") as f:\n",
    "    flair_entities = json.load(f)\n",
    "print(f\" Loaded {len(flair_entities)} entities from Flair output!\")\n",
    "\n",
    "# Merge SpaCy & Flair results\n",
    "final_entities = merge_ner_results(spacy_entities, flair_entities)\n",
    "\n",
    "# Save merged results to a new JSON file\n",
    "with open(merged_output_path, \"w\", encoding=\"utf-8\") as f:\n",
    "    json.dump(final_entities, f, ensure_ascii=False, indent=4)\n",
    "\n",
    "print(f\"\\n Merged NER results saved in {merged_output_path}!\")\n",
    "\n",
    "# Print some merged entities for verification\n",
    "print(\"\\n Final Merged Entities Sample:\")\n",
    "for entity in final_entities[:10]:  # Print only first 10\n",
    "    print(f\"Entity: {entity['text']} | Type: {entity['type']}\")\n"
   ]
  },
  {
   "cell_type": "code",
   "execution_count": 38,
   "metadata": {},
   "outputs": [
    {
     "name": "stdout",
     "output_type": "stream",
     "text": [
      " Loaded 140 entities from SpaCy output!\n",
      " Loaded 42 entities from Flair output!\n",
      "\n",
      " Common NER results saved in withnewdataset_common_spacy_flair_entities4.json!\n",
      "\n",
      " Common Entities Found in Both SpaCy & Flair:\n",
      "Entity: PARIS | Type: LOC\n",
      "Entity: CCAG-TIC | Type: ORG\n",
      "Entity: CCAG-TIC | Type: ORG\n",
      "Entity: CCAG-TIC | Type: ORG\n",
      "Entity: CCAG-TIC | Type: ORG\n",
      "Entity: CCAG-TIC | Type: ORG\n",
      "Entity: Rebeca GOMIS | Type: PER\n",
      "Entity: ARCHE MC2 | Type: ORG\n",
      "Entity: Paris | Type: LOC\n",
      "Entity: PARIS | Type: LOC\n"
     ]
    }
   ],
   "source": [
    "import json\n",
    "\n",
    "def get_common_entities(spacy_results, flair_results):\n",
    "    \"\"\"Extracts only entities that are common between SpaCy and Flair.\"\"\"\n",
    "    common_entities = []\n",
    "    \n",
    "    # Convert Flair entities into a dictionary for quick lookup\n",
    "    flair_dict = { (entity[\"text\"].lower(), entity[\"type\"]) for entity in flair_results }\n",
    "\n",
    "    # Compare each SpaCy entity to Flair's results\n",
    "    for entity in spacy_results:\n",
    "        key = (entity[\"text\"].lower(), entity[\"type\"])  # Normalize case\n",
    "        if key in flair_dict:  # Entity exists in both SpaCy and Flair\n",
    "            common_entities.append(entity)\n",
    "\n",
    "    return common_entities \n",
    "\n",
    "# File paths\n",
    "spacy_json_path = \"filtered_spacy_entities4.json\"\n",
    "flair_json_path = \"flair_finetuned_withnewdataset_entities4.json\"\n",
    "common_output_path = \"withnewdataset_common_spacy_flair_entities4.json\"\n",
    "\n",
    "# Load extracted entities from JSON files\n",
    "with open(spacy_json_path, \"r\", encoding=\"utf-8\") as f:\n",
    "    spacy_entities = json.load(f)\n",
    "print(f\" Loaded {len(spacy_entities)} entities from SpaCy output!\")\n",
    "\n",
    "with open(flair_json_path, \"r\", encoding=\"utf-8\") as f:\n",
    "    flair_entities = json.load(f)\n",
    "print(f\" Loaded {len(flair_entities)} entities from Flair output!\")\n",
    "\n",
    "# Find common entities\n",
    "common_entities = get_common_entities(spacy_entities, flair_entities)\n",
    "\n",
    "# Save common results to a new JSON file\n",
    "with open(common_output_path, \"w\", encoding=\"utf-8\") as f:\n",
    "    json.dump(common_entities, f, ensure_ascii=False, indent=4)\n",
    "\n",
    "print(f\"\\n Common NER results saved in {common_output_path}!\")\n",
    "\n",
    "# Print some common entities for verification\n",
    "print(\"\\n Common Entities Found in Both SpaCy & Flair:\")\n",
    "for entity in common_entities[:10]:  # Print only first 10\n",
    "    print(f\"Entity: {entity['text']} | Type: {entity['type']}\")\n"
   ]
  }
 ],
 "metadata": {
  "kernelspec": {
   "display_name": "Python 3",
   "language": "python",
   "name": "python3"
  },
  "language_info": {
   "codemirror_mode": {
    "name": "ipython",
    "version": 3
   },
   "file_extension": ".py",
   "mimetype": "text/x-python",
   "name": "python",
   "nbconvert_exporter": "python",
   "pygments_lexer": "ipython3",
   "version": "3.12.7"
  }
 },
 "nbformat": 4,
 "nbformat_minor": 2
}
