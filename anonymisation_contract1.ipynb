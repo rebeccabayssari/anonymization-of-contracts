{
 "cells": [
  {
   "cell_type": "code",
   "execution_count": 2,
   "metadata": {},
   "outputs": [
    {
     "name": "stdout",
     "output_type": "stream",
     "text": [
      " Anonymized contract saved to anonymized_contract1.txt\n"
     ]
    }
   ],
   "source": [
    "import json\n",
    "\n",
    "def load_entities(json_path):\n",
    "    with open(json_path, \"r\", encoding=\"utf-8\") as f:\n",
    "        return json.load(f)\n",
    "\n",
    "def anonymize_text(text, entities, mode=\"mask\"):\n",
    "    \"\"\"\n",
    "    Replace sensitive entities in the text.\n",
    "    \n",
    "    Parameters:\n",
    "      - text: the original text.\n",
    "      - entities: a list of dictionaries with keys \"text\", \"type\", \"start\", \"end\".\n",
    "      - mode: if \"mask\", replace with a string of '#' characters (matching the entity length);\n",
    "              if \"type\", replace with the entity type in brackets (e.g. [PER]).\n",
    "              \n",
    "    Returns:\n",
    "      The anonymized text.\n",
    "    \"\"\"\n",
    "    # Sort entities in descending order by start index.\n",
    "    entities_sorted = sorted(entities, key=lambda x: x[\"start\"], reverse=True)\n",
    "    \n",
    "    anonymized_text = text\n",
    "    for ent in entities_sorted:\n",
    "        start, end = ent[\"start\"], ent[\"end\"]\n",
    "        if mode == \"mask\":\n",
    "            replacement = \"#\" * (end - start)  # Replace each character with '#'\n",
    "        elif mode == \"type\":\n",
    "            replacement = f\"[{ent['type']}]\"\n",
    "        else:\n",
    "            replacement = \"###\"  # default\n",
    "        \n",
    "        anonymized_text = anonymized_text[:start] + replacement + anonymized_text[end:]\n",
    "    \n",
    "    return anonymized_text\n",
    "\n",
    "entities = load_entities(r\"C:\\Users\\hp\\Downloads\\clever contact\\models_contract_1\\withnewdataset_merged_spacy_flair_entities.json\")\n",
    "\n",
    "\n",
    "with open(r\"C:\\Users\\hp\\Downloads\\clever contact\\cleaned_contracts\\cleaned_contract_fixed_final.txt\", \"r\", encoding=\"utf-8\") as f:\n",
    "    contract_text = f.read()\n",
    "\n",
    "# Choose anonymization mode: \"mask\" to replace with hashes, or \"type\" to replace with entity type\n",
    "anonymized = anonymize_text(contract_text, entities, mode=\"mask\")\n",
    "\n",
    "\n",
    "output_path = \"anonymized_contract1.txt\"\n",
    "with open(output_path, \"w\", encoding=\"utf-8\") as f:\n",
    "    f.write(anonymized)\n",
    "\n",
    "print(f\" Anonymized contract saved to {output_path}\")\n"
   ]
  }
 ],
 "metadata": {
  "kernelspec": {
   "display_name": "Python 3",
   "language": "python",
   "name": "python3"
  },
  "language_info": {
   "codemirror_mode": {
    "name": "ipython",
    "version": 3
   },
   "file_extension": ".py",
   "mimetype": "text/x-python",
   "name": "python",
   "nbconvert_exporter": "python",
   "pygments_lexer": "ipython3",
   "version": "3.12.7"
  }
 },
 "nbformat": 4,
 "nbformat_minor": 2
}
